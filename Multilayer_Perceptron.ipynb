{
 "cells": [
  {
   "cell_type": "markdown",
   "id": "fitting-finland",
   "metadata": {},
   "source": [
    "# Multilayer Perceptron"
   ]
  },
  {
   "cell_type": "code",
   "execution_count": 2,
   "id": "sharp-replication",
   "metadata": {},
   "outputs": [],
   "source": [
    "import numpy as np\n",
    "import pandas as pd\n",
    "import seaborn as sns\n",
    "from scipy import stats\n",
    "import matplotlib.pyplot as plt\n",
    "from sklearn import metrics\n",
    "\n",
    "import statsmodels.api as sm\n",
    "from statsmodels.stats import diagnostic as diag\n",
    "from statsmodels.stats.outliers_influence import variance_inflation_factor\n",
    "\n",
    "from sklearn.datasets import make_classification\n",
    "from sklearn.neural_network import MLPClassifier\n",
    "from sklearn.model_selection import train_test_split"
   ]
  },
  {
   "cell_type": "code",
   "execution_count": 3,
   "id": "further-genesis",
   "metadata": {
    "scrolled": true
   },
   "outputs": [
    {
     "data": {
      "text/html": [
       "<div>\n",
       "<style scoped>\n",
       "    .dataframe tbody tr th:only-of-type {\n",
       "        vertical-align: middle;\n",
       "    }\n",
       "\n",
       "    .dataframe tbody tr th {\n",
       "        vertical-align: top;\n",
       "    }\n",
       "\n",
       "    .dataframe thead th {\n",
       "        text-align: right;\n",
       "    }\n",
       "</style>\n",
       "<table border=\"1\" class=\"dataframe\">\n",
       "  <thead>\n",
       "    <tr style=\"text-align: right;\">\n",
       "      <th></th>\n",
       "      <th>Type</th>\n",
       "      <th>Location</th>\n",
       "      <th>Bedrooms</th>\n",
       "      <th>Bathrooms</th>\n",
       "      <th>Floor</th>\n",
       "      <th>Floors Area</th>\n",
       "      <th>Lot Area</th>\n",
       "      <th>Garage</th>\n",
       "      <th>Garden</th>\n",
       "      <th>Pet Friendly</th>\n",
       "      <th>Reservation Fee</th>\n",
       "      <th>Price</th>\n",
       "      <th>Link</th>\n",
       "    </tr>\n",
       "  </thead>\n",
       "  <tbody>\n",
       "    <tr>\n",
       "      <th>0</th>\n",
       "      <td>House and Lot</td>\n",
       "      <td>Las Pinas City</td>\n",
       "      <td>2</td>\n",
       "      <td>1</td>\n",
       "      <td>2</td>\n",
       "      <td>67.0</td>\n",
       "      <td>55.0</td>\n",
       "      <td>1</td>\n",
       "      <td>yes</td>\n",
       "      <td>yes</td>\n",
       "      <td>0</td>\n",
       "      <td>3900001</td>\n",
       "      <td>2 bedroom House / Lot for sale in Las Pinas Ci...</td>\n",
       "    </tr>\n",
       "    <tr>\n",
       "      <th>1</th>\n",
       "      <td>House and Lot</td>\n",
       "      <td>Las Pinas City</td>\n",
       "      <td>3</td>\n",
       "      <td>2</td>\n",
       "      <td>2</td>\n",
       "      <td>78.0</td>\n",
       "      <td>58.0</td>\n",
       "      <td>1</td>\n",
       "      <td>yes</td>\n",
       "      <td>yes</td>\n",
       "      <td>30000</td>\n",
       "      <td>4987000</td>\n",
       "      <td>3 bedroom House / Lot for sale in Las Pinas Ci...</td>\n",
       "    </tr>\n",
       "    <tr>\n",
       "      <th>2</th>\n",
       "      <td>House and Lot</td>\n",
       "      <td>Quezon City</td>\n",
       "      <td>3</td>\n",
       "      <td>2</td>\n",
       "      <td>2</td>\n",
       "      <td>65.0</td>\n",
       "      <td>60.0</td>\n",
       "      <td>1</td>\n",
       "      <td>yes</td>\n",
       "      <td>yes</td>\n",
       "      <td>50000</td>\n",
       "      <td>4200000</td>\n",
       "      <td>3 bedroom House / Lot for sale in Quezon City ...</td>\n",
       "    </tr>\n",
       "    <tr>\n",
       "      <th>3</th>\n",
       "      <td>Townhouse</td>\n",
       "      <td>Las Pinas City</td>\n",
       "      <td>3</td>\n",
       "      <td>2</td>\n",
       "      <td>2</td>\n",
       "      <td>70.0</td>\n",
       "      <td>52.0</td>\n",
       "      <td>1</td>\n",
       "      <td>yes</td>\n",
       "      <td>yes</td>\n",
       "      <td>30000</td>\n",
       "      <td>4480000</td>\n",
       "      <td>3 bedroom Townhouse for sale in Las Pinas City...</td>\n",
       "    </tr>\n",
       "    <tr>\n",
       "      <th>4</th>\n",
       "      <td>House and Lot</td>\n",
       "      <td>Quezon City</td>\n",
       "      <td>3</td>\n",
       "      <td>2</td>\n",
       "      <td>2</td>\n",
       "      <td>65.0</td>\n",
       "      <td>48.0</td>\n",
       "      <td>1</td>\n",
       "      <td>yes</td>\n",
       "      <td>yes</td>\n",
       "      <td>50000</td>\n",
       "      <td>3800000</td>\n",
       "      <td>3 bedroom House / Lot for sale in Quezon City ...</td>\n",
       "    </tr>\n",
       "  </tbody>\n",
       "</table>\n",
       "</div>"
      ],
      "text/plain": [
       "            Type        Location  Bedrooms  Bathrooms  Floor  Floors Area  \\\n",
       "0  House and Lot  Las Pinas City         2          1      2         67.0   \n",
       "1  House and Lot  Las Pinas City         3          2      2         78.0   \n",
       "2  House and Lot     Quezon City         3          2      2         65.0   \n",
       "3      Townhouse  Las Pinas City         3          2      2         70.0   \n",
       "4  House and Lot     Quezon City         3          2      2         65.0   \n",
       "\n",
       "   Lot Area  Garage Garden Pet Friendly  Reservation Fee    Price  \\\n",
       "0      55.0       1    yes          yes                0  3900001   \n",
       "1      58.0       1    yes          yes            30000  4987000   \n",
       "2      60.0       1    yes          yes            50000  4200000   \n",
       "3      52.0       1    yes          yes            30000  4480000   \n",
       "4      48.0       1    yes          yes            50000  3800000   \n",
       "\n",
       "                                                Link  \n",
       "0  2 bedroom House / Lot for sale in Las Pinas Ci...  \n",
       "1  3 bedroom House / Lot for sale in Las Pinas Ci...  \n",
       "2  3 bedroom House / Lot for sale in Quezon City ...  \n",
       "3  3 bedroom Townhouse for sale in Las Pinas City...  \n",
       "4  3 bedroom House / Lot for sale in Quezon City ...  "
      ]
     },
     "execution_count": 3,
     "metadata": {},
     "output_type": "execute_result"
    }
   ],
   "source": [
    "data = pd.read_csv(\"property24.csv\")\n",
    "\n",
    "data.head()"
   ]
  },
  {
   "cell_type": "markdown",
   "id": "covered-principal",
   "metadata": {},
   "source": [
    "### Check for Nulls"
   ]
  },
  {
   "cell_type": "code",
   "execution_count": 4,
   "id": "isolated-memorabilia",
   "metadata": {},
   "outputs": [
    {
     "data": {
      "text/plain": [
       "'----------------------------------------------------------------------------------------------------'"
      ]
     },
     "metadata": {},
     "output_type": "display_data"
    },
    {
     "data": {
      "text/plain": [
       "Type               False\n",
       "Location           False\n",
       "Bedrooms           False\n",
       "Bathrooms          False\n",
       "Floor              False\n",
       "Floors Area        False\n",
       "Lot Area           False\n",
       "Garage             False\n",
       "Garden             False\n",
       "Pet Friendly       False\n",
       "Reservation Fee    False\n",
       "Price              False\n",
       "Link               False\n",
       "dtype: bool"
      ]
     },
     "metadata": {},
     "output_type": "display_data"
    }
   ],
   "source": [
    "display('-'*100)\n",
    "display(data.isnull().any())"
   ]
  },
  {
   "cell_type": "markdown",
   "id": "chemical-soundtrack",
   "metadata": {},
   "source": [
    "### Drop not needed column/s"
   ]
  },
  {
   "cell_type": "code",
   "execution_count": 5,
   "id": "dedicated-section",
   "metadata": {},
   "outputs": [
    {
     "data": {
      "text/html": [
       "<div>\n",
       "<style scoped>\n",
       "    .dataframe tbody tr th:only-of-type {\n",
       "        vertical-align: middle;\n",
       "    }\n",
       "\n",
       "    .dataframe tbody tr th {\n",
       "        vertical-align: top;\n",
       "    }\n",
       "\n",
       "    .dataframe thead th {\n",
       "        text-align: right;\n",
       "    }\n",
       "</style>\n",
       "<table border=\"1\" class=\"dataframe\">\n",
       "  <thead>\n",
       "    <tr style=\"text-align: right;\">\n",
       "      <th></th>\n",
       "      <th>Type</th>\n",
       "      <th>Location</th>\n",
       "      <th>Bedrooms</th>\n",
       "      <th>Bathrooms</th>\n",
       "      <th>Floor</th>\n",
       "      <th>Floors Area</th>\n",
       "      <th>Lot Area</th>\n",
       "      <th>Garage</th>\n",
       "      <th>Garden</th>\n",
       "      <th>Pet Friendly</th>\n",
       "      <th>Reservation Fee</th>\n",
       "      <th>Price</th>\n",
       "    </tr>\n",
       "  </thead>\n",
       "  <tbody>\n",
       "    <tr>\n",
       "      <th>0</th>\n",
       "      <td>House and Lot</td>\n",
       "      <td>Las Pinas City</td>\n",
       "      <td>2</td>\n",
       "      <td>1</td>\n",
       "      <td>2</td>\n",
       "      <td>67.0</td>\n",
       "      <td>55.0</td>\n",
       "      <td>1</td>\n",
       "      <td>yes</td>\n",
       "      <td>yes</td>\n",
       "      <td>0</td>\n",
       "      <td>3900001</td>\n",
       "    </tr>\n",
       "    <tr>\n",
       "      <th>1</th>\n",
       "      <td>House and Lot</td>\n",
       "      <td>Las Pinas City</td>\n",
       "      <td>3</td>\n",
       "      <td>2</td>\n",
       "      <td>2</td>\n",
       "      <td>78.0</td>\n",
       "      <td>58.0</td>\n",
       "      <td>1</td>\n",
       "      <td>yes</td>\n",
       "      <td>yes</td>\n",
       "      <td>30000</td>\n",
       "      <td>4987000</td>\n",
       "    </tr>\n",
       "    <tr>\n",
       "      <th>2</th>\n",
       "      <td>House and Lot</td>\n",
       "      <td>Quezon City</td>\n",
       "      <td>3</td>\n",
       "      <td>2</td>\n",
       "      <td>2</td>\n",
       "      <td>65.0</td>\n",
       "      <td>60.0</td>\n",
       "      <td>1</td>\n",
       "      <td>yes</td>\n",
       "      <td>yes</td>\n",
       "      <td>50000</td>\n",
       "      <td>4200000</td>\n",
       "    </tr>\n",
       "    <tr>\n",
       "      <th>3</th>\n",
       "      <td>Townhouse</td>\n",
       "      <td>Las Pinas City</td>\n",
       "      <td>3</td>\n",
       "      <td>2</td>\n",
       "      <td>2</td>\n",
       "      <td>70.0</td>\n",
       "      <td>52.0</td>\n",
       "      <td>1</td>\n",
       "      <td>yes</td>\n",
       "      <td>yes</td>\n",
       "      <td>30000</td>\n",
       "      <td>4480000</td>\n",
       "    </tr>\n",
       "    <tr>\n",
       "      <th>4</th>\n",
       "      <td>House and Lot</td>\n",
       "      <td>Quezon City</td>\n",
       "      <td>3</td>\n",
       "      <td>2</td>\n",
       "      <td>2</td>\n",
       "      <td>65.0</td>\n",
       "      <td>48.0</td>\n",
       "      <td>1</td>\n",
       "      <td>yes</td>\n",
       "      <td>yes</td>\n",
       "      <td>50000</td>\n",
       "      <td>3800000</td>\n",
       "    </tr>\n",
       "  </tbody>\n",
       "</table>\n",
       "</div>"
      ],
      "text/plain": [
       "            Type        Location  Bedrooms  Bathrooms  Floor  Floors Area  \\\n",
       "0  House and Lot  Las Pinas City         2          1      2         67.0   \n",
       "1  House and Lot  Las Pinas City         3          2      2         78.0   \n",
       "2  House and Lot     Quezon City         3          2      2         65.0   \n",
       "3      Townhouse  Las Pinas City         3          2      2         70.0   \n",
       "4  House and Lot     Quezon City         3          2      2         65.0   \n",
       "\n",
       "   Lot Area  Garage Garden Pet Friendly  Reservation Fee    Price  \n",
       "0      55.0       1    yes          yes                0  3900001  \n",
       "1      58.0       1    yes          yes            30000  4987000  \n",
       "2      60.0       1    yes          yes            50000  4200000  \n",
       "3      52.0       1    yes          yes            30000  4480000  \n",
       "4      48.0       1    yes          yes            50000  3800000  "
      ]
     },
     "execution_count": 5,
     "metadata": {},
     "output_type": "execute_result"
    }
   ],
   "source": [
    "prefinal_data = data.drop(['Link'], axis = 1)\n",
    "\n",
    "prefinal_data.head()"
   ]
  },
  {
   "cell_type": "markdown",
   "id": "connected-press",
   "metadata": {},
   "source": [
    "### Identify unique values of the categorical columns"
   ]
  },
  {
   "cell_type": "code",
   "execution_count": 6,
   "id": "attended-skating",
   "metadata": {},
   "outputs": [
    {
     "name": "stdout",
     "output_type": "stream",
     "text": [
      "Categorical Unique Values\n",
      "----------------------------------------------------------------------------------------------------\n",
      "Location unique values: \n",
      "['Las Pinas City' 'Quezon City' 'Pasig City' 'Muntinlupa City'\n",
      " 'Marikina City' 'Paranaque City' 'Caloocan City' 'Taguig City'\n",
      " 'Manila City']\n",
      "----------------------------------------------------------------------------------------------------\n",
      "Type unique values: \n",
      "['House and Lot' 'Townhouse']\n",
      "----------------------------------------------------------------------------------------------------\n",
      "Garden: \n",
      "['yes' 'no']\n",
      "----------------------------------------------------------------------------------------------------\n",
      "Pet Friendly: \n",
      "['yes' 'no']\n"
     ]
    }
   ],
   "source": [
    "type_values = prefinal_data['Type'].unique()\n",
    "location_values = prefinal_data['Location'].unique()\n",
    "garden_values = prefinal_data['Garden'].unique()\n",
    "pet_friendly_values = prefinal_data['Pet Friendly'].unique()\n",
    "\n",
    "print('Categorical Unique Values')\n",
    "\n",
    "print('-'*100)\n",
    "print('Location unique values: ')\n",
    "print(location_values)\n",
    "\n",
    "print('-'*100)\n",
    "print('Type unique values: ')\n",
    "print(type_values)\n",
    "\n",
    "print('-'*100)\n",
    "print('Garden: ')\n",
    "print(garden_values)\n",
    "\n",
    "print('-'*100)\n",
    "print('Pet Friendly: ')\n",
    "print(pet_friendly_values)"
   ]
  },
  {
   "cell_type": "markdown",
   "id": "bearing-teaching",
   "metadata": {},
   "source": [
    "### Check for duplicates"
   ]
  },
  {
   "cell_type": "code",
   "execution_count": 7,
   "id": "opened-february",
   "metadata": {},
   "outputs": [
    {
     "name": "stdout",
     "output_type": "stream",
     "text": [
      "Before:\n",
      "duplicates: 73\n",
      "total instances:  365\n",
      "----------------------------------------------------------------------------------------------------\n",
      "After:\n",
      "total instances:  325\n"
     ]
    }
   ],
   "source": [
    "# removed duplicates\n",
    "num_duplicates = len(prefinal_data) - len(prefinal_data.drop_duplicates(keep=False))\n",
    "\n",
    "# before removing duplicates\n",
    "print('Before:')\n",
    "print('duplicates: {0}'.format(num_duplicates))\n",
    "print('total instances: ', len(prefinal_data))\n",
    "\n",
    "# removed duplicates\n",
    "remaining_data = prefinal_data.drop_duplicates()\n",
    "\n",
    "# afer removing\n",
    "print('-'*100)\n",
    "print('After:')\n",
    "print('total instances: ', len(remaining_data))"
   ]
  },
  {
   "cell_type": "markdown",
   "id": "surprising-shower",
   "metadata": {},
   "source": [
    "### Variable Creation"
   ]
  },
  {
   "cell_type": "code",
   "execution_count": 8,
   "id": "unnecessary-platinum",
   "metadata": {},
   "outputs": [
    {
     "data": {
      "text/html": [
       "<div>\n",
       "<style scoped>\n",
       "    .dataframe tbody tr th:only-of-type {\n",
       "        vertical-align: middle;\n",
       "    }\n",
       "\n",
       "    .dataframe tbody tr th {\n",
       "        vertical-align: top;\n",
       "    }\n",
       "\n",
       "    .dataframe thead th {\n",
       "        text-align: right;\n",
       "    }\n",
       "</style>\n",
       "<table border=\"1\" class=\"dataframe\">\n",
       "  <thead>\n",
       "    <tr style=\"text-align: right;\">\n",
       "      <th></th>\n",
       "      <th>Bedrooms</th>\n",
       "      <th>Bathrooms</th>\n",
       "      <th>Floor</th>\n",
       "      <th>Floors Area</th>\n",
       "      <th>Lot Area</th>\n",
       "      <th>Garage</th>\n",
       "      <th>Reservation Fee</th>\n",
       "      <th>Price</th>\n",
       "      <th>Type_Townhouse</th>\n",
       "      <th>Location_Quezon City</th>\n",
       "      <th>Location_Pasig City</th>\n",
       "      <th>Location_Muntinlupa City</th>\n",
       "      <th>Location_Marikina City</th>\n",
       "      <th>Location_Paranaque City</th>\n",
       "      <th>Location_Caloocan City</th>\n",
       "      <th>Location_Taguig City</th>\n",
       "      <th>Location_Manila City</th>\n",
       "      <th>Garden_yes</th>\n",
       "      <th>Pet_Friendly_yes</th>\n",
       "    </tr>\n",
       "  </thead>\n",
       "  <tbody>\n",
       "    <tr>\n",
       "      <th>0</th>\n",
       "      <td>2</td>\n",
       "      <td>1</td>\n",
       "      <td>2</td>\n",
       "      <td>67.0</td>\n",
       "      <td>55.0</td>\n",
       "      <td>1</td>\n",
       "      <td>0</td>\n",
       "      <td>3900001</td>\n",
       "      <td>0</td>\n",
       "      <td>0</td>\n",
       "      <td>0</td>\n",
       "      <td>0</td>\n",
       "      <td>0</td>\n",
       "      <td>0</td>\n",
       "      <td>0</td>\n",
       "      <td>0</td>\n",
       "      <td>0</td>\n",
       "      <td>1</td>\n",
       "      <td>1</td>\n",
       "    </tr>\n",
       "    <tr>\n",
       "      <th>1</th>\n",
       "      <td>3</td>\n",
       "      <td>2</td>\n",
       "      <td>2</td>\n",
       "      <td>78.0</td>\n",
       "      <td>58.0</td>\n",
       "      <td>1</td>\n",
       "      <td>30000</td>\n",
       "      <td>4987000</td>\n",
       "      <td>0</td>\n",
       "      <td>0</td>\n",
       "      <td>0</td>\n",
       "      <td>0</td>\n",
       "      <td>0</td>\n",
       "      <td>0</td>\n",
       "      <td>0</td>\n",
       "      <td>0</td>\n",
       "      <td>0</td>\n",
       "      <td>1</td>\n",
       "      <td>1</td>\n",
       "    </tr>\n",
       "    <tr>\n",
       "      <th>2</th>\n",
       "      <td>3</td>\n",
       "      <td>2</td>\n",
       "      <td>2</td>\n",
       "      <td>65.0</td>\n",
       "      <td>60.0</td>\n",
       "      <td>1</td>\n",
       "      <td>50000</td>\n",
       "      <td>4200000</td>\n",
       "      <td>0</td>\n",
       "      <td>1</td>\n",
       "      <td>0</td>\n",
       "      <td>0</td>\n",
       "      <td>0</td>\n",
       "      <td>0</td>\n",
       "      <td>0</td>\n",
       "      <td>0</td>\n",
       "      <td>0</td>\n",
       "      <td>1</td>\n",
       "      <td>1</td>\n",
       "    </tr>\n",
       "    <tr>\n",
       "      <th>3</th>\n",
       "      <td>3</td>\n",
       "      <td>2</td>\n",
       "      <td>2</td>\n",
       "      <td>70.0</td>\n",
       "      <td>52.0</td>\n",
       "      <td>1</td>\n",
       "      <td>30000</td>\n",
       "      <td>4480000</td>\n",
       "      <td>1</td>\n",
       "      <td>0</td>\n",
       "      <td>0</td>\n",
       "      <td>0</td>\n",
       "      <td>0</td>\n",
       "      <td>0</td>\n",
       "      <td>0</td>\n",
       "      <td>0</td>\n",
       "      <td>0</td>\n",
       "      <td>1</td>\n",
       "      <td>1</td>\n",
       "    </tr>\n",
       "    <tr>\n",
       "      <th>4</th>\n",
       "      <td>3</td>\n",
       "      <td>2</td>\n",
       "      <td>2</td>\n",
       "      <td>65.0</td>\n",
       "      <td>48.0</td>\n",
       "      <td>1</td>\n",
       "      <td>50000</td>\n",
       "      <td>3800000</td>\n",
       "      <td>0</td>\n",
       "      <td>1</td>\n",
       "      <td>0</td>\n",
       "      <td>0</td>\n",
       "      <td>0</td>\n",
       "      <td>0</td>\n",
       "      <td>0</td>\n",
       "      <td>0</td>\n",
       "      <td>0</td>\n",
       "      <td>1</td>\n",
       "      <td>1</td>\n",
       "    </tr>\n",
       "  </tbody>\n",
       "</table>\n",
       "</div>"
      ],
      "text/plain": [
       "   Bedrooms  Bathrooms  Floor  Floors Area  Lot Area  Garage  Reservation Fee  \\\n",
       "0         2          1      2         67.0      55.0       1                0   \n",
       "1         3          2      2         78.0      58.0       1            30000   \n",
       "2         3          2      2         65.0      60.0       1            50000   \n",
       "3         3          2      2         70.0      52.0       1            30000   \n",
       "4         3          2      2         65.0      48.0       1            50000   \n",
       "\n",
       "     Price  Type_Townhouse  Location_Quezon City  Location_Pasig City  \\\n",
       "0  3900001               0                     0                    0   \n",
       "1  4987000               0                     0                    0   \n",
       "2  4200000               0                     1                    0   \n",
       "3  4480000               1                     0                    0   \n",
       "4  3800000               0                     1                    0   \n",
       "\n",
       "   Location_Muntinlupa City  Location_Marikina City  Location_Paranaque City  \\\n",
       "0                         0                       0                        0   \n",
       "1                         0                       0                        0   \n",
       "2                         0                       0                        0   \n",
       "3                         0                       0                        0   \n",
       "4                         0                       0                        0   \n",
       "\n",
       "   Location_Caloocan City  Location_Taguig City  Location_Manila City  \\\n",
       "0                       0                     0                     0   \n",
       "1                       0                     0                     0   \n",
       "2                       0                     0                     0   \n",
       "3                       0                     0                     0   \n",
       "4                       0                     0                     0   \n",
       "\n",
       "   Garden_yes  Pet_Friendly_yes  \n",
       "0           1                 1  \n",
       "1           1                 1  \n",
       "2           1                 1  \n",
       "3           1                 1  \n",
       "4           1                 1  "
      ]
     },
     "execution_count": 8,
     "metadata": {},
     "output_type": "execute_result"
    }
   ],
   "source": [
    "# encode categorical variables\n",
    "dummy_type = pd.get_dummies(remaining_data['Type'], prefix='Type')\n",
    "dummy_location = pd.get_dummies(remaining_data['Location'], prefix='Location')\n",
    "dummy_pet_friendly = pd.get_dummies(remaining_data['Pet Friendly'], prefix='Pet Friendly')\n",
    "dummy_garden = pd.get_dummies(remaining_data['Garden'], prefix='Garden')\n",
    "\n",
    "\n",
    "cleaned_df = remaining_data.drop(['Location', 'Type', 'Pet Friendly', 'Garden'], axis=1)\n",
    "\n",
    "# only include n-1 for the created columns for the categorical variable\n",
    "# to avoid dummy variable trap\n",
    "\n",
    "cleaned_df['Type_Townhouse'] = dummy_type['Type_Townhouse']\n",
    "\n",
    "cleaned_df['Location_Quezon City'] = dummy_location['Location_Quezon City']\n",
    "cleaned_df['Location_Pasig City'] = dummy_location['Location_Pasig City']\n",
    "cleaned_df['Location_Muntinlupa City'] = dummy_location['Location_Muntinlupa City']\n",
    "cleaned_df['Location_Marikina City'] = dummy_location['Location_Marikina City']\n",
    "cleaned_df['Location_Paranaque City'] = dummy_location['Location_Paranaque City']\n",
    "cleaned_df['Location_Caloocan City'] = dummy_location['Location_Caloocan City']\n",
    "cleaned_df['Location_Taguig City'] = dummy_location['Location_Taguig City']\n",
    "cleaned_df['Location_Manila City'] = dummy_location['Location_Manila City']\n",
    "\n",
    "cleaned_df['Type_Townhouse'] = dummy_type['Type_Townhouse']\n",
    "\n",
    "cleaned_df['Garden_yes'] = dummy_garden['Garden_yes']\n",
    "cleaned_df['Pet_Friendly_yes'] = dummy_pet_friendly['Pet Friendly_yes']\n",
    "\n",
    "# Location\n",
    "#   1. Las Pinas City\n",
    "#   2. Quezon City\n",
    "#   3. Pasig City\n",
    "#   4. Muntinlupa City\n",
    "#   5. Marikina City\n",
    "#   6. Paranaque City\n",
    "#   7. Caloocan City\n",
    "#   8. Taguig City\n",
    "#   9. Manila City\n",
    "\n",
    "# Type\n",
    "#   1. House and Lot\n",
    "#   2. Townhouse\n",
    "\n",
    "# Garden\n",
    "#   1. Yes\n",
    "#   2. No\n",
    "\n",
    "# Pet Friendly\n",
    "#   1. Yes\n",
    "#   2. No\n",
    "\n",
    "cleaned_df.head()"
   ]
  },
  {
   "cell_type": "markdown",
   "id": "marked-mercury",
   "metadata": {},
   "source": [
    "### Convert data type"
   ]
  },
  {
   "cell_type": "code",
   "execution_count": 9,
   "id": "durable-birmingham",
   "metadata": {},
   "outputs": [],
   "source": [
    "cleaned_df = cleaned_df.astype(float)"
   ]
  },
  {
   "cell_type": "markdown",
   "id": "stylish-amendment",
   "metadata": {},
   "source": [
    "### Variance Inflation Factor"
   ]
  },
  {
   "cell_type": "code",
   "execution_count": 10,
   "id": "stupid-watts",
   "metadata": {
    "scrolled": false
   },
   "outputs": [
    {
     "name": "stdout",
     "output_type": "stream",
     "text": [
      "VIF score\n",
      "----------------------------------------------------------------------------------------------------\n"
     ]
    },
    {
     "data": {
      "text/plain": [
       "const                       71.960705\n",
       "Bedrooms                     2.101989\n",
       "Bathrooms                    1.341946\n",
       "Floor                        1.239830\n",
       "Floors Area                  1.049454\n",
       "Lot Area                     1.149684\n",
       "Garage                       1.038128\n",
       "Reservation Fee              1.114123\n",
       "Type_Townhouse               1.105361\n",
       "Location_Quezon City         1.448772\n",
       "Location_Pasig City          1.136628\n",
       "Location_Muntinlupa City     1.040956\n",
       "Location_Marikina City       1.463591\n",
       "Location_Paranaque City      1.181385\n",
       "Location_Caloocan City       1.431717\n",
       "Location_Taguig City         1.215829\n",
       "Location_Manila City         1.094219\n",
       "Garden_yes                   1.276444\n",
       "Pet_Friendly_yes             1.254238\n",
       "dtype: float64"
      ]
     },
     "metadata": {},
     "output_type": "display_data"
    }
   ],
   "source": [
    "# Price is drop because it is dependent variable\n",
    "cleaned_df_check = cleaned_df.drop(columns=['Price'])\n",
    "\n",
    "# the VFI does expect a constant term in the data, so we need to add one using the add_constant method\n",
    "X1 = sm.tools.add_constant(cleaned_df_check)\n",
    "\n",
    "# create the series for before the drop\n",
    "series = pd.Series([variance_inflation_factor(X1.values, i) for i in range(X1.shape[1])], index=X1.columns)\n",
    "\n",
    "# display the series\n",
    "print('VIF score')\n",
    "print('-'*100)\n",
    "display(series)"
   ]
  },
  {
   "cell_type": "markdown",
   "id": "moved-seven",
   "metadata": {},
   "source": [
    "### Remove the outliers"
   ]
  },
  {
   "cell_type": "code",
   "execution_count": 11,
   "id": "biological-closing",
   "metadata": {
    "scrolled": true
   },
   "outputs": [
    {
     "name": "stdout",
     "output_type": "stream",
     "text": [
      "Before:\n",
      "total instances: 325\n",
      "----------------------------------------------------------------------------------------------------\n",
      "After:\n",
      "outliers:  [  8  11  17  26  28  30  33  44  45  49  54  56  67  71  72  74  84  86\n",
      "  89  90  98 101 111 117 120 122 124 134 138 142 151 166 182 184 185 189\n",
      " 192 199 203 230 258 265 288 300 301 306 314 315 325 331 332 334 341 342\n",
      " 347 348 353]\n",
      "total outliers index:  57\n",
      "cleaned instances:  268\n"
     ]
    }
   ],
   "source": [
    "# before removing outliers\n",
    "print('Before:')\n",
    "print('total instances: {0}'.format(len(cleaned_df)))\n",
    "\n",
    "# filter the data frame to remove the values exceeding 3 standard deviations\n",
    "cleaned_remove_df = cleaned_df[(np.abs(stats.zscore(cleaned_df)) < 3).all(axis=1)]\n",
    "\n",
    "# what rows were removed\n",
    "cleaned_outliers_df = cleaned_df.index.difference(cleaned_remove_df.index)\n",
    "\n",
    "# total outliers\n",
    "total_outliers = len(cleaned_outliers_df)\n",
    "\n",
    "# assign the cleaned data (without outliers)\n",
    "cleaned_df = cleaned_remove_df\n",
    "\n",
    "# after removing outliers\n",
    "print('-'*100)\n",
    "print('After:')\n",
    "print('outliers: ', cleaned_outliers_df.values)\n",
    "print('total outliers index: ', len(cleaned_outliers_df))\n",
    "print('cleaned instances: ', len(cleaned_df))"
   ]
  },
  {
   "cell_type": "markdown",
   "id": "studied-intersection",
   "metadata": {},
   "source": [
    "### Define the Xs and Y"
   ]
  },
  {
   "cell_type": "code",
   "execution_count": 12,
   "id": "treated-county",
   "metadata": {},
   "outputs": [],
   "source": [
    "# define our input variable (X) & output variable\n",
    "X = cleaned_df.drop('Price', axis = 1)\n",
    "Y = cleaned_df[['Price']]\n",
    "\n",
    "# Generate a random n-class classification problem\n",
    "X, Y = make_classification(n_samples=100, random_state=1)\n",
    "\n",
    "# Split X and y into X_\n",
    "X_train, X_test, y_train, y_test = train_test_split(X, Y, test_size=0.20, random_state=1)"
   ]
  },
  {
   "cell_type": "markdown",
   "id": "french-sigma",
   "metadata": {},
   "source": [
    "### Multi-layer Perceptron classifier"
   ]
  },
  {
   "cell_type": "code",
   "execution_count": 13,
   "id": "several-seeker",
   "metadata": {},
   "outputs": [],
   "source": [
    "# max_iter = Maximum number of iterations, given 300 iterations.\n",
    "\n",
    "clf = MLPClassifier(random_state=1, max_iter=300).fit(X_train, y_train)"
   ]
  },
  {
   "cell_type": "code",
   "execution_count": 14,
   "id": "certified-marathon",
   "metadata": {},
   "outputs": [
    {
     "data": {
      "text/plain": [
       "array([[0.96005677, 0.03994323]])"
      ]
     },
     "execution_count": 14,
     "metadata": {},
     "output_type": "execute_result"
    }
   ],
   "source": [
    "# Probability estimates.\n",
    "clf.predict_proba(X_test[:1])"
   ]
  },
  {
   "cell_type": "code",
   "execution_count": 15,
   "id": "compressed-haven",
   "metadata": {},
   "outputs": [
    {
     "data": {
      "text/plain": [
       "array([0, 0, 0, 0, 0])"
      ]
     },
     "execution_count": 15,
     "metadata": {},
     "output_type": "execute_result"
    }
   ],
   "source": [
    "# Predict using the multi-layer perceptron classifier\n",
    "clf.predict(X_test[:5, :])"
   ]
  },
  {
   "cell_type": "code",
   "execution_count": 17,
   "id": "hearing-hepatitis",
   "metadata": {},
   "outputs": [
    {
     "name": "stdout",
     "output_type": "stream",
     "text": [
      "Accuracy Train: 100.0%\n",
      "Accuracy Test: 90.0%\n"
     ]
    }
   ],
   "source": [
    "# accuracy percentage\n",
    "accuracy_train = clf.score(X_train,y_train)\n",
    "accuracy_test = clf.score(X_test,y_test)\n",
    "\n",
    "print('Accuracy Train: {0}%'.format(accuracy_train * 100))\n",
    "print('Accuracy Test: {0}%'.format(accuracy_test * 100))"
   ]
  }
 ],
 "metadata": {
  "kernelspec": {
   "display_name": "Python 3",
   "language": "python",
   "name": "python3"
  },
  "language_info": {
   "codemirror_mode": {
    "name": "ipython",
    "version": 3
   },
   "file_extension": ".py",
   "mimetype": "text/x-python",
   "name": "python",
   "nbconvert_exporter": "python",
   "pygments_lexer": "ipython3",
   "version": "3.9.1"
  }
 },
 "nbformat": 4,
 "nbformat_minor": 5
}
