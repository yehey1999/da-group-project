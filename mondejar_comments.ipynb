{
 "cells": [
  {
   "cell_type": "markdown",
   "metadata": {},
   "source": [
    "<br>"
   ]
  },
  {
   "cell_type": "markdown",
   "metadata": {},
   "source": [
    "<br>"
   ]
  },
  {
   "cell_type": "markdown",
   "metadata": {},
   "source": [
    "### 3. Model Planning and Building"
   ]
  },
  {
   "cell_type": "markdown",
   "metadata": {},
   "source": [
    "&nbsp;&nbsp;&nbsp;&nbsp; 3.1. Import Libraries <br>\n",
    "&nbsp;&nbsp;&nbsp;&nbsp; 3.2. Define Dependent and Independent Variables <br>\n",
    "&nbsp;&nbsp;&nbsp;&nbsp; 3.3. Define Train and Test Set <br>\n",
    "&nbsp;&nbsp;&nbsp;&nbsp; 3.4. Model Building <br>\n",
    "&nbsp;&nbsp;&nbsp;&nbsp;&nbsp;&nbsp;&nbsp;&nbsp; 3.4.1. Multiple Linear Regression <br>\n",
    "&nbsp;&nbsp;&nbsp;&nbsp;&nbsp;&nbsp;&nbsp;&nbsp; 3.4.2. Decision Tree <br>\n",
    "&nbsp;&nbsp;&nbsp;&nbsp;&nbsp;&nbsp;&nbsp;&nbsp; 3.4.3. Random Forest <br>\n",
    "&nbsp;&nbsp;&nbsp;&nbsp;&nbsp;&nbsp;&nbsp;&nbsp; 3.4.4. Multi Layer Perceptron Model <br>\n",
    "&nbsp;&nbsp;&nbsp;&nbsp;&nbsp;&nbsp;&nbsp;&nbsp; 3.4.5. KMeans Clustering <br>"
   ]
  },
  {
   "cell_type": "markdown",
   "metadata": {},
   "source": [
    "#### 3.1. Import Libraries <br>"
   ]
  },
  {
   "cell_type": "code",
   "execution_count": 14,
   "metadata": {},
   "outputs": [],
   "source": [
    "#import libraries\n",
    "from sklearn.linear_model import LinearRegression\n",
    "from sklearn.tree import DecisionTreeClassifier\n",
    "from sklearn.ensemble import RandomForestRegressor \n",
    "from sklearn.neural_network import MLPClassifier\n",
    "from sklearn.cluster import KMeans\n",
    "\n",
    "from sklearn.model_selection import train_test_split\n",
    "from sklearn.metrics import accuracy_score \n",
    "from sklearn.datasets import make_classification\n",
    "\n",
    "import math"
   ]
  },
  {
   "cell_type": "markdown",
   "metadata": {},
   "source": [
    "#### Method Definition\n",
    "In here, we defined methods for splitting the data, getting the accuracy score, predictions, and errors to reduce our code "
   ]
  },
  {
   "cell_type": "code",
   "execution_count": 15,
   "metadata": {},
   "outputs": [],
   "source": [
    "def split_dataset(cleaned_df, X, Y): \n",
    "    # Splitting the dataset into train and test \n",
    "    X_train, X_test, y_train, y_test = train_test_split(  \n",
    "    X, Y, test_size = 0.2, random_state = 100) \n",
    "      \n",
    "    return X_train, X_test, y_train, y_test\n",
    "\n",
    "def get_accuracy_score(model, x_set, y_set):\n",
    "    return model.score(x_set, y_set)\n",
    "\n",
    "def get_predictions(model, x_set): \n",
    "    y_predictions = model.predict(X_test) \n",
    "    return y_predictions\n",
    "\n",
    "def get_errors(y_test, y_predict):\n",
    "    # calculate the mean squared error\n",
    "    model_mse = mean_squared_error(y_test, y_predict)\n",
    "    # calculate the mean absolute error\n",
    "    model_mae = mean_absolute_error(y_test, y_predict)\n",
    "    # calulcate the root mean squared error\n",
    "    model_rmse =  math.sqrt(model_mse)\n",
    "    return model_mse, model_mae, model_rmse\n"
   ]
  },
  {
   "cell_type": "markdown",
   "metadata": {},
   "source": [
    "#### 3.2. Define Dependent and Independent Variables <br>"
   ]
  },
  {
   "cell_type": "code",
   "execution_count": 16,
   "metadata": {},
   "outputs": [
    {
     "name": "stdout",
     "output_type": "stream",
     "text": [
      "Independent Variables: \n"
     ]
    },
    {
     "data": {
      "text/html": [
       "<div>\n",
       "<style scoped>\n",
       "    .dataframe tbody tr th:only-of-type {\n",
       "        vertical-align: middle;\n",
       "    }\n",
       "\n",
       "    .dataframe tbody tr th {\n",
       "        vertical-align: top;\n",
       "    }\n",
       "\n",
       "    .dataframe thead th {\n",
       "        text-align: right;\n",
       "    }\n",
       "</style>\n",
       "<table border=\"1\" class=\"dataframe\">\n",
       "  <thead>\n",
       "    <tr style=\"text-align: right;\">\n",
       "      <th></th>\n",
       "      <th>Bedrooms</th>\n",
       "      <th>Bathrooms</th>\n",
       "      <th>Floor</th>\n",
       "      <th>Floors Area</th>\n",
       "      <th>Lot Area</th>\n",
       "      <th>Garage</th>\n",
       "      <th>Reservation Fee</th>\n",
       "      <th>Location_Quezon City</th>\n",
       "      <th>Location_Pasig City</th>\n",
       "      <th>Location_Muntinlupa City</th>\n",
       "      <th>Location_Marikina City</th>\n",
       "      <th>Location_Paranaque City</th>\n",
       "      <th>Location_Caloocan City</th>\n",
       "      <th>Location_Taguig City</th>\n",
       "      <th>Location_Manila City</th>\n",
       "      <th>Garden_yes</th>\n",
       "      <th>Pet_Friendly_yes</th>\n",
       "    </tr>\n",
       "  </thead>\n",
       "  <tbody>\n",
       "    <tr>\n",
       "      <th>0</th>\n",
       "      <td>2.0</td>\n",
       "      <td>1.0</td>\n",
       "      <td>2.0</td>\n",
       "      <td>67.0</td>\n",
       "      <td>55.0</td>\n",
       "      <td>1.0</td>\n",
       "      <td>0.0</td>\n",
       "      <td>0.0</td>\n",
       "      <td>0.0</td>\n",
       "      <td>0.0</td>\n",
       "      <td>0.0</td>\n",
       "      <td>0.0</td>\n",
       "      <td>0.0</td>\n",
       "      <td>0.0</td>\n",
       "      <td>0.0</td>\n",
       "      <td>1.0</td>\n",
       "      <td>1.0</td>\n",
       "    </tr>\n",
       "    <tr>\n",
       "      <th>1</th>\n",
       "      <td>3.0</td>\n",
       "      <td>2.0</td>\n",
       "      <td>2.0</td>\n",
       "      <td>78.0</td>\n",
       "      <td>58.0</td>\n",
       "      <td>1.0</td>\n",
       "      <td>30000.0</td>\n",
       "      <td>0.0</td>\n",
       "      <td>0.0</td>\n",
       "      <td>0.0</td>\n",
       "      <td>0.0</td>\n",
       "      <td>0.0</td>\n",
       "      <td>0.0</td>\n",
       "      <td>0.0</td>\n",
       "      <td>0.0</td>\n",
       "      <td>1.0</td>\n",
       "      <td>1.0</td>\n",
       "    </tr>\n",
       "    <tr>\n",
       "      <th>2</th>\n",
       "      <td>3.0</td>\n",
       "      <td>2.0</td>\n",
       "      <td>2.0</td>\n",
       "      <td>65.0</td>\n",
       "      <td>60.0</td>\n",
       "      <td>1.0</td>\n",
       "      <td>50000.0</td>\n",
       "      <td>1.0</td>\n",
       "      <td>0.0</td>\n",
       "      <td>0.0</td>\n",
       "      <td>0.0</td>\n",
       "      <td>0.0</td>\n",
       "      <td>0.0</td>\n",
       "      <td>0.0</td>\n",
       "      <td>0.0</td>\n",
       "      <td>1.0</td>\n",
       "      <td>1.0</td>\n",
       "    </tr>\n",
       "    <tr>\n",
       "      <th>3</th>\n",
       "      <td>3.0</td>\n",
       "      <td>2.0</td>\n",
       "      <td>2.0</td>\n",
       "      <td>70.0</td>\n",
       "      <td>52.0</td>\n",
       "      <td>1.0</td>\n",
       "      <td>30000.0</td>\n",
       "      <td>0.0</td>\n",
       "      <td>0.0</td>\n",
       "      <td>0.0</td>\n",
       "      <td>0.0</td>\n",
       "      <td>0.0</td>\n",
       "      <td>0.0</td>\n",
       "      <td>0.0</td>\n",
       "      <td>0.0</td>\n",
       "      <td>1.0</td>\n",
       "      <td>1.0</td>\n",
       "    </tr>\n",
       "    <tr>\n",
       "      <th>4</th>\n",
       "      <td>3.0</td>\n",
       "      <td>2.0</td>\n",
       "      <td>2.0</td>\n",
       "      <td>65.0</td>\n",
       "      <td>48.0</td>\n",
       "      <td>1.0</td>\n",
       "      <td>50000.0</td>\n",
       "      <td>1.0</td>\n",
       "      <td>0.0</td>\n",
       "      <td>0.0</td>\n",
       "      <td>0.0</td>\n",
       "      <td>0.0</td>\n",
       "      <td>0.0</td>\n",
       "      <td>0.0</td>\n",
       "      <td>0.0</td>\n",
       "      <td>1.0</td>\n",
       "      <td>1.0</td>\n",
       "    </tr>\n",
       "  </tbody>\n",
       "</table>\n",
       "</div>"
      ],
      "text/plain": [
       "   Bedrooms  Bathrooms  Floor  Floors Area  Lot Area  Garage  Reservation Fee  \\\n",
       "0       2.0        1.0    2.0         67.0      55.0     1.0              0.0   \n",
       "1       3.0        2.0    2.0         78.0      58.0     1.0          30000.0   \n",
       "2       3.0        2.0    2.0         65.0      60.0     1.0          50000.0   \n",
       "3       3.0        2.0    2.0         70.0      52.0     1.0          30000.0   \n",
       "4       3.0        2.0    2.0         65.0      48.0     1.0          50000.0   \n",
       "\n",
       "   Location_Quezon City  Location_Pasig City  Location_Muntinlupa City  \\\n",
       "0                   0.0                  0.0                       0.0   \n",
       "1                   0.0                  0.0                       0.0   \n",
       "2                   1.0                  0.0                       0.0   \n",
       "3                   0.0                  0.0                       0.0   \n",
       "4                   1.0                  0.0                       0.0   \n",
       "\n",
       "   Location_Marikina City  Location_Paranaque City  Location_Caloocan City  \\\n",
       "0                     0.0                      0.0                     0.0   \n",
       "1                     0.0                      0.0                     0.0   \n",
       "2                     0.0                      0.0                     0.0   \n",
       "3                     0.0                      0.0                     0.0   \n",
       "4                     0.0                      0.0                     0.0   \n",
       "\n",
       "   Location_Taguig City  Location_Manila City  Garden_yes  Pet_Friendly_yes  \n",
       "0                   0.0                   0.0         1.0               1.0  \n",
       "1                   0.0                   0.0         1.0               1.0  \n",
       "2                   0.0                   0.0         1.0               1.0  \n",
       "3                   0.0                   0.0         1.0               1.0  \n",
       "4                   0.0                   0.0         1.0               1.0  "
      ]
     },
     "metadata": {},
     "output_type": "display_data"
    },
    {
     "name": "stdout",
     "output_type": "stream",
     "text": [
      "----------------------------------------------------------------------------------------------------\n",
      "Dependent Variables: \n"
     ]
    },
    {
     "data": {
      "text/html": [
       "<div>\n",
       "<style scoped>\n",
       "    .dataframe tbody tr th:only-of-type {\n",
       "        vertical-align: middle;\n",
       "    }\n",
       "\n",
       "    .dataframe tbody tr th {\n",
       "        vertical-align: top;\n",
       "    }\n",
       "\n",
       "    .dataframe thead th {\n",
       "        text-align: right;\n",
       "    }\n",
       "</style>\n",
       "<table border=\"1\" class=\"dataframe\">\n",
       "  <thead>\n",
       "    <tr style=\"text-align: right;\">\n",
       "      <th></th>\n",
       "      <th>Price</th>\n",
       "    </tr>\n",
       "  </thead>\n",
       "  <tbody>\n",
       "    <tr>\n",
       "      <th>0</th>\n",
       "      <td>3900001.0</td>\n",
       "    </tr>\n",
       "    <tr>\n",
       "      <th>1</th>\n",
       "      <td>4987000.0</td>\n",
       "    </tr>\n",
       "    <tr>\n",
       "      <th>2</th>\n",
       "      <td>4200000.0</td>\n",
       "    </tr>\n",
       "    <tr>\n",
       "      <th>3</th>\n",
       "      <td>4480000.0</td>\n",
       "    </tr>\n",
       "    <tr>\n",
       "      <th>4</th>\n",
       "      <td>3800000.0</td>\n",
       "    </tr>\n",
       "  </tbody>\n",
       "</table>\n",
       "</div>"
      ],
      "text/plain": [
       "       Price\n",
       "0  3900001.0\n",
       "1  4987000.0\n",
       "2  4200000.0\n",
       "3  4480000.0\n",
       "4  3800000.0"
      ]
     },
     "metadata": {},
     "output_type": "display_data"
    }
   ],
   "source": [
    "X = cleaned_df.drop('Price', axis = 1)\n",
    "Y = cleaned_df[['Price']]\n",
    "\n",
    "print('Independent Variables: ')\n",
    "display(X.head(5))\n",
    "print('-'*100)\n",
    "print('Dependent Variables: ')\n",
    "display(Y.head(5))"
   ]
  },
  {
   "cell_type": "markdown",
   "metadata": {},
   "source": [
    "#### 3.3. Define Train and Test Set <br>"
   ]
  },
  {
   "cell_type": "code",
   "execution_count": 17,
   "metadata": {},
   "outputs": [],
   "source": [
    "X_train, X_test, y_train, y_test = split_dataset(cleaned_df, X, Y) "
   ]
  },
  {
   "cell_type": "markdown",
   "metadata": {},
   "source": [
    "#### 3.3. Model Building <br>"
   ]
  },
  {
   "cell_type": "markdown",
   "metadata": {},
   "source": [
    "#### 3.3.1. Multiple Linear Regression <br>"
   ]
  },
  {
   "cell_type": "markdown",
   "metadata": {},
   "source": [
    "#### Accuracy Test\n",
    " Quantifying the accuracy of the model is an important step to justifying the usage of the model.<br> <br> As shown below, the model has an accuracy of 93.78% for the train set and 84.45% for the test set. Thus, implies that the predictions and usage of the model linear regression to our data is 93.78% accurate for the train set and 84.45% for the test set."
   ]
  },
  {
   "cell_type": "code",
   "execution_count": 18,
   "metadata": {},
   "outputs": [
    {
     "name": "stdout",
     "output_type": "stream",
     "text": [
      "Accuracy Train: 93.78%\n",
      "Accuracy Test: 84.45%\n"
     ]
    }
   ],
   "source": [
    "# create a Linear Regression model object\n",
    "regression_model = LinearRegression()\n",
    "\n",
    "# pass through the X_train & y_train data set\n",
    "regression_model.fit(X_train, y_train)\n",
    "\n",
    "accuracy_train = get_accuracy_score(regression_model, X_train, y_train)\n",
    "accuracy_test = get_accuracy_score(regression_model, X_test, y_test)\n",
    "\n",
    "print('Accuracy Train: {0:.2f}%'.format(accuracy_train * 100))\n",
    "print('Accuracy Test: {0:.2f}%'.format(accuracy_test * 100))"
   ]
  },
  {
   "cell_type": "markdown",
   "metadata": {},
   "source": [
    "#### Predictions\n",
    "Applying predictions is a good way to improve more and determine if the model is not only itself accurate but also diverse. <br><br>As shown below, in the first row, we predicted a value of P4,355,528 if all independent variables were to be 1 and P4,474,800 if all independent variables were to be 2 and so on and so forth. In addtion, the model has an R Squared of 84% which implies that the model is a good fit to our data"
   ]
  },
  {
   "cell_type": "code",
   "execution_count": 19,
   "metadata": {},
   "outputs": [
    {
     "name": "stdout",
     "output_type": "stream",
     "text": [
      "----------------------------------------------------------------------------------------------------\n",
      "Predictions:\n"
     ]
    },
    {
     "data": {
      "text/plain": [
       "array([[4355528.33250099],\n",
       "       [4474800.65023242],\n",
       "       [3926629.15459845],\n",
       "       [3835382.94510465],\n",
       "       [5240095.34950777]])"
      ]
     },
     "metadata": {},
     "output_type": "display_data"
    },
    {
     "name": "stdout",
     "output_type": "stream",
     "text": [
      "R Squared: 0.84\n"
     ]
    }
   ],
   "source": [
    "# Get multiple predictions\n",
    "y_predictions= get_predictions(regression_model, X_test)\n",
    "\n",
    "# Show the first 5 predictions\n",
    "print('-'*100)\n",
    "print('Predictions:')\n",
    "display(y_predictions[:5])\n",
    "\n",
    "model_r2 = r2_score(y_test, y_predictions)\n",
    "print(\"R Squared: {:.2}\".format(model_r2))"
   ]
  },
  {
   "cell_type": "markdown",
   "metadata": {},
   "source": [
    "#### Prediction Errors\n",
    "One of the simplest methods for calculating the correctness of a model is to use the error between predicted value and actual value. MSE is the average squared difference between the estimated values and the actual value, MAE tells us how big of an error we can expect from the forecast on average and lastly, RMSE is the square root of average value of squared error in a set of predicted values, without considering direction. <br><br>As shown below, with the fact that RMSE is higher than the MAE, this implies that there is a variation in the magnitude of errors and very large errors are unlikely to have occured.Thus, with RMSE not being too much high than MAE, implies that there is no outlier in the data"
   ]
  },
  {
   "cell_type": "code",
   "execution_count": 20,
   "metadata": {},
   "outputs": [
    {
     "name": "stdout",
     "output_type": "stream",
     "text": [
      "Multiple Regression Prediction Errors: \n",
      "Mean Squared Error 422186027888.23083\n",
      "Mean Absolute Error 470159.0225516364\n",
      "Root Mean Squared Error 649758.4381046782\n"
     ]
    }
   ],
   "source": [
    "model_mse, model_mae, model_rmse = get_errors(y_test, y_predictions)\n",
    "\n",
    "print(\"Multiple Regression Prediction Errors: \")\n",
    "print(\"Mean Squared Error {0}\".format(model_mse))\n",
    "print(\"Mean Absolute Error {0}\".format(model_mae))\n",
    "print(\"Root Mean Squared Error {0}\".format(model_rmse))"
   ]
  },
  {
   "cell_type": "markdown",
   "metadata": {},
   "source": [
    "#### Intercept and Coefficient \n",
    "The intercept is simply the value at which the fitted line crosses the y-axis. The coefficient indicates the direction of the relationship between a predictor variable and the response variable. A positive value indicates that as a specific independent variable increases while other remains constant, the dependent variable also increases.\n",
    "A negative value indicates that as a specific independent variable decreases while other remains constant, the dependent variable also decreases."
   ]
  },
  {
   "cell_type": "code",
   "execution_count": 21,
   "metadata": {},
   "outputs": [
    {
     "name": "stdout",
     "output_type": "stream",
     "text": [
      "The intercept for our model is 2.171e+06\n",
      "----------------------------------------------------------------------------------------------------\n",
      "The Coefficient for Bedrooms is 204526.1815\n",
      "The Coefficient for Bathrooms is 174769.1812\n",
      "The Coefficient for Floor is -79499.16129\n",
      "The Coefficient for Floors Area is 12490.35098\n",
      "The Coefficient for Lot Area is 14278.30712\n",
      "The Coefficient for Garage is -225483.4805\n",
      "The Coefficient for Reservation Fee is -0.9879470662\n",
      "The Coefficient for Location_Quezon City is -196914.193\n",
      "The Coefficient for Location_Pasig City is -560477.8682\n",
      "The Coefficient for Location_Muntinlupa City is -158825.7114\n",
      "The Coefficient for Location_Marikina City is -121996.858\n",
      "The Coefficient for Location_Paranaque City is -69118.4079\n",
      "The Coefficient for Location_Caloocan City is -591451.4094\n",
      "The Coefficient for Location_Taguig City is -754345.4031\n",
      "The Coefficient for Location_Manila City is 689282.7817\n",
      "The Coefficient for Garden_yes is -14877.30036\n",
      "The Coefficient for Pet_Friendly_yes is -51487.38073\n"
     ]
    }
   ],
   "source": [
    "# let's grab the coefficient of our model and the intercept\n",
    "intercept = regression_model.intercept_[0]\n",
    "coefficent = regression_model.coef_[0][0]\n",
    "\n",
    "print(\"The intercept for our model is {:.4}\".format(intercept))\n",
    "print('-'*100)\n",
    "\n",
    "# loop through the dictionary and print the data\n",
    "for coef in zip(X.columns, regression_model.coef_[0]):\n",
    "    print(\"The Coefficient for {} is {:.10}\".format(coef[0],coef[1]))"
   ]
  },
  {
   "cell_type": "markdown",
   "metadata": {},
   "source": [
    "#### 3.3.2 Decision Tree "
   ]
  },
  {
   "cell_type": "markdown",
   "metadata": {},
   "source": [
    "#### Gini Index and Entropy Accuracy Test\n",
    "Quantifying the accuracy of the model is an important step to justifying the usage of the model. Gini index or Gini impurity measures the degree or probability of a particular variable being wrongly classified when it is randomly chosen. While entropy measure how “mixed” a column is. In this case, we measured the accuracy of the model through gini index and entropy.<br><br> As shown below, it is undeniable that the test set's predictions are not that precise for it only got low accuracy score. However, the train set produced a high accuracy score which means the predcitions are 97.89% correct"
   ]
  },
  {
   "cell_type": "code",
   "execution_count": 22,
   "metadata": {},
   "outputs": [
    {
     "name": "stdout",
     "output_type": "stream",
     "text": [
      "Entropy Accuracy Train: 97.89%\n",
      "Entropy Accuracy Test: 26.67%\n",
      "----------------------------------------------------------------------------------------------------\n",
      "Gini Accuracy Train: 97.89%\n",
      "Gini Accuracy Test: 31.67%\n"
     ]
    }
   ],
   "source": [
    "# Decision tree with entropy, gini\n",
    "decision_entropy_model = DecisionTreeClassifier(criterion = \"entropy\",random_state = 100,)\n",
    "decision_gini_model = DecisionTreeClassifier(criterion = \"gini\", random_state = 100,) \n",
    "\n",
    "decision_entropy_model.fit(X_train, y_train)\n",
    "decision_gini_model.fit(X_train, y_train) \n",
    "\n",
    "accuracy_train_entropy = get_accuracy_score(decision_entropy_model, X_train, y_train)\n",
    "accuracy_test_entropy = get_accuracy_score(decision_entropy_model, X_test, y_test)\n",
    "accuracy_train_gini = get_accuracy_score(decision_gini_model, X_train, y_train)\n",
    "accuracy_test_gini = get_accuracy_score(decision_gini_model, X_test, y_test)\n",
    "\n",
    "print('Entropy Accuracy Train: {0:.2f}%'.format(accuracy_train_entropy * 100))\n",
    "print('Entropy Accuracy Test: {0:.2f}%'.format(accuracy_test_entropy * 100))\n",
    "print('-'*100)\n",
    "print('Gini Accuracy Train: {0:.2f}%'.format(accuracy_train_gini * 100))\n",
    "print('Gini Accuracy Test: {0:.2f}%'.format(accuracy_test_gini * 100))\n",
    "\n",
    "y_train_predictions_entropy = get_predictions(decision_entropy_model, X_train)\n",
    "y_test_predictions_entropy = get_predictions(decision_entropy_model, X_test)\n",
    "y_train_predictions_gini = get_predictions(decision_gini_model, X_train)\n",
    "y_test_predictions_gini= get_predictions(decision_gini_model, X_test)"
   ]
  },
  {
   "cell_type": "markdown",
   "metadata": {},
   "source": [
    "#### Gini and Entropy Prediction Errors\n",
    "One of the simplest methods for calculating the correctness of a model is to use the error between predicted value and actual value. MSE is the average squared difference between the estimated values and the actual value, MAE tells us how big of an error we can expect from the forecast on average and lastly, RMSE is the square root of average value of squared error in a set of predicted values, without considering direction. <br><br>As shown below, with the fact that RMSE is higher than the MAE, this implies that there is variation in the magnitude of errors and very large errors are unlikely to have occured.Thus, with RMSE not being too much high than MAE, implies that there is no outlier in the data."
   ]
  },
  {
   "cell_type": "code",
   "execution_count": 23,
   "metadata": {},
   "outputs": [
    {
     "name": "stdout",
     "output_type": "stream",
     "text": [
      "Decision Tree (Gini) Prediction Errors: \n",
      "Mean Squared Error 269573796181.68332\n",
      "Mean Absolute Error 286638.11666666664\n",
      "Root Mean Squared Error 519204.96548249933\n",
      "----------------------------------------------------------------------------------------------------\n",
      "Decision Tree (Entropy) Prediction Errors: \n",
      "Mean Squared Error 205486024793.6\n",
      "Mean Absolute Error 246998.1\n",
      "Root Mean Squared Error 453305.6637563665\n"
     ]
    }
   ],
   "source": [
    "model_mse, model_mae, model_rmse = get_errors(y_test, y_test_predictions_gini)\n",
    "\n",
    "print(\"Decision Tree (Gini) Prediction Errors: \")\n",
    "print(\"Mean Squared Error {0}\".format(model_mse))\n",
    "print(\"Mean Absolute Error {0}\".format(model_mae))\n",
    "print(\"Root Mean Squared Error {0}\".format(model_rmse))\n",
    "\n",
    "print('-'*100)\n",
    "\n",
    "model_mse, model_mae, model_rmse = get_errors(y_test, y_test_predictions_entropy)\n",
    "print(\"Decision Tree (Entropy) Prediction Errors: \")\n",
    "print(\"Mean Squared Error {0}\".format(model_mse))\n",
    "print(\"Mean Absolute Error {0}\".format(model_mae))\n",
    "print(\"Root Mean Squared Error {0}\".format(model_rmse))"
   ]
  },
  {
   "cell_type": "markdown",
   "metadata": {},
   "source": [
    "#### 3.3.3. Random Forest<br>"
   ]
  },
  {
   "cell_type": "markdown",
   "metadata": {},
   "source": [
    "#### Accuracy Test\n",
    "The accuracy of the model is an important step to justifying the usage of the model. Random Forest uses multiple models of several DTs to obtain a better prediction performance. It creates many classification trees and a bootstrap sample technique is used to train each tree from the set of training data. \n",
    "<br><br> As shown below, the model has an accuracy of 99.45% for the train set and 94.51% for the test set. Thus, implies that the predictions and usage of the model random forest to our data is 99.45% accurate for the train set and 94.51% for the test set."
   ]
  },
  {
   "cell_type": "code",
   "execution_count": 24,
   "metadata": {},
   "outputs": [
    {
     "name": "stdout",
     "output_type": "stream",
     "text": [
      "Accuracy Train: 99.45435402762185%\n",
      "Accuracy Test: 94.51481948652155%\n"
     ]
    }
   ],
   "source": [
    "random_forest_model = RandomForestRegressor(n_estimators = 100, random_state = 0)\n",
    "random_forest_model.fit(X_train, y_train.values.flatten())  \n",
    "\n",
    "accuracy_train = get_accuracy_score(random_forest_model,X_train,y_train)\n",
    "accuracy_test = get_accuracy_score(random_forest_model,X_test,y_test)\n",
    "\n",
    "print('Accuracy Train: {0}%'.format(accuracy_train * 100))\n",
    "print('Accuracy Test: {0}%'.format(accuracy_test * 100))"
   ]
  },
  {
   "cell_type": "markdown",
   "metadata": {},
   "source": [
    "#### Prediction Errors\n",
    "One of the simplest methods for calculating the correctness of a model is to use the error between predicted value and actual value. MSE is the average squared difference between the estimated values and the actual value, MAE tells us how big of an error we can expect from the forecast on average and lastly, RMSE is the square root of average value of squared error in a set of predicted values, without considering direction. <br><br>As shown below, with the fact that RMSE is higher than the MAE, this implies that there is variation in the magnitude of errors and very large errors are unlikely to have occured.Thus, with RMSE not being too much high than MAE, implies that there is no outlier in the data."
   ]
  },
  {
   "cell_type": "code",
   "execution_count": 25,
   "metadata": {},
   "outputs": [
    {
     "name": "stdout",
     "output_type": "stream",
     "text": [
      "Decision Tree (Gini) Prediction Errors: \n",
      "Mean Squared Error 148880943875.0694\n",
      "Mean Absolute Error 236761.9166944445\n",
      "Root Mean Squared Error 385850.93478579185\n"
     ]
    }
   ],
   "source": [
    "# Get multiple predictions\n",
    "y_predictions= get_predictions(random_forest_model, X_test)\n",
    "\n",
    "model_mse, model_mae, model_rmse = get_errors(y_test, y_predictions)\n",
    "\n",
    "print(\"Decision Tree (Gini) Prediction Errors: \")\n",
    "print(\"Mean Squared Error {0}\".format(model_mse))\n",
    "print(\"Mean Absolute Error {0}\".format(model_mae))\n",
    "print(\"Root Mean Squared Error {0}\".format(model_rmse))"
   ]
  },
  {
   "cell_type": "markdown",
   "metadata": {},
   "source": [
    "#### 3.3.4. Multi Layer Perceptron Model <br>"
   ]
  },
  {
   "cell_type": "markdown",
   "metadata": {},
   "source": [
    "#### Accuracy Test\n",
    "The accuracy of the model is an important step to justifying the usage of the model. A multilayer perceptron is a neural network connecting multiple layers in a directed graph, which means that the signal path through the nodes only goes one way.\n",
    "\n",
    "As shown below, it is undeniable that the model is not a good fit to our data as it only have less than 11% of accuracy score. Thus, these values of accuracy scores imply that the predictions and usage of the model multi layer perceptron to our data is only 8.86% accurate for the train set and 10% accurate for the test set."
   ]
  },
  {
   "cell_type": "code",
   "execution_count": 26,
   "metadata": {},
   "outputs": [
    {
     "name": "stdout",
     "output_type": "stream",
     "text": [
      "Accuracy Train: 8.860759493670885%\n",
      "Accuracy Test: 10.0%\n"
     ]
    }
   ],
   "source": [
    "mlp_model = MLPClassifier(random_state=1, max_iter=300)\n",
    "mlp_model.fit(X_train, y_train.values.flatten())\n",
    "\n",
    "# accuracy percentage\n",
    "accuracy_train = get_accuracy_score(mlp_model,X_train,y_train)\n",
    "accuracy_test = get_accuracy_score(mlp_model,X_test,y_test)\n",
    "\n",
    "print('Accuracy Train: {0}%'.format(accuracy_train * 100))\n",
    "print('Accuracy Test: {0}%'.format(accuracy_test * 100))"
   ]
  },
  {
   "cell_type": "markdown",
   "metadata": {},
   "source": [
    "#### Prediction Errors\n",
    "One of the simplest methods for calculating the correctness of a model is to use the error between predicted value and actual value. MSE is the average squared difference between the estimated values and the actual value, MAE tells us how big of an error we can expect from the forecast on average and lastly, RMSE is the square root of average value of squared error in a set of predicted values, without considering direction. <br><br>\n",
    "As shown below, with the fact that RMSE is higher than the MAE, this implies that there is variation in the magnitude of errors and very large errors are unlikely to have occured.Thus, with RMSE not being too much high than MAE, implies that there is no outlier in the data."
   ]
  },
  {
   "cell_type": "code",
   "execution_count": 27,
   "metadata": {},
   "outputs": [
    {
     "name": "stdout",
     "output_type": "stream",
     "text": [
      "Decision Tree (Gini) Prediction Errors: \n",
      "Mean Squared Error 9288676982848.316\n",
      "Mean Absolute Error 2301333.316666667\n",
      "Root Mean Squared Error 3047733.0891743647\n"
     ]
    }
   ],
   "source": [
    "# Get multiple predictions\n",
    "y_predictions= get_predictions(mlp_model, X_test)\n",
    "\n",
    "model_mse, model_mae, model_rmse = get_errors(y_test, y_predictions)\n",
    "\n",
    "print(\"Multiple Layer Perceptron\" Prediction Errors: \")\n",
    "print(\"Mean Squared Error {0}\".format(model_mse))\n",
    "print(\"Mean Absolute Error {0}\".format(model_mae))\n",
    "print(\"Root Mean Squared Error {0}\".format(model_rmse))"
   ]
  },
  {
   "cell_type": "markdown",
   "metadata": {},
   "source": [
    "#### 3.3.5. KMeans Clustering <br>"
   ]
  },
  {
   "cell_type": "markdown",
   "metadata": {},
   "source": [
    "#### Accuracy Test\n",
    "The accuracy of the model is an important step to justifying the usage of the model. K-means algorithm identifies k number of centroids, and then allocates every data point to the nearest cluster, while keeping the centroids as small as possible\n",
    "<br><br>\n",
    "As shown below, it is undeniable that the model is not a good fit to our data as it have extreme negative values of accuracy score. Thus, these values of accuracy scores imply that the predictions and usage of the model multi layer perceptron to our data is -1949802617711777.8% accurate for the train set and -666073314398989.8% accurate for the test set."
   ]
  },
  {
   "cell_type": "code",
   "execution_count": 28,
   "metadata": {},
   "outputs": [
    {
     "name": "stdout",
     "output_type": "stream",
     "text": [
      "Accuracy Train: -1949802617711777.8%\n",
      "Accuracy Test: -666073314398989.8%\n"
     ]
    }
   ],
   "source": [
    "# n_clusters=The number of clusters to form as well as the number of centroids to generate.\n",
    "kmeans = KMeans(n_clusters=2)\n",
    "kmeans.fit(X_train, y_train)\n",
    "\n",
    "# accuracy percentage\n",
    "accuracy_train = kmeans.score(X_train,y_train)\n",
    "accuracy_test = kmeans.score(X_test,y_test)\n",
    "\n",
    "print('Accuracy Train: {0}%'.format(accuracy_train * 100))\n",
    "print('Accuracy Test: {0}%'.format(accuracy_test * 100))"
   ]
  },
  {
   "cell_type": "markdown",
   "metadata": {},
   "source": [
    "#### Prediction Errors\n",
    "One of the simplest methods for calculating the correctness of a model is to use the error between predicted value and actual value. MSE is the average squared difference between the estimated values and the actual value, MAE tells us how big of an error we can expect from the forecast on average and lastly, RMSE is the square root of average value of squared error in a set of predicted values, without considering direction. <br><br>\n",
    "As shown below, with the fact that RMSE is higher than the MAE, this implies that there is variation in the magnitude of errors and very large errors are unlikely to have occured. Thus, with RMSE not being too much high than MAE, implies that there is no outlier in the data."
   ]
  },
  {
   "cell_type": "code",
   "execution_count": 29,
   "metadata": {},
   "outputs": [
    {
     "name": "stdout",
     "output_type": "stream",
     "text": [
      "Decision Tree (Gini) Prediction Errors: \n",
      "Mean Squared Error 14860768886806.25\n",
      "Mean Absolute Error 3485187.283333333\n",
      "Root Mean Squared Error 3854966.7815438113\n"
     ]
    }
   ],
   "source": [
    "# Get multiple predictions\n",
    "y_predictions= get_predictions(kmeans, X_test)\n",
    "\n",
    "model_mse, model_mae, model_rmse = get_errors(y_test, y_predictions)\n",
    "\n",
    "print(\"Decision Tree (Gini) Prediction Errors: \")\n",
    "print(\"Mean Squared Error {0}\".format(model_mse))\n",
    "print(\"Mean Absolute Error {0}\".format(model_mae))\n",
    "print(\"Root Mean Squared Error {0}\".format(model_rmse))"
   ]
  },
  {
   "cell_type": "markdown",
   "metadata": {},
   "source": [
    "<br>"
   ]
  },
  {
   "cell_type": "markdown",
   "metadata": {},
   "source": [
    "<br>"
   ]
  },
  {
   "cell_type": "markdown",
   "metadata": {},
   "source": [
    "### 4. Evaluating the Model"
   ]
  },
  {
   "cell_type": "code",
   "execution_count": null,
   "metadata": {},
   "outputs": [],
   "source": []
  },
  {
   "cell_type": "code",
   "execution_count": null,
   "metadata": {},
   "outputs": [],
   "source": []
  },
  {
   "cell_type": "code",
   "execution_count": null,
   "metadata": {},
   "outputs": [],
   "source": []
  },
  {
   "cell_type": "code",
   "execution_count": null,
   "metadata": {},
   "outputs": [],
   "source": []
  }
 ],
 "metadata": {
  "kernelspec": {
   "display_name": "Python 3",
   "language": "python",
   "name": "python3"
  },
  "language_info": {
   "codemirror_mode": {
    "name": "ipython",
    "version": 3
   },
   "file_extension": ".py",
   "mimetype": "text/x-python",
   "name": "python",
   "nbconvert_exporter": "python",
   "pygments_lexer": "ipython3",
   "version": "3.8.5"
  }
 },
 "nbformat": 4,
 "nbformat_minor": 4
}
