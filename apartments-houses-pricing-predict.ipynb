{
 "cells": [
  {
   "cell_type": "markdown",
   "metadata": {},
   "source": [
    "# Aparments and Houses Price Prediction\n",
    "### Authors: \n",
    "Cagampang, Joseph Donee Y.<br>\n",
    "Gucio, Maria Angelica<br>\n",
    "Mondejar, Yanni Jan<br>\n",
    "Rosalijos, Joshua<br>\n",
    "Verdida, Kenneth Mae<br>\n",
    "\n",
    "#### Date: March 18, 2021"
   ]
  },
  {
   "cell_type": "code",
   "execution_count": null,
   "metadata": {},
   "outputs": [],
   "source": [
    "# import libraries\n",
    "\n",
    "import numpy as np\n",
    "import pandas as pd"
   ]
  }
 ],
 "metadata": {
  "kernelspec": {
   "display_name": "Python 3",
   "language": "python",
   "name": "python3"
  },
  "language_info": {
   "codemirror_mode": {
    "name": "ipython",
    "version": 3
   },
   "file_extension": ".py",
   "mimetype": "text/x-python",
   "name": "python",
   "nbconvert_exporter": "python",
   "pygments_lexer": "ipython3",
   "version": "3.8.5"
  }
 },
 "nbformat": 4,
 "nbformat_minor": 4
}
