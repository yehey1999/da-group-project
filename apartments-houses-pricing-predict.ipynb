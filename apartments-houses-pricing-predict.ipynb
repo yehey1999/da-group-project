{
 "cells": [
  {
   "cell_type": "markdown",
   "metadata": {},
   "source": [
    "# Aparments and Houses Price Prediction\n",
    "### Authors: \n",
    "Cagampang, Joseph Donee Y.<br>\n",
    "Gucio, Maria Angelica<br>\n",
    "Mondejar, Yanni Jan<br>\n",
    "Rosalijos, Joshua<br>\n",
    "Verdida, Kenneth Mae<br>\n",
    "\n",
    "#### Date: March 18, 2021"
   ]
  },
  {
   "cell_type": "code",
   "execution_count": 1,
   "metadata": {},
   "outputs": [],
   "source": [
    "# import libraries\n",
    "import numpy as np\n",
    "import pandas as pd\n",
    "\n",
    "from scipy import stats"
   ]
  },
  {
   "cell_type": "code",
   "execution_count": 2,
   "metadata": {},
   "outputs": [
    {
     "data": {
      "text/html": [
       "<div>\n",
       "<style scoped>\n",
       "    .dataframe tbody tr th:only-of-type {\n",
       "        vertical-align: middle;\n",
       "    }\n",
       "\n",
       "    .dataframe tbody tr th {\n",
       "        vertical-align: top;\n",
       "    }\n",
       "\n",
       "    .dataframe thead th {\n",
       "        text-align: right;\n",
       "    }\n",
       "</style>\n",
       "<table border=\"1\" class=\"dataframe\">\n",
       "  <thead>\n",
       "    <tr style=\"text-align: right;\">\n",
       "      <th></th>\n",
       "      <th>Type</th>\n",
       "      <th>Location</th>\n",
       "      <th>Bedrooms</th>\n",
       "      <th>Bathrooms</th>\n",
       "      <th>Floors</th>\n",
       "      <th>Lot Area</th>\n",
       "      <th>Usable Area</th>\n",
       "      <th>Price</th>\n",
       "    </tr>\n",
       "  </thead>\n",
       "  <tbody>\n",
       "    <tr>\n",
       "      <th>0</th>\n",
       "      <td>House</td>\n",
       "      <td>Luzon</td>\n",
       "      <td>7</td>\n",
       "      <td>7</td>\n",
       "      <td>2.0</td>\n",
       "      <td>450.0</td>\n",
       "      <td>700.0</td>\n",
       "      <td>150000000</td>\n",
       "    </tr>\n",
       "    <tr>\n",
       "      <th>1</th>\n",
       "      <td>House</td>\n",
       "      <td>Luzon</td>\n",
       "      <td>5</td>\n",
       "      <td>5</td>\n",
       "      <td>3.0</td>\n",
       "      <td>157.0</td>\n",
       "      <td>380.0</td>\n",
       "      <td>18000000</td>\n",
       "    </tr>\n",
       "    <tr>\n",
       "      <th>2</th>\n",
       "      <td>House</td>\n",
       "      <td>Luzon</td>\n",
       "      <td>5</td>\n",
       "      <td>5</td>\n",
       "      <td>2.0</td>\n",
       "      <td>709.0</td>\n",
       "      <td>1000.0</td>\n",
       "      <td>160000000</td>\n",
       "    </tr>\n",
       "    <tr>\n",
       "      <th>3</th>\n",
       "      <td>House</td>\n",
       "      <td>Luzon</td>\n",
       "      <td>5</td>\n",
       "      <td>3</td>\n",
       "      <td>3.0</td>\n",
       "      <td>233.0</td>\n",
       "      <td>595.0</td>\n",
       "      <td>120000000</td>\n",
       "    </tr>\n",
       "    <tr>\n",
       "      <th>4</th>\n",
       "      <td>House</td>\n",
       "      <td>Luzon</td>\n",
       "      <td>3</td>\n",
       "      <td>3</td>\n",
       "      <td>2.0</td>\n",
       "      <td>157.0</td>\n",
       "      <td>300.0</td>\n",
       "      <td>15000000</td>\n",
       "    </tr>\n",
       "  </tbody>\n",
       "</table>\n",
       "</div>"
      ],
      "text/plain": [
       "    Type Location  Bedrooms  Bathrooms  Floors  Lot Area  Usable Area  \\\n",
       "0  House    Luzon         7          7     2.0     450.0        700.0   \n",
       "1  House    Luzon         5          5     3.0     157.0        380.0   \n",
       "2  House    Luzon         5          5     2.0     709.0       1000.0   \n",
       "3  House    Luzon         5          3     3.0     233.0        595.0   \n",
       "4  House    Luzon         3          3     2.0     157.0        300.0   \n",
       "\n",
       "       Price  \n",
       "0  150000000  \n",
       "1   18000000  \n",
       "2  160000000  \n",
       "3  120000000  \n",
       "4   15000000  "
      ]
     },
     "metadata": {},
     "output_type": "display_data"
    }
   ],
   "source": [
    "# read the dataset\n",
    "dataset_df = pd.read_csv('apartments-houses.csv')\n",
    "\n",
    "# display the first five rows\n",
    "display(dataset_df.head())"
   ]
  },
  {
   "cell_type": "markdown",
   "metadata": {},
   "source": []
  },
  {
   "cell_type": "markdown",
   "metadata": {},
   "source": [
    "### Data Cleaning"
   ]
  },
  {
   "cell_type": "markdown",
   "metadata": {},
   "source": [
    "#### 1. Remove null values"
   ]
  },
  {
   "cell_type": "code",
   "execution_count": 3,
   "metadata": {},
   "outputs": [
    {
     "name": "stdout",
     "output_type": "stream",
     "text": [
      "Before:\n",
      "null values: 1\n",
      "total instances:  300\n"
     ]
    },
    {
     "data": {
      "text/plain": [
       "Type           False\n",
       "Location       False\n",
       "Bedrooms       False\n",
       "Bathrooms      False\n",
       "Floors         False\n",
       "Lot Area        True\n",
       "Usable Area    False\n",
       "Price          False\n",
       "dtype: bool"
      ]
     },
     "metadata": {},
     "output_type": "display_data"
    },
    {
     "data": {
      "text/plain": [
       "'----------------------------------------------------------------------------------------------------'"
      ]
     },
     "metadata": {},
     "output_type": "display_data"
    },
    {
     "data": {
      "text/plain": [
       "Type           False\n",
       "Location       False\n",
       "Bedrooms       False\n",
       "Bathrooms      False\n",
       "Floors         False\n",
       "Lot Area       False\n",
       "Usable Area    False\n",
       "Price          False\n",
       "dtype: bool"
      ]
     },
     "metadata": {},
     "output_type": "display_data"
    },
    {
     "name": "stdout",
     "output_type": "stream",
     "text": [
      "After:\n",
      "null values: 0\n",
      "total instances:  299\n"
     ]
    }
   ],
   "source": [
    "# count total rows with null value\n",
    "num_null =  dataset_df.isna().sum().sum()\n",
    "\n",
    "# before removing null values\n",
    "print('Before:')\n",
    "print('null values: {0}'.format(num_null))\n",
    "print('total instances: ', len(dataset_df))\n",
    "\n",
    "# display what columns has null values\n",
    "display(dataset_df.isnull().any())\n",
    "\n",
    "# drop nulls\n",
    "dataset_df = dataset_df.dropna()\n",
    "\n",
    "# redisplay\n",
    "display('-'*100)\n",
    "display(dataset_df.isnull().any())\n",
    "\n",
    "# after removing\n",
    "num_null =  dataset_df.isna().sum().sum()\n",
    "\n",
    "print('After:')\n",
    "print('null values: {0}'.format(num_null))\n",
    "print('total instances: ', len(dataset_df))"
   ]
  },
  {
   "cell_type": "markdown",
   "metadata": {},
   "source": [
    "#### 2. Remove duplicates"
   ]
  },
  {
   "cell_type": "code",
   "execution_count": 4,
   "metadata": {},
   "outputs": [
    {
     "name": "stdout",
     "output_type": "stream",
     "text": [
      "Before:\n",
      "duplicates: 27\n",
      "total instances:  299\n",
      "----------------------------------------------------------------------------------------------------\n",
      "After:\n",
      "total instances:  285\n"
     ]
    }
   ],
   "source": [
    "# removed duplicates\n",
    "num_duplicates = len(dataset_df) - len(dataset_df.drop_duplicates(keep=False))\n",
    "\n",
    "# before removing duplicates\n",
    "print('Before:')\n",
    "print('duplicates: {0}'.format(num_duplicates))\n",
    "print('total instances: ', len(dataset_df))\n",
    "\n",
    "# removed duplicates\n",
    "dataset_df = dataset_df.drop_duplicates()\n",
    "\n",
    "# afer removing\n",
    "print('-'*100)\n",
    "print('After:')\n",
    "print('total instances: ', len(dataset_df))"
   ]
  },
  {
   "cell_type": "markdown",
   "metadata": {},
   "source": [
    "#### 3. Encoding Categorical"
   ]
  },
  {
   "cell_type": "code",
   "execution_count": 5,
   "metadata": {},
   "outputs": [],
   "source": [
    "# encode categorical variables\n",
    "dummy_type = pd.get_dummies(dataset_df.Type, prefix='Type')\n",
    "dummy_location = pd.get_dummies(dataset_df.Location, prefix='Location')\n",
    "\n",
    "dataset_df = dataset_df.drop(['Location', 'Type' ], axis=1)\n",
    "\n",
    "# only include n-1 for the created columns for the categorical variable\n",
    "dataset_df['Type_House'] = dummy_type['Type_House']\n",
    "dataset_df['Location_Visayas'] = dummy_location['Location_Visayas']\n",
    "dataset_df['Location_Mindanao'] = dummy_location['Location_Mindanao']"
   ]
  },
  {
   "cell_type": "markdown",
   "metadata": {},
   "source": [
    "#### 4. Remove outliers"
   ]
  },
  {
   "cell_type": "code",
   "execution_count": 6,
   "metadata": {},
   "outputs": [
    {
     "name": "stdout",
     "output_type": "stream",
     "text": [
      "Before:\n",
      "total instances: 285\n",
      "----------------------------------------------------------------------------------------------------\n",
      "After:\n",
      "outliers:  [  0   2   7   8  28  33  37 177 191 194 220 251 253 256 258 260 261 265\n",
      " 274 277 279 291]\n",
      "total outliers index:  22\n",
      "cleaned instances:  263\n"
     ]
    }
   ],
   "source": [
    "# before removing outliers\n",
    "print('Before:')\n",
    "print('total instances: {0}'.format(len(dataset_df)))\n",
    "\n",
    "# filter the data frame to remove the values exceeding 3 standard deviations\n",
    "dataset_remove_df = dataset_df[(np.abs(stats.zscore(dataset_df)) < 3).all(axis=1)]\n",
    "\n",
    "# what rows were removed\n",
    "dataset_outliers_df = dataset_df.index.difference(dataset_remove_df.index)\n",
    "\n",
    "# total outliers\n",
    "total_outliers = len(dataset_outliers_df)\n",
    "\n",
    "# assign the cleaned data (without outliers)\n",
    "dataset_df = dataset_remove_df\n",
    "\n",
    "# after removing outliers\n",
    "print('-'*100)\n",
    "print('After:')\n",
    "print('outliers: ', dataset_outliers_df.values)\n",
    "print('total outliers index: ', len(dataset_outliers_df))\n",
    "print('cleaned instances: ', len(dataset_df))"
   ]
  },
  {
   "cell_type": "code",
   "execution_count": null,
   "metadata": {},
   "outputs": [],
   "source": []
  }
 ],
 "metadata": {
  "kernelspec": {
   "display_name": "Python 3",
   "language": "python",
   "name": "python3"
  },
  "language_info": {
   "codemirror_mode": {
    "name": "ipython",
    "version": 3
   },
   "file_extension": ".py",
   "mimetype": "text/x-python",
   "name": "python",
   "nbconvert_exporter": "python",
   "pygments_lexer": "ipython3",
   "version": "3.8.5"
  }
 },
 "nbformat": 4,
 "nbformat_minor": 4
}
