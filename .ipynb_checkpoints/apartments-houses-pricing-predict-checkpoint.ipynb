{
 "cells": [
  {
   "cell_type": "markdown",
   "metadata": {},
   "source": [
    "# Aparments and Houses Price Prediction\n",
    "### Authors: \n",
    "Cagampang, Joseph Donee Y.<br>\n",
    "Gucio, Maria Angelica<br>\n",
    "Mondejar, Yanni Jan<br>\n",
    "Rosalijos, Joshua<br>\n",
    "Verdida, Kenneth Mae<br>\n",
    "\n",
    "#### Date: March 18, 2021"
   ]
  },
  {
   "cell_type": "markdown",
   "metadata": {},
   "source": [
    "<br>"
   ]
  },
  {
   "cell_type": "markdown",
   "metadata": {},
   "source": [
    "### Table of Contents\n",
    "\n",
    "1. Data Preparation <br><br>\n",
    "2. Data Cleaning <br>\n",
    "&nbsp;&nbsp;2.1. Drop not needed column/s <br>\n",
    "&nbsp;&nbsp;2.2. Check Null Values <br>\n",
    "&nbsp;&nbsp;2.3. Identify unique values of the categorical columns <br>\n",
    "&nbsp;&nbsp;2.4. Check for duplicates <br>\n",
    "&nbsp;&nbsp;2.5. Variable Creation <br>\n",
    "&nbsp;&nbsp;2.6. Convert data type <br>\n",
    "&nbsp;&nbsp;2.7. Check Multicollinearity <br>\n",
    "&nbsp;&nbsp;&nbsp;&nbsp;    2.7.1. Correlation Matrix <br>\n",
    "&nbsp;&nbsp;&nbsp;&nbsp;    2.7.2. Variance Inflation Factor <br>\n",
    "&nbsp;&nbsp;&nbsp;&nbsp;    2.7.3. Scatter Plot Matrix <br>\n",
    "&nbsp;&nbsp;2.8. Check Outliers <br>\n",
    "&nbsp;&nbsp;2.9. Dataset Summary <br><br>\n",
    "3. Model Planning and Building <br>\n",
    "&nbsp;&nbsp; 3.1. Import Libraries <br>\n",
    "&nbsp;&nbsp; 3.2. Define Dependent and Independent Variables <br>\n",
    "&nbsp;&nbsp; 3.3. Define Train and Test Set <br>\n",
    "&nbsp;&nbsp; 3.4. Model Building <br>\n",
    "&nbsp;&nbsp;&nbsp;&nbsp; 3.4.1. Multiple Linear Regression <br>\n",
    "&nbsp;&nbsp;&nbsp;&nbsp; 3.4.2. Decision Tree <br>\n",
    "&nbsp;&nbsp;&nbsp;&nbsp; 3.4.3. Random Forest <br>\n",
    "&nbsp;&nbsp;&nbsp;&nbsp; 3.4.4. Multi Layer Perceptron Model <br>\n",
    "&nbsp;&nbsp;&nbsp;&nbsp; 3.4.5. KMeans Clustering <br><br>\n",
    "4. Model Evaluation<br>\n",
    "&nbsp;&nbsp;&nbsp;&nbsp; 4.1. Import Libraries <br>\n",
    "&nbsp;&nbsp;&nbsp;&nbsp; 4.2. Checking for Heteroscedasticity <br>\n",
    "&nbsp;&nbsp;&nbsp;&nbsp; 4.3. Checking for Autocorrelation <br>\n",
    "&nbsp;&nbsp;&nbsp;&nbsp; 4.4. Checking the Mean of the Residuals Equals 0 <br>\n",
    "&nbsp;&nbsp;&nbsp;&nbsp; 4.5. Confidence Intervals <br>\n",
    "&nbsp;&nbsp;&nbsp;&nbsp; 4.6. Remove the Insignificant Variables. <br>\n",
    "&nbsp;&nbsp;&nbsp;&nbsp; 4.7. Create a Summary of the Model Output <br>\n",
    "&nbsp;&nbsp;&nbsp;&nbsp; 4.8. Rerun the Model <br><br>\n",
    "5. Results and Key Findings"
   ]
  },
  {
   "cell_type": "markdown",
   "metadata": {},
   "source": [
    "<br>"
   ]
  },
  {
   "cell_type": "markdown",
   "metadata": {},
   "source": [
    "### 1. Data Preparation"
   ]
  },
  {
   "cell_type": "markdown",
   "metadata": {},
   "source": [
    "<br>"
   ]
  },
  {
   "cell_type": "code",
   "execution_count": 16,
   "metadata": {},
   "outputs": [],
   "source": [
    "# import libraries\n",
    "import numpy as np\n",
    "import pandas as pd\n",
    "import seaborn as sns \n",
    "from scipy import stats\n",
    "import matplotlib.pyplot as plt\n",
    "import statsmodels.api as sm\n",
    "from statsmodels.stats.outliers_influence import variance_inflation_factor"
   ]
  },
  {
   "cell_type": "code",
   "execution_count": 17,
   "metadata": {},
   "outputs": [
    {
     "data": {
      "text/html": [
       "<div>\n",
       "<style scoped>\n",
       "    .dataframe tbody tr th:only-of-type {\n",
       "        vertical-align: middle;\n",
       "    }\n",
       "\n",
       "    .dataframe tbody tr th {\n",
       "        vertical-align: top;\n",
       "    }\n",
       "\n",
       "    .dataframe thead th {\n",
       "        text-align: right;\n",
       "    }\n",
       "</style>\n",
       "<table border=\"1\" class=\"dataframe\">\n",
       "  <thead>\n",
       "    <tr style=\"text-align: right;\">\n",
       "      <th></th>\n",
       "      <th>Type</th>\n",
       "      <th>Location</th>\n",
       "      <th>Bedrooms</th>\n",
       "      <th>Bathrooms</th>\n",
       "      <th>Floor</th>\n",
       "      <th>Floors Area</th>\n",
       "      <th>Lot Area</th>\n",
       "      <th>Garage</th>\n",
       "      <th>Garden</th>\n",
       "      <th>Pet Friendly</th>\n",
       "      <th>Reservation Fee</th>\n",
       "      <th>Price</th>\n",
       "      <th>Link</th>\n",
       "    </tr>\n",
       "  </thead>\n",
       "  <tbody>\n",
       "    <tr>\n",
       "      <th>0</th>\n",
       "      <td>House and Lot</td>\n",
       "      <td>Las Pinas City</td>\n",
       "      <td>2</td>\n",
       "      <td>1</td>\n",
       "      <td>2</td>\n",
       "      <td>67.0</td>\n",
       "      <td>55.0</td>\n",
       "      <td>1</td>\n",
       "      <td>yes</td>\n",
       "      <td>yes</td>\n",
       "      <td>0</td>\n",
       "      <td>3900001</td>\n",
       "      <td>2 bedroom House / Lot for sale in Las Pinas Ci...</td>\n",
       "    </tr>\n",
       "    <tr>\n",
       "      <th>1</th>\n",
       "      <td>House and Lot</td>\n",
       "      <td>Las Pinas City</td>\n",
       "      <td>3</td>\n",
       "      <td>2</td>\n",
       "      <td>2</td>\n",
       "      <td>78.0</td>\n",
       "      <td>58.0</td>\n",
       "      <td>1</td>\n",
       "      <td>yes</td>\n",
       "      <td>yes</td>\n",
       "      <td>30000</td>\n",
       "      <td>4987000</td>\n",
       "      <td>3 bedroom House / Lot for sale in Las Pinas Ci...</td>\n",
       "    </tr>\n",
       "    <tr>\n",
       "      <th>2</th>\n",
       "      <td>House and Lot</td>\n",
       "      <td>Quezon City</td>\n",
       "      <td>3</td>\n",
       "      <td>2</td>\n",
       "      <td>2</td>\n",
       "      <td>65.0</td>\n",
       "      <td>60.0</td>\n",
       "      <td>1</td>\n",
       "      <td>yes</td>\n",
       "      <td>yes</td>\n",
       "      <td>50000</td>\n",
       "      <td>4200000</td>\n",
       "      <td>3 bedroom House / Lot for sale in Quezon City ...</td>\n",
       "    </tr>\n",
       "    <tr>\n",
       "      <th>3</th>\n",
       "      <td>Townhouse</td>\n",
       "      <td>Las Pinas City</td>\n",
       "      <td>3</td>\n",
       "      <td>2</td>\n",
       "      <td>2</td>\n",
       "      <td>70.0</td>\n",
       "      <td>52.0</td>\n",
       "      <td>1</td>\n",
       "      <td>yes</td>\n",
       "      <td>yes</td>\n",
       "      <td>30000</td>\n",
       "      <td>4480000</td>\n",
       "      <td>3 bedroom Townhouse for sale in Las Pinas City...</td>\n",
       "    </tr>\n",
       "    <tr>\n",
       "      <th>4</th>\n",
       "      <td>House and Lot</td>\n",
       "      <td>Quezon City</td>\n",
       "      <td>3</td>\n",
       "      <td>2</td>\n",
       "      <td>2</td>\n",
       "      <td>65.0</td>\n",
       "      <td>48.0</td>\n",
       "      <td>1</td>\n",
       "      <td>yes</td>\n",
       "      <td>yes</td>\n",
       "      <td>50000</td>\n",
       "      <td>3800000</td>\n",
       "      <td>3 bedroom House / Lot for sale in Quezon City ...</td>\n",
       "    </tr>\n",
       "  </tbody>\n",
       "</table>\n",
       "</div>"
      ],
      "text/plain": [
       "            Type        Location  Bedrooms  Bathrooms  Floor  Floors Area  \\\n",
       "0  House and Lot  Las Pinas City         2          1      2         67.0   \n",
       "1  House and Lot  Las Pinas City         3          2      2         78.0   \n",
       "2  House and Lot     Quezon City         3          2      2         65.0   \n",
       "3      Townhouse  Las Pinas City         3          2      2         70.0   \n",
       "4  House and Lot     Quezon City         3          2      2         65.0   \n",
       "\n",
       "   Lot Area  Garage Garden Pet Friendly  Reservation Fee    Price  \\\n",
       "0      55.0       1    yes          yes                0  3900001   \n",
       "1      58.0       1    yes          yes            30000  4987000   \n",
       "2      60.0       1    yes          yes            50000  4200000   \n",
       "3      52.0       1    yes          yes            30000  4480000   \n",
       "4      48.0       1    yes          yes            50000  3800000   \n",
       "\n",
       "                                                Link  \n",
       "0  2 bedroom House / Lot for sale in Las Pinas Ci...  \n",
       "1  3 bedroom House / Lot for sale in Las Pinas Ci...  \n",
       "2  3 bedroom House / Lot for sale in Quezon City ...  \n",
       "3  3 bedroom Townhouse for sale in Las Pinas City...  \n",
       "4  3 bedroom House / Lot for sale in Quezon City ...  "
      ]
     },
     "metadata": {},
     "output_type": "display_data"
    }
   ],
   "source": [
    "# read the dataset\n",
    "dataset_df = pd.read_csv('property24.csv')\n",
    "\n",
    "# display the first five rows\n",
    "display(dataset_df.head())"
   ]
  },
  {
   "cell_type": "markdown",
   "metadata": {},
   "source": [
    "<br>"
   ]
  },
  {
   "cell_type": "markdown",
   "metadata": {},
   "source": [
    "<br>"
   ]
  },
  {
   "cell_type": "markdown",
   "metadata": {},
   "source": [
    "### 2. Data Cleaning"
   ]
  },
  {
   "cell_type": "markdown",
   "metadata": {},
   "source": [
    "&nbsp;&nbsp;&nbsp;&nbsp;2.1. Drop not needed column/s <br>\n",
    "&nbsp;&nbsp;&nbsp;&nbsp;2.2. Check Null Values <br>\n",
    "&nbsp;&nbsp;&nbsp;&nbsp;2.3. Identify unique values of the categorical columns <br>\n",
    "&nbsp;&nbsp;&nbsp;&nbsp;2.4. Check for duplicates <br>\n",
    "&nbsp;&nbsp;&nbsp;&nbsp;2.5. Variable Creation <br>\n",
    "&nbsp;&nbsp;&nbsp;&nbsp;2.6. Convert data type <br>\n",
    "&nbsp;&nbsp;&nbsp;&nbsp;2.7. Check Multicollinearity <br>\n",
    "&nbsp;&nbsp;&nbsp;&nbsp;&nbsp;&nbsp;&nbsp;&nbsp;    2.7.1. Correlation Matrix <br>\n",
    "&nbsp;&nbsp;&nbsp;&nbsp;&nbsp;&nbsp;&nbsp;&nbsp;    2.7.2. Variance Inflation Factor <br>\n",
    "&nbsp;&nbsp;&nbsp;&nbsp;&nbsp;&nbsp;&nbsp;&nbsp;    2.7.3. Scatter Plot Matrix <br>\n",
    "&nbsp;&nbsp;&nbsp;&nbsp;2.8. Check Outliers <br>\n",
    "&nbsp;&nbsp;&nbsp;&nbsp;2.9. Dataset Summary <br>"
   ]
  },
  {
   "cell_type": "markdown",
   "metadata": {},
   "source": [
    "<br>"
   ]
  },
  {
   "cell_type": "markdown",
   "metadata": {},
   "source": [
    "#### 2.1 Drop not needed column/s"
   ]
  },
  {
   "cell_type": "code",
   "execution_count": 18,
   "metadata": {},
   "outputs": [],
   "source": [
    "dataset_df = dataset_df.drop(['Link', 'Type'], axis=1)"
   ]
  },
  {
   "cell_type": "markdown",
   "metadata": {},
   "source": [
    "#### 2.2 Check null values\n",
    "\n",
    "After we've removed any unnecessary columns, we'll look for missing values. In Pandas, the isna() method is used to search for missing values in a series object. If the values are NA, it will return a boolean same-sized object. True is assigned to missing values, while False is assigned to non-missing values.Side note, isnull() method is an alias for isna() method."
   ]
  },
  {
   "cell_type": "code",
   "execution_count": 19,
   "metadata": {},
   "outputs": [
    {
     "name": "stdout",
     "output_type": "stream",
     "text": [
      "Before:\n",
      "null values: 0\n",
      "total instances:  365\n"
     ]
    },
    {
     "data": {
      "text/plain": [
       "Location           False\n",
       "Bedrooms           False\n",
       "Bathrooms          False\n",
       "Floor              False\n",
       "Floors Area        False\n",
       "Lot Area           False\n",
       "Garage             False\n",
       "Garden             False\n",
       "Pet Friendly       False\n",
       "Reservation Fee    False\n",
       "Price              False\n",
       "dtype: bool"
      ]
     },
     "metadata": {},
     "output_type": "display_data"
    },
    {
     "data": {
      "text/plain": [
       "'----------------------------------------------------------------------------------------------------'"
      ]
     },
     "metadata": {},
     "output_type": "display_data"
    },
    {
     "data": {
      "text/plain": [
       "Location           False\n",
       "Bedrooms           False\n",
       "Bathrooms          False\n",
       "Floor              False\n",
       "Floors Area        False\n",
       "Lot Area           False\n",
       "Garage             False\n",
       "Garden             False\n",
       "Pet Friendly       False\n",
       "Reservation Fee    False\n",
       "Price              False\n",
       "dtype: bool"
      ]
     },
     "metadata": {},
     "output_type": "display_data"
    },
    {
     "name": "stdout",
     "output_type": "stream",
     "text": [
      "After:\n",
      "null values: 0\n",
      "total instances:  365\n"
     ]
    }
   ],
   "source": [
    "# count total rows with null value\n",
    "num_null =  dataset_df.isna().sum().sum()\n",
    "\n",
    "# before removing null values\n",
    "print('Before:')\n",
    "print('null values: {0}'.format(num_null))\n",
    "print('total instances: ', len(dataset_df))\n",
    "\n",
    "# display what columns has null values\n",
    "display(dataset_df.isnull().any())\n",
    "\n",
    "# drop nulls\n",
    "dataset_df = dataset_df.dropna()\n",
    "\n",
    "# redisplay\n",
    "display('-'*100)\n",
    "display(dataset_df.isnull().any())\n",
    "\n",
    "# after removing\n",
    "num_null =  dataset_df.isna().sum().sum()\n",
    "\n",
    "print('After:')\n",
    "print('null values: {0}'.format(num_null))\n",
    "print('total instances: ', len(dataset_df))"
   ]
  },
  {
   "cell_type": "markdown",
   "metadata": {},
   "source": [
    "Since all variables are false this means that there are no null values and all values are acceptable."
   ]
  },
  {
   "cell_type": "markdown",
   "metadata": {},
   "source": [
    "#### 2.3 Identify unique values of the categorical columns\n",
    "\n",
    "Categorical variables have different categories, but it can be difficult to identify them if the data set is large and the categories are often large in number. As a result, we can extract unique values for categorical variables, which will help us identify the categories of a categorical variable more readily. \n",
    "\n",
    "In our data frame, we can do this using the Pandas unique() method on a variable of interest. As a result, it will return a NumPy array containing the column's unique values."
   ]
  },
  {
   "cell_type": "code",
   "execution_count": 20,
   "metadata": {},
   "outputs": [
    {
     "name": "stdout",
     "output_type": "stream",
     "text": [
      "Categorical Unique Values\n",
      "----------------------------------------------------------------------------------------------------\n",
      "Location unique values: \n",
      "['Las Pinas City' 'Quezon City' 'Pasig City' 'Muntinlupa City'\n",
      " 'Marikina City' 'Paranaque City' 'Caloocan City' 'Taguig City'\n",
      " 'Manila City']\n",
      "----------------------------------------------------------------------------------------------------\n",
      "Garden: \n",
      "['yes' 'no']\n",
      "----------------------------------------------------------------------------------------------------\n",
      "Pet Friendly: \n",
      "['yes' 'no']\n"
     ]
    }
   ],
   "source": [
    "#type_values = dataset_df['Type'].unique()\n",
    "location_values = dataset_df['Location'].unique()\n",
    "garden_values = dataset_df['Garden'].unique()\n",
    "pet_friendly_values = dataset_df['Pet Friendly'].unique()\n",
    "\n",
    "print('Categorical Unique Values')\n",
    "\n",
    "print('-'*100)\n",
    "print('Location unique values: ')\n",
    "print(location_values)\n",
    "\n",
    "#print('-'*100)\n",
    "#print('Type unique values: ')\n",
    "#print(type_values)\n",
    "\n",
    "print('-'*100)\n",
    "print('Garden: ')\n",
    "print(garden_values)\n",
    "\n",
    "print('-'*100)\n",
    "print('Pet Friendly: ')\n",
    "print(pet_friendly_values)"
   ]
  },
  {
   "cell_type": "markdown",
   "metadata": {},
   "source": [
    "#### 2.4 Check for duplicates\n",
    "\n",
    "Removing duplicates is an essential skill to get accurate counts because you often don't want to count the same thing multiple times. This could be accomplished by using the Pandas module, which has a method known as drop_duplicates().It takes an argument subset, which is the column we want to find or duplicates based on."
   ]
  },
  {
   "cell_type": "code",
   "execution_count": 21,
   "metadata": {},
   "outputs": [
    {
     "name": "stdout",
     "output_type": "stream",
     "text": [
      "Before:\n",
      "duplicates: 93\n",
      "total instances:  365\n",
      "----------------------------------------------------------------------------------------------------\n",
      "After:\n",
      "total instances:  311\n"
     ]
    }
   ],
   "source": [
    "# removed duplicates\n",
    "num_duplicates = len(dataset_df) - len(dataset_df.drop_duplicates(keep=False))\n",
    "\n",
    "# before removing duplicates\n",
    "print('Before:')\n",
    "print('duplicates: {0}'.format(num_duplicates))\n",
    "print('total instances: ', len(dataset_df))\n",
    "\n",
    "# removed duplicates\n",
    "dataset_df = dataset_df.drop_duplicates()\n",
    "\n",
    "# afer removing\n",
    "print('-'*100)\n",
    "print('After:')\n",
    "print('total instances: ', len(dataset_df))"
   ]
  },
  {
   "cell_type": "markdown",
   "metadata": {},
   "source": [
    "#### 2.5 Variable Creation\n",
    "\n",
    "\n",
    "In variable creation a  dummy variable is one that takes only the value 0 or 1 to indicate the absence or presence of some categorical effect that may be expected to shift the outcome.They can be thought of as numeric stand-ins for qualitative facts in a regression model, sorting data into mutually exclusive categories.\n",
    "\n",
    " In this case we can use pandas.get_dummies() method for data manipulation. Wher it converts categorical data into dummy or indicator variables."
   ]
  },
  {
   "cell_type": "code",
   "execution_count": 22,
   "metadata": {},
   "outputs": [],
   "source": [
    "# encode categorical variables\n",
    "#dummy_type = pd.get_dummies(dataset_df['Type'], prefix='Type')\n",
    "dummy_location = pd.get_dummies(dataset_df['Location'], prefix='Location')\n",
    "dummy_pet_friendly = pd.get_dummies(dataset_df['Pet Friendly'], prefix='Pet Friendly')\n",
    "dummy_garden = pd.get_dummies(dataset_df['Garden'], prefix='Garden')\n",
    "\n",
    "cleaned_df = dataset_df.drop(['Location', 'Pet Friendly', 'Garden'], axis=1)\n",
    "\n",
    "# only include n-1 for the created columns for the categorical variable\n",
    "# to avoid dummy variable trap\n",
    "\n",
    "#cleaned_df['Type_Townhouse'] = dummy_type['Type_Townhouse']\n",
    "\n",
    "cleaned_df['Location_Quezon City'] = dummy_location['Location_Quezon City']\n",
    "cleaned_df['Location_Pasig City'] = dummy_location['Location_Pasig City']\n",
    "cleaned_df['Location_Muntinlupa City'] = dummy_location['Location_Muntinlupa City']\n",
    "cleaned_df['Location_Marikina City'] = dummy_location['Location_Marikina City']\n",
    "cleaned_df['Location_Paranaque City'] = dummy_location['Location_Paranaque City']\n",
    "cleaned_df['Location_Caloocan City'] = dummy_location['Location_Caloocan City']\n",
    "cleaned_df['Location_Taguig City'] = dummy_location['Location_Taguig City']\n",
    "cleaned_df['Location_Manila City'] = dummy_location['Location_Manila City']\n",
    "\n",
    "#cleaned_df['Type_Townhouse'] = dummy_type['Type_Townhouse']\n",
    "\n",
    "cleaned_df['Garden_yes'] = dummy_garden['Garden_yes']\n",
    "cleaned_df['Pet_Friendly_yes'] = dummy_pet_friendly['Pet Friendly_yes']\n",
    "\n",
    "# Location\n",
    "#   1. Las Pinas City\n",
    "#   2. Quezon City\n",
    "#   3. Pasig City\n",
    "#   4. Muntinlupa City\n",
    "#   5. Marikina City\n",
    "#   6. Paranaque City\n",
    "#   7. Caloocan City\n",
    "#   8. Taguig City\n",
    "#   9. Manila City\n",
    "\n",
    "# Type\n",
    "#   1. House and Lot\n",
    "#   2. Townhouse\n",
    "\n",
    "# Garden\n",
    "#   1. Yes\n",
    "#   2. No\n",
    "\n",
    "# Pet Friendly\n",
    "#   1. Yes\n",
    "#   2. No"
   ]
  },
  {
   "cell_type": "markdown",
   "metadata": {},
   "source": [
    "#### 2.6 Convert data type\n",
    "\n",
    "To cast a pandas object to a specific dtype, we can use the astype() method. In addition, it provides the capability to convert any suitable existing column to categorical type."
   ]
  },
  {
   "cell_type": "code",
   "execution_count": 23,
   "metadata": {},
   "outputs": [],
   "source": [
    "cleaned_df = cleaned_df.astype(float)"
   ]
  },
  {
   "cell_type": "markdown",
   "metadata": {},
   "source": [
    "#### 2.7 Check Multicollinearity\n",
    "\n",
    "Multicollinearity is where one of the explanatory variables is strongly correlated with another explanatory variable. One of the X variables, in essence, is almost completely correlated with another or more X variables."
   ]
  },
  {
   "cell_type": "markdown",
   "metadata": {},
   "source": [
    "##### 2.7.1 Correlation Matrix\n",
    "\n",
    "In order to check the multicollinearity, these are the following things that we need to follow. First is the contruction of the  correlation matrix using the corr() method; this will create a matrix with each variable having its correlation calculated for all the other variables. Followed by a correlation heatmap to identify the highly correlated variables, by just looking for the darker colors. "
   ]
  },
  {
   "cell_type": "code",
   "execution_count": 24,
   "metadata": {
    "scrolled": true
   },
   "outputs": [
    {
     "data": {
      "text/html": [
       "<div>\n",
       "<style scoped>\n",
       "    .dataframe tbody tr th:only-of-type {\n",
       "        vertical-align: middle;\n",
       "    }\n",
       "\n",
       "    .dataframe tbody tr th {\n",
       "        vertical-align: top;\n",
       "    }\n",
       "\n",
       "    .dataframe thead th {\n",
       "        text-align: right;\n",
       "    }\n",
       "</style>\n",
       "<table border=\"1\" class=\"dataframe\">\n",
       "  <thead>\n",
       "    <tr style=\"text-align: right;\">\n",
       "      <th></th>\n",
       "      <th>Bedrooms</th>\n",
       "      <th>Bathrooms</th>\n",
       "      <th>Floor</th>\n",
       "      <th>Floors Area</th>\n",
       "      <th>Lot Area</th>\n",
       "      <th>Garage</th>\n",
       "      <th>Reservation Fee</th>\n",
       "      <th>Price</th>\n",
       "      <th>Location_Quezon City</th>\n",
       "      <th>Location_Pasig City</th>\n",
       "      <th>Location_Muntinlupa City</th>\n",
       "      <th>Location_Marikina City</th>\n",
       "      <th>Location_Paranaque City</th>\n",
       "      <th>Location_Caloocan City</th>\n",
       "      <th>Location_Taguig City</th>\n",
       "      <th>Location_Manila City</th>\n",
       "      <th>Garden_yes</th>\n",
       "      <th>Pet_Friendly_yes</th>\n",
       "    </tr>\n",
       "  </thead>\n",
       "  <tbody>\n",
       "    <tr>\n",
       "      <th>Bedrooms</th>\n",
       "      <td>1.000000</td>\n",
       "      <td>0.421890</td>\n",
       "      <td>0.226965</td>\n",
       "      <td>-0.005992</td>\n",
       "      <td>0.213550</td>\n",
       "      <td>0.021573</td>\n",
       "      <td>0.162645</td>\n",
       "      <td>-0.048647</td>\n",
       "      <td>0.199872</td>\n",
       "      <td>0.155994</td>\n",
       "      <td>-0.070303</td>\n",
       "      <td>0.270216</td>\n",
       "      <td>-0.156443</td>\n",
       "      <td>0.256385</td>\n",
       "      <td>0.134226</td>\n",
       "      <td>0.059868</td>\n",
       "      <td>0.056824</td>\n",
       "      <td>0.018633</td>\n",
       "    </tr>\n",
       "    <tr>\n",
       "      <th>Bathrooms</th>\n",
       "      <td>0.421890</td>\n",
       "      <td>1.000000</td>\n",
       "      <td>0.100099</td>\n",
       "      <td>0.015178</td>\n",
       "      <td>0.026541</td>\n",
       "      <td>0.060094</td>\n",
       "      <td>0.186691</td>\n",
       "      <td>-0.092651</td>\n",
       "      <td>0.008214</td>\n",
       "      <td>0.100912</td>\n",
       "      <td>0.011123</td>\n",
       "      <td>0.108321</td>\n",
       "      <td>0.045325</td>\n",
       "      <td>-0.024291</td>\n",
       "      <td>0.070889</td>\n",
       "      <td>-0.084377</td>\n",
       "      <td>0.006450</td>\n",
       "      <td>-0.035044</td>\n",
       "    </tr>\n",
       "    <tr>\n",
       "      <th>Floor</th>\n",
       "      <td>0.226965</td>\n",
       "      <td>0.100099</td>\n",
       "      <td>1.000000</td>\n",
       "      <td>0.012618</td>\n",
       "      <td>-0.020379</td>\n",
       "      <td>0.026935</td>\n",
       "      <td>0.036147</td>\n",
       "      <td>-0.031667</td>\n",
       "      <td>-0.059874</td>\n",
       "      <td>0.122274</td>\n",
       "      <td>0.006356</td>\n",
       "      <td>0.041359</td>\n",
       "      <td>-0.055391</td>\n",
       "      <td>0.012686</td>\n",
       "      <td>0.330974</td>\n",
       "      <td>-0.112194</td>\n",
       "      <td>-0.010956</td>\n",
       "      <td>0.067695</td>\n",
       "    </tr>\n",
       "    <tr>\n",
       "      <th>Floors Area</th>\n",
       "      <td>-0.005992</td>\n",
       "      <td>0.015178</td>\n",
       "      <td>0.012618</td>\n",
       "      <td>1.000000</td>\n",
       "      <td>0.028419</td>\n",
       "      <td>-0.010445</td>\n",
       "      <td>-0.037842</td>\n",
       "      <td>0.070878</td>\n",
       "      <td>0.093239</td>\n",
       "      <td>-0.007003</td>\n",
       "      <td>-0.016916</td>\n",
       "      <td>-0.026116</td>\n",
       "      <td>0.095259</td>\n",
       "      <td>-0.025927</td>\n",
       "      <td>-0.003819</td>\n",
       "      <td>-0.006499</td>\n",
       "      <td>0.063690</td>\n",
       "      <td>-0.037632</td>\n",
       "    </tr>\n",
       "    <tr>\n",
       "      <th>Lot Area</th>\n",
       "      <td>0.213550</td>\n",
       "      <td>0.026541</td>\n",
       "      <td>-0.020379</td>\n",
       "      <td>0.028419</td>\n",
       "      <td>1.000000</td>\n",
       "      <td>0.111902</td>\n",
       "      <td>0.036684</td>\n",
       "      <td>0.044265</td>\n",
       "      <td>-0.006107</td>\n",
       "      <td>0.056505</td>\n",
       "      <td>-0.058548</td>\n",
       "      <td>0.057437</td>\n",
       "      <td>-0.037121</td>\n",
       "      <td>0.168861</td>\n",
       "      <td>0.051377</td>\n",
       "      <td>0.116909</td>\n",
       "      <td>0.008797</td>\n",
       "      <td>0.005077</td>\n",
       "    </tr>\n",
       "    <tr>\n",
       "      <th>Garage</th>\n",
       "      <td>0.021573</td>\n",
       "      <td>0.060094</td>\n",
       "      <td>0.026935</td>\n",
       "      <td>-0.010445</td>\n",
       "      <td>0.111902</td>\n",
       "      <td>1.000000</td>\n",
       "      <td>-0.020795</td>\n",
       "      <td>0.028747</td>\n",
       "      <td>0.008529</td>\n",
       "      <td>-0.020809</td>\n",
       "      <td>-0.022108</td>\n",
       "      <td>0.048229</td>\n",
       "      <td>-0.024660</td>\n",
       "      <td>-0.044124</td>\n",
       "      <td>-0.014618</td>\n",
       "      <td>-0.010303</td>\n",
       "      <td>-0.047213</td>\n",
       "      <td>0.041919</td>\n",
       "    </tr>\n",
       "    <tr>\n",
       "      <th>Reservation Fee</th>\n",
       "      <td>0.162645</td>\n",
       "      <td>0.186691</td>\n",
       "      <td>0.036147</td>\n",
       "      <td>-0.037842</td>\n",
       "      <td>0.036684</td>\n",
       "      <td>-0.020795</td>\n",
       "      <td>1.000000</td>\n",
       "      <td>-0.933644</td>\n",
       "      <td>0.054047</td>\n",
       "      <td>-0.021226</td>\n",
       "      <td>-0.029361</td>\n",
       "      <td>0.101181</td>\n",
       "      <td>0.135787</td>\n",
       "      <td>0.033526</td>\n",
       "      <td>0.018012</td>\n",
       "      <td>-0.039691</td>\n",
       "      <td>0.044619</td>\n",
       "      <td>0.041587</td>\n",
       "    </tr>\n",
       "    <tr>\n",
       "      <th>Price</th>\n",
       "      <td>-0.048647</td>\n",
       "      <td>-0.092651</td>\n",
       "      <td>-0.031667</td>\n",
       "      <td>0.070878</td>\n",
       "      <td>0.044265</td>\n",
       "      <td>0.028747</td>\n",
       "      <td>-0.933644</td>\n",
       "      <td>1.000000</td>\n",
       "      <td>-0.029488</td>\n",
       "      <td>0.060506</td>\n",
       "      <td>0.007074</td>\n",
       "      <td>-0.035527</td>\n",
       "      <td>-0.141094</td>\n",
       "      <td>-0.109316</td>\n",
       "      <td>-0.028383</td>\n",
       "      <td>0.058053</td>\n",
       "      <td>-0.040545</td>\n",
       "      <td>-0.058487</td>\n",
       "    </tr>\n",
       "    <tr>\n",
       "      <th>Location_Quezon City</th>\n",
       "      <td>0.199872</td>\n",
       "      <td>0.008214</td>\n",
       "      <td>-0.059874</td>\n",
       "      <td>0.093239</td>\n",
       "      <td>-0.006107</td>\n",
       "      <td>0.008529</td>\n",
       "      <td>0.054047</td>\n",
       "      <td>-0.029488</td>\n",
       "      <td>1.000000</td>\n",
       "      <td>-0.070270</td>\n",
       "      <td>-0.074656</td>\n",
       "      <td>-0.175557</td>\n",
       "      <td>-0.130621</td>\n",
       "      <td>-0.148999</td>\n",
       "      <td>-0.049364</td>\n",
       "      <td>-0.034792</td>\n",
       "      <td>0.042949</td>\n",
       "      <td>0.109056</td>\n",
       "    </tr>\n",
       "    <tr>\n",
       "      <th>Location_Pasig City</th>\n",
       "      <td>0.155994</td>\n",
       "      <td>0.100912</td>\n",
       "      <td>0.122274</td>\n",
       "      <td>-0.007003</td>\n",
       "      <td>0.056505</td>\n",
       "      <td>-0.020809</td>\n",
       "      <td>-0.021226</td>\n",
       "      <td>0.060506</td>\n",
       "      <td>-0.070270</td>\n",
       "      <td>1.000000</td>\n",
       "      <td>-0.028051</td>\n",
       "      <td>-0.065962</td>\n",
       "      <td>-0.049078</td>\n",
       "      <td>-0.055983</td>\n",
       "      <td>-0.018547</td>\n",
       "      <td>-0.013073</td>\n",
       "      <td>-0.076267</td>\n",
       "      <td>-0.008402</td>\n",
       "    </tr>\n",
       "    <tr>\n",
       "      <th>Location_Muntinlupa City</th>\n",
       "      <td>-0.070303</td>\n",
       "      <td>0.011123</td>\n",
       "      <td>0.006356</td>\n",
       "      <td>-0.016916</td>\n",
       "      <td>-0.058548</td>\n",
       "      <td>-0.022108</td>\n",
       "      <td>-0.029361</td>\n",
       "      <td>0.007074</td>\n",
       "      <td>-0.074656</td>\n",
       "      <td>-0.028051</td>\n",
       "      <td>1.000000</td>\n",
       "      <td>-0.070079</td>\n",
       "      <td>-0.052141</td>\n",
       "      <td>-0.059477</td>\n",
       "      <td>-0.019705</td>\n",
       "      <td>-0.013888</td>\n",
       "      <td>0.021948</td>\n",
       "      <td>0.048196</td>\n",
       "    </tr>\n",
       "    <tr>\n",
       "      <th>Location_Marikina City</th>\n",
       "      <td>0.270216</td>\n",
       "      <td>0.108321</td>\n",
       "      <td>0.041359</td>\n",
       "      <td>-0.026116</td>\n",
       "      <td>0.057437</td>\n",
       "      <td>0.048229</td>\n",
       "      <td>0.101181</td>\n",
       "      <td>-0.035527</td>\n",
       "      <td>-0.175557</td>\n",
       "      <td>-0.065962</td>\n",
       "      <td>-0.070079</td>\n",
       "      <td>1.000000</td>\n",
       "      <td>-0.122613</td>\n",
       "      <td>-0.139864</td>\n",
       "      <td>-0.046337</td>\n",
       "      <td>-0.032659</td>\n",
       "      <td>0.101929</td>\n",
       "      <td>0.044951</td>\n",
       "    </tr>\n",
       "    <tr>\n",
       "      <th>Location_Paranaque City</th>\n",
       "      <td>-0.156443</td>\n",
       "      <td>0.045325</td>\n",
       "      <td>-0.055391</td>\n",
       "      <td>0.095259</td>\n",
       "      <td>-0.037121</td>\n",
       "      <td>-0.024660</td>\n",
       "      <td>0.135787</td>\n",
       "      <td>-0.141094</td>\n",
       "      <td>-0.130621</td>\n",
       "      <td>-0.049078</td>\n",
       "      <td>-0.052141</td>\n",
       "      <td>-0.122613</td>\n",
       "      <td>1.000000</td>\n",
       "      <td>-0.104064</td>\n",
       "      <td>-0.034477</td>\n",
       "      <td>-0.024300</td>\n",
       "      <td>0.149274</td>\n",
       "      <td>0.081251</td>\n",
       "    </tr>\n",
       "    <tr>\n",
       "      <th>Location_Caloocan City</th>\n",
       "      <td>0.256385</td>\n",
       "      <td>-0.024291</td>\n",
       "      <td>0.012686</td>\n",
       "      <td>-0.025927</td>\n",
       "      <td>0.168861</td>\n",
       "      <td>-0.044124</td>\n",
       "      <td>0.033526</td>\n",
       "      <td>-0.109316</td>\n",
       "      <td>-0.148999</td>\n",
       "      <td>-0.055983</td>\n",
       "      <td>-0.059477</td>\n",
       "      <td>-0.139864</td>\n",
       "      <td>-0.104064</td>\n",
       "      <td>1.000000</td>\n",
       "      <td>-0.039327</td>\n",
       "      <td>-0.027719</td>\n",
       "      <td>0.022451</td>\n",
       "      <td>0.013277</td>\n",
       "    </tr>\n",
       "    <tr>\n",
       "      <th>Location_Taguig City</th>\n",
       "      <td>0.134226</td>\n",
       "      <td>0.070889</td>\n",
       "      <td>0.330974</td>\n",
       "      <td>-0.003819</td>\n",
       "      <td>0.051377</td>\n",
       "      <td>-0.014618</td>\n",
       "      <td>0.018012</td>\n",
       "      <td>-0.028383</td>\n",
       "      <td>-0.049364</td>\n",
       "      <td>-0.018547</td>\n",
       "      <td>-0.019705</td>\n",
       "      <td>-0.046337</td>\n",
       "      <td>-0.034477</td>\n",
       "      <td>-0.039327</td>\n",
       "      <td>1.000000</td>\n",
       "      <td>-0.009183</td>\n",
       "      <td>-0.141120</td>\n",
       "      <td>-0.073889</td>\n",
       "    </tr>\n",
       "    <tr>\n",
       "      <th>Location_Manila City</th>\n",
       "      <td>0.059868</td>\n",
       "      <td>-0.084377</td>\n",
       "      <td>-0.112194</td>\n",
       "      <td>-0.006499</td>\n",
       "      <td>0.116909</td>\n",
       "      <td>-0.010303</td>\n",
       "      <td>-0.039691</td>\n",
       "      <td>0.058053</td>\n",
       "      <td>-0.034792</td>\n",
       "      <td>-0.013073</td>\n",
       "      <td>-0.013888</td>\n",
       "      <td>-0.032659</td>\n",
       "      <td>-0.024300</td>\n",
       "      <td>-0.027719</td>\n",
       "      <td>-0.009183</td>\n",
       "      <td>1.000000</td>\n",
       "      <td>-0.017194</td>\n",
       "      <td>-0.052078</td>\n",
       "    </tr>\n",
       "    <tr>\n",
       "      <th>Garden_yes</th>\n",
       "      <td>0.056824</td>\n",
       "      <td>0.006450</td>\n",
       "      <td>-0.010956</td>\n",
       "      <td>0.063690</td>\n",
       "      <td>0.008797</td>\n",
       "      <td>-0.047213</td>\n",
       "      <td>0.044619</td>\n",
       "      <td>-0.040545</td>\n",
       "      <td>0.042949</td>\n",
       "      <td>-0.076267</td>\n",
       "      <td>0.021948</td>\n",
       "      <td>0.101929</td>\n",
       "      <td>0.149274</td>\n",
       "      <td>0.022451</td>\n",
       "      <td>-0.141120</td>\n",
       "      <td>-0.017194</td>\n",
       "      <td>1.000000</td>\n",
       "      <td>0.421758</td>\n",
       "    </tr>\n",
       "    <tr>\n",
       "      <th>Pet_Friendly_yes</th>\n",
       "      <td>0.018633</td>\n",
       "      <td>-0.035044</td>\n",
       "      <td>0.067695</td>\n",
       "      <td>-0.037632</td>\n",
       "      <td>0.005077</td>\n",
       "      <td>0.041919</td>\n",
       "      <td>0.041587</td>\n",
       "      <td>-0.058487</td>\n",
       "      <td>0.109056</td>\n",
       "      <td>-0.008402</td>\n",
       "      <td>0.048196</td>\n",
       "      <td>0.044951</td>\n",
       "      <td>0.081251</td>\n",
       "      <td>0.013277</td>\n",
       "      <td>-0.073889</td>\n",
       "      <td>-0.052078</td>\n",
       "      <td>0.421758</td>\n",
       "      <td>1.000000</td>\n",
       "    </tr>\n",
       "  </tbody>\n",
       "</table>\n",
       "</div>"
      ],
      "text/plain": [
       "                          Bedrooms  Bathrooms     Floor  Floors Area  \\\n",
       "Bedrooms                  1.000000   0.421890  0.226965    -0.005992   \n",
       "Bathrooms                 0.421890   1.000000  0.100099     0.015178   \n",
       "Floor                     0.226965   0.100099  1.000000     0.012618   \n",
       "Floors Area              -0.005992   0.015178  0.012618     1.000000   \n",
       "Lot Area                  0.213550   0.026541 -0.020379     0.028419   \n",
       "Garage                    0.021573   0.060094  0.026935    -0.010445   \n",
       "Reservation Fee           0.162645   0.186691  0.036147    -0.037842   \n",
       "Price                    -0.048647  -0.092651 -0.031667     0.070878   \n",
       "Location_Quezon City      0.199872   0.008214 -0.059874     0.093239   \n",
       "Location_Pasig City       0.155994   0.100912  0.122274    -0.007003   \n",
       "Location_Muntinlupa City -0.070303   0.011123  0.006356    -0.016916   \n",
       "Location_Marikina City    0.270216   0.108321  0.041359    -0.026116   \n",
       "Location_Paranaque City  -0.156443   0.045325 -0.055391     0.095259   \n",
       "Location_Caloocan City    0.256385  -0.024291  0.012686    -0.025927   \n",
       "Location_Taguig City      0.134226   0.070889  0.330974    -0.003819   \n",
       "Location_Manila City      0.059868  -0.084377 -0.112194    -0.006499   \n",
       "Garden_yes                0.056824   0.006450 -0.010956     0.063690   \n",
       "Pet_Friendly_yes          0.018633  -0.035044  0.067695    -0.037632   \n",
       "\n",
       "                          Lot Area    Garage  Reservation Fee     Price  \\\n",
       "Bedrooms                  0.213550  0.021573         0.162645 -0.048647   \n",
       "Bathrooms                 0.026541  0.060094         0.186691 -0.092651   \n",
       "Floor                    -0.020379  0.026935         0.036147 -0.031667   \n",
       "Floors Area               0.028419 -0.010445        -0.037842  0.070878   \n",
       "Lot Area                  1.000000  0.111902         0.036684  0.044265   \n",
       "Garage                    0.111902  1.000000        -0.020795  0.028747   \n",
       "Reservation Fee           0.036684 -0.020795         1.000000 -0.933644   \n",
       "Price                     0.044265  0.028747        -0.933644  1.000000   \n",
       "Location_Quezon City     -0.006107  0.008529         0.054047 -0.029488   \n",
       "Location_Pasig City       0.056505 -0.020809        -0.021226  0.060506   \n",
       "Location_Muntinlupa City -0.058548 -0.022108        -0.029361  0.007074   \n",
       "Location_Marikina City    0.057437  0.048229         0.101181 -0.035527   \n",
       "Location_Paranaque City  -0.037121 -0.024660         0.135787 -0.141094   \n",
       "Location_Caloocan City    0.168861 -0.044124         0.033526 -0.109316   \n",
       "Location_Taguig City      0.051377 -0.014618         0.018012 -0.028383   \n",
       "Location_Manila City      0.116909 -0.010303        -0.039691  0.058053   \n",
       "Garden_yes                0.008797 -0.047213         0.044619 -0.040545   \n",
       "Pet_Friendly_yes          0.005077  0.041919         0.041587 -0.058487   \n",
       "\n",
       "                          Location_Quezon City  Location_Pasig City  \\\n",
       "Bedrooms                              0.199872             0.155994   \n",
       "Bathrooms                             0.008214             0.100912   \n",
       "Floor                                -0.059874             0.122274   \n",
       "Floors Area                           0.093239            -0.007003   \n",
       "Lot Area                             -0.006107             0.056505   \n",
       "Garage                                0.008529            -0.020809   \n",
       "Reservation Fee                       0.054047            -0.021226   \n",
       "Price                                -0.029488             0.060506   \n",
       "Location_Quezon City                  1.000000            -0.070270   \n",
       "Location_Pasig City                  -0.070270             1.000000   \n",
       "Location_Muntinlupa City             -0.074656            -0.028051   \n",
       "Location_Marikina City               -0.175557            -0.065962   \n",
       "Location_Paranaque City              -0.130621            -0.049078   \n",
       "Location_Caloocan City               -0.148999            -0.055983   \n",
       "Location_Taguig City                 -0.049364            -0.018547   \n",
       "Location_Manila City                 -0.034792            -0.013073   \n",
       "Garden_yes                            0.042949            -0.076267   \n",
       "Pet_Friendly_yes                      0.109056            -0.008402   \n",
       "\n",
       "                          Location_Muntinlupa City  Location_Marikina City  \\\n",
       "Bedrooms                                 -0.070303                0.270216   \n",
       "Bathrooms                                 0.011123                0.108321   \n",
       "Floor                                     0.006356                0.041359   \n",
       "Floors Area                              -0.016916               -0.026116   \n",
       "Lot Area                                 -0.058548                0.057437   \n",
       "Garage                                   -0.022108                0.048229   \n",
       "Reservation Fee                          -0.029361                0.101181   \n",
       "Price                                     0.007074               -0.035527   \n",
       "Location_Quezon City                     -0.074656               -0.175557   \n",
       "Location_Pasig City                      -0.028051               -0.065962   \n",
       "Location_Muntinlupa City                  1.000000               -0.070079   \n",
       "Location_Marikina City                   -0.070079                1.000000   \n",
       "Location_Paranaque City                  -0.052141               -0.122613   \n",
       "Location_Caloocan City                   -0.059477               -0.139864   \n",
       "Location_Taguig City                     -0.019705               -0.046337   \n",
       "Location_Manila City                     -0.013888               -0.032659   \n",
       "Garden_yes                                0.021948                0.101929   \n",
       "Pet_Friendly_yes                          0.048196                0.044951   \n",
       "\n",
       "                          Location_Paranaque City  Location_Caloocan City  \\\n",
       "Bedrooms                                -0.156443                0.256385   \n",
       "Bathrooms                                0.045325               -0.024291   \n",
       "Floor                                   -0.055391                0.012686   \n",
       "Floors Area                              0.095259               -0.025927   \n",
       "Lot Area                                -0.037121                0.168861   \n",
       "Garage                                  -0.024660               -0.044124   \n",
       "Reservation Fee                          0.135787                0.033526   \n",
       "Price                                   -0.141094               -0.109316   \n",
       "Location_Quezon City                    -0.130621               -0.148999   \n",
       "Location_Pasig City                     -0.049078               -0.055983   \n",
       "Location_Muntinlupa City                -0.052141               -0.059477   \n",
       "Location_Marikina City                  -0.122613               -0.139864   \n",
       "Location_Paranaque City                  1.000000               -0.104064   \n",
       "Location_Caloocan City                  -0.104064                1.000000   \n",
       "Location_Taguig City                    -0.034477               -0.039327   \n",
       "Location_Manila City                    -0.024300               -0.027719   \n",
       "Garden_yes                               0.149274                0.022451   \n",
       "Pet_Friendly_yes                         0.081251                0.013277   \n",
       "\n",
       "                          Location_Taguig City  Location_Manila City  \\\n",
       "Bedrooms                              0.134226              0.059868   \n",
       "Bathrooms                             0.070889             -0.084377   \n",
       "Floor                                 0.330974             -0.112194   \n",
       "Floors Area                          -0.003819             -0.006499   \n",
       "Lot Area                              0.051377              0.116909   \n",
       "Garage                               -0.014618             -0.010303   \n",
       "Reservation Fee                       0.018012             -0.039691   \n",
       "Price                                -0.028383              0.058053   \n",
       "Location_Quezon City                 -0.049364             -0.034792   \n",
       "Location_Pasig City                  -0.018547             -0.013073   \n",
       "Location_Muntinlupa City             -0.019705             -0.013888   \n",
       "Location_Marikina City               -0.046337             -0.032659   \n",
       "Location_Paranaque City              -0.034477             -0.024300   \n",
       "Location_Caloocan City               -0.039327             -0.027719   \n",
       "Location_Taguig City                  1.000000             -0.009183   \n",
       "Location_Manila City                 -0.009183              1.000000   \n",
       "Garden_yes                           -0.141120             -0.017194   \n",
       "Pet_Friendly_yes                     -0.073889             -0.052078   \n",
       "\n",
       "                          Garden_yes  Pet_Friendly_yes  \n",
       "Bedrooms                    0.056824          0.018633  \n",
       "Bathrooms                   0.006450         -0.035044  \n",
       "Floor                      -0.010956          0.067695  \n",
       "Floors Area                 0.063690         -0.037632  \n",
       "Lot Area                    0.008797          0.005077  \n",
       "Garage                     -0.047213          0.041919  \n",
       "Reservation Fee             0.044619          0.041587  \n",
       "Price                      -0.040545         -0.058487  \n",
       "Location_Quezon City        0.042949          0.109056  \n",
       "Location_Pasig City        -0.076267         -0.008402  \n",
       "Location_Muntinlupa City    0.021948          0.048196  \n",
       "Location_Marikina City      0.101929          0.044951  \n",
       "Location_Paranaque City     0.149274          0.081251  \n",
       "Location_Caloocan City      0.022451          0.013277  \n",
       "Location_Taguig City       -0.141120         -0.073889  \n",
       "Location_Manila City       -0.017194         -0.052078  \n",
       "Garden_yes                  1.000000          0.421758  \n",
       "Pet_Friendly_yes            0.421758          1.000000  "
      ]
     },
     "metadata": {},
     "output_type": "display_data"
    },
    {
     "data": {
      "text/plain": [
       "<AxesSubplot:>"
      ]
     },
     "execution_count": 24,
     "metadata": {},
     "output_type": "execute_result"
    },
    {
     "data": {
      "image/png": "[encoded data removed]",
      "text/plain": [
       "<Figure size 432x288 with 2 Axes>"
      ]
     },
     "metadata": {
      "needs_background": "light"
     },
     "output_type": "display_data"
    }
   ],
   "source": [
    "# calculate the correlation matrix\n",
    "corr = cleaned_df.corr()\n",
    "\n",
    "# display the correlation matrix\n",
    "display(corr)\n",
    "\n",
    "# plot the correlation heatmap\n",
    "sns.heatmap(corr, xticklabels=corr.columns, yticklabels=corr.columns, cmap='RdBu')"
   ]
  },
  {
   "cell_type": "markdown",
   "metadata": {},
   "source": [
    "Looking at the heatmap along with the correlation matrix we can identify a correlated variables namely the Reservation Fee and Price. It makes sense that these two are correlated; if you're getting a big house or townhouse, the reservation free will almost certainly rise."
   ]
  },
  {
   "cell_type": "markdown",
   "metadata": {},
   "source": [
    "##### 2.7.2 Variance Inflation Factor\n",
    "\n",
    "One method we can use is the variance_inflation_factor which is a measure of how much a particular variable is contributing to the standard error in the model.\n",
    "\n",
    "To understand the variance inflation factor, use the following rule of thumb: 1 indicates that there is no link between the two variables. Moderately correlated is between 1 and 5. Highly correlated if the number is greater than five. We should eliminate a variable from the model if its value is greater than 5 or higher. First, we can run the VFI data to see which variables need to be removed. "
   ]
  },
  {
   "cell_type": "code",
   "execution_count": 25,
   "metadata": {},
   "outputs": [
    {
     "name": "stdout",
     "output_type": "stream",
     "text": [
      "VIF score\n",
      "----------------------------------------------------------------------------------------------------\n"
     ]
    },
    {
     "data": {
      "text/plain": [
       "const                       67.942623\n",
       "Bedrooms                     2.069492\n",
       "Bathrooms                    1.346461\n",
       "Floor                        1.241599\n",
       "Floors Area                  1.038763\n",
       "Lot Area                     1.111396\n",
       "Garage                       1.036140\n",
       "Reservation Fee              1.093440\n",
       "Location_Quezon City         1.455103\n",
       "Location_Pasig City          1.139386\n",
       "Location_Muntinlupa City     1.045394\n",
       "Location_Marikina City       1.458748\n",
       "Location_Paranaque City      1.189733\n",
       "Location_Caloocan City       1.441225\n",
       "Location_Taguig City         1.206966\n",
       "Location_Manila City         1.079992\n",
       "Garden_yes                   1.299535\n",
       "Pet_Friendly_yes             1.275740\n",
       "dtype: float64"
      ]
     },
     "metadata": {},
     "output_type": "display_data"
    }
   ],
   "source": [
    "# Price is drop because it is dependent variable\n",
    "cleaned_df_check = cleaned_df.drop(columns=['Price',])\n",
    "\n",
    "# the VFI does expect a constant term in the data, so we need to add one using the add_constant method\n",
    "X1 = sm.tools.add_constant(cleaned_df_check)\n",
    "\n",
    "# create the series for before the drop\n",
    "series = pd.Series([variance_inflation_factor(X1.values, i) for i in range(X1.shape[1])], index=X1.columns)\n",
    "\n",
    "# display the series\n",
    "print('VIF score')\n",
    "print('-'*100)\n",
    "display(series)"
   ]
  },
  {
   "cell_type": "markdown",
   "metadata": {},
   "source": [
    "Since, in our dataset there is no attribute whose value is greater than 5, then we can say that our data is Moderately Correlated."
   ]
  },
  {
   "cell_type": "markdown",
   "metadata": {},
   "source": [
    "##### 2.7.3 Scatter Plot Matrix\n",
    "\n",
    "Another way to visualize our data to check for multicollinearity. Inside of pandas, there is a scatter_matrix chart that will create a scatter plot for each variable in our dataset against another variable. This is a great tool for visualizing the correlation of one variable across all the other variables in the dataset."
   ]
  },
  {
   "cell_type": "code",
   "execution_count": 26,
   "metadata": {},
   "outputs": [
    {
     "data": {
      "image/png": "[encoded data removed]",
      "text/plain": [
       "<Figure size 2160x1440 with 324 Axes>"
      ]
     },
     "metadata": {
      "needs_background": "light"
     },
     "output_type": "display_data"
    }
   ],
   "source": [
    "# define the plot\n",
    "pd.plotting.scatter_matrix(cleaned_df, alpha = 1, figsize = (30, 20))\n",
    "\n",
    "# show the plot\n",
    "plt.show()"
   ]
  },
  {
   "cell_type": "markdown",
   "metadata": {},
   "source": [
    "#### 2.8 Check Outliers\n",
    "\n",
    "Outliers are anomalous values in our dataset that can cause statistical analyses to be skewed and assumptions to be violated. Because we have an outlier, which will increase the variability in our data and reduce our dataset's statistical power, we will remove it in order to have a clean dataset."
   ]
  },
  {
   "cell_type": "code",
   "execution_count": 27,
   "metadata": {},
   "outputs": [
    {
     "name": "stdout",
     "output_type": "stream",
     "text": [
      "Before:\n",
      "total instances: 311\n",
      "----------------------------------------------------------------------------------------------------\n",
      "After:\n",
      "outliers:  [ 49  72 111 117 151 184 185 230 301 314 332 334 348 353]\n",
      "total outliers index:  14\n",
      "cleaned instances:  297\n"
     ]
    }
   ],
   "source": [
    "# before removing outliers\n",
    "print('Before:')\n",
    "print('total instances: {0}'.format(len(cleaned_df)))\n",
    "\n",
    "# filter the data frame to remove the values exceeding 3 standard deviations\n",
    "cleaned_remove_df = cleaned_df[(np.abs(stats.zscore(cleaned_df.values[:,:7])) < 3).all(axis=1)]\n",
    "\n",
    "# what rows were removed\n",
    "cleaned_outliers_df = cleaned_df.index.difference(cleaned_remove_df.index)\n",
    "\n",
    "# total outliers\n",
    "total_outliers = len(cleaned_outliers_df)\n",
    "\n",
    "# assign the cleaned data (without outliers)\n",
    "cleaned_df = cleaned_remove_df\n",
    "\n",
    "# after removing outliers\n",
    "print('-'*100)\n",
    "print('After:')\n",
    "print('outliers: ', cleaned_outliers_df.values)\n",
    "print('total outliers index: ', len(cleaned_outliers_df))\n",
    "print('cleaned instances: ', len(cleaned_df))"
   ]
  },
  {
   "cell_type": "markdown",
   "metadata": {},
   "source": [
    "#### 2.9 Dataset Summary\n",
    "\n",
    "Before we get to an in-depth exploration of the data or even building the model, we should explore the data a little more and see how the data is distributed and if there are any outliers. I will be adding a few more metrics to the summary data frame, so that it now includes a metric for three standard deviations below and above the mean."
   ]
  },
  {
   "cell_type": "code",
   "execution_count": 28,
   "metadata": {},
   "outputs": [
    {
     "data": {
      "text/html": [
       "<div>\n",
       "<style scoped>\n",
       "    .dataframe tbody tr th:only-of-type {\n",
       "        vertical-align: middle;\n",
       "    }\n",
       "\n",
       "    .dataframe tbody tr th {\n",
       "        vertical-align: top;\n",
       "    }\n",
       "\n",
       "    .dataframe thead th {\n",
       "        text-align: right;\n",
       "    }\n",
       "</style>\n",
       "<table border=\"1\" class=\"dataframe\">\n",
       "  <thead>\n",
       "    <tr style=\"text-align: right;\">\n",
       "      <th></th>\n",
       "      <th>Bedrooms</th>\n",
       "      <th>Bathrooms</th>\n",
       "      <th>Floor</th>\n",
       "      <th>Floors Area</th>\n",
       "      <th>Lot Area</th>\n",
       "      <th>Garage</th>\n",
       "      <th>Reservation Fee</th>\n",
       "      <th>Price</th>\n",
       "      <th>Location_Quezon City</th>\n",
       "      <th>Location_Pasig City</th>\n",
       "      <th>Location_Muntinlupa City</th>\n",
       "      <th>Location_Marikina City</th>\n",
       "      <th>Location_Paranaque City</th>\n",
       "      <th>Location_Caloocan City</th>\n",
       "      <th>Location_Taguig City</th>\n",
       "      <th>Location_Manila City</th>\n",
       "      <th>Garden_yes</th>\n",
       "      <th>Pet_Friendly_yes</th>\n",
       "    </tr>\n",
       "  </thead>\n",
       "  <tbody>\n",
       "    <tr>\n",
       "      <th>count</th>\n",
       "      <td>297.000000</td>\n",
       "      <td>297.000000</td>\n",
       "      <td>297.000000</td>\n",
       "      <td>297.000000</td>\n",
       "      <td>297.000000</td>\n",
       "      <td>297.000000</td>\n",
       "      <td>2.970000e+02</td>\n",
       "      <td>2.970000e+02</td>\n",
       "      <td>297.000000</td>\n",
       "      <td>297.000000</td>\n",
       "      <td>297.000000</td>\n",
       "      <td>297.000000</td>\n",
       "      <td>297.000000</td>\n",
       "      <td>297.000000</td>\n",
       "      <td>297.000000</td>\n",
       "      <td>297.000000</td>\n",
       "      <td>297.000000</td>\n",
       "      <td>297.000000</td>\n",
       "    </tr>\n",
       "    <tr>\n",
       "      <th>mean</th>\n",
       "      <td>2.545455</td>\n",
       "      <td>1.959596</td>\n",
       "      <td>1.973064</td>\n",
       "      <td>74.638586</td>\n",
       "      <td>56.320875</td>\n",
       "      <td>1.050505</td>\n",
       "      <td>8.666765e+05</td>\n",
       "      <td>3.322203e+06</td>\n",
       "      <td>0.161616</td>\n",
       "      <td>0.023569</td>\n",
       "      <td>0.030303</td>\n",
       "      <td>0.141414</td>\n",
       "      <td>0.080808</td>\n",
       "      <td>0.104377</td>\n",
       "      <td>0.006734</td>\n",
       "      <td>0.003367</td>\n",
       "      <td>0.606061</td>\n",
       "      <td>0.771044</td>\n",
       "    </tr>\n",
       "    <tr>\n",
       "      <th>std</th>\n",
       "      <td>0.550296</td>\n",
       "      <td>0.400655</td>\n",
       "      <td>0.317212</td>\n",
       "      <td>23.149676</td>\n",
       "      <td>14.709693</td>\n",
       "      <td>0.234250</td>\n",
       "      <td>1.692865e+06</td>\n",
       "      <td>1.762925e+06</td>\n",
       "      <td>0.368720</td>\n",
       "      <td>0.151958</td>\n",
       "      <td>0.171709</td>\n",
       "      <td>0.349036</td>\n",
       "      <td>0.273000</td>\n",
       "      <td>0.306265</td>\n",
       "      <td>0.081922</td>\n",
       "      <td>0.058026</td>\n",
       "      <td>0.489446</td>\n",
       "      <td>0.420870</td>\n",
       "    </tr>\n",
       "    <tr>\n",
       "      <th>min</th>\n",
       "      <td>1.000000</td>\n",
       "      <td>1.000000</td>\n",
       "      <td>1.000000</td>\n",
       "      <td>37.000000</td>\n",
       "      <td>10.000000</td>\n",
       "      <td>0.000000</td>\n",
       "      <td>0.000000e+00</td>\n",
       "      <td>0.000000e+00</td>\n",
       "      <td>0.000000</td>\n",
       "      <td>0.000000</td>\n",
       "      <td>0.000000</td>\n",
       "      <td>0.000000</td>\n",
       "      <td>0.000000</td>\n",
       "      <td>0.000000</td>\n",
       "      <td>0.000000</td>\n",
       "      <td>0.000000</td>\n",
       "      <td>0.000000</td>\n",
       "      <td>0.000000</td>\n",
       "    </tr>\n",
       "    <tr>\n",
       "      <th>25%</th>\n",
       "      <td>2.000000</td>\n",
       "      <td>2.000000</td>\n",
       "      <td>2.000000</td>\n",
       "      <td>57.000000</td>\n",
       "      <td>49.000000</td>\n",
       "      <td>1.000000</td>\n",
       "      <td>0.000000e+00</td>\n",
       "      <td>3.153000e+06</td>\n",
       "      <td>0.000000</td>\n",
       "      <td>0.000000</td>\n",
       "      <td>0.000000</td>\n",
       "      <td>0.000000</td>\n",
       "      <td>0.000000</td>\n",
       "      <td>0.000000</td>\n",
       "      <td>0.000000</td>\n",
       "      <td>0.000000</td>\n",
       "      <td>0.000000</td>\n",
       "      <td>1.000000</td>\n",
       "    </tr>\n",
       "    <tr>\n",
       "      <th>50%</th>\n",
       "      <td>3.000000</td>\n",
       "      <td>2.000000</td>\n",
       "      <td>2.000000</td>\n",
       "      <td>75.000000</td>\n",
       "      <td>54.000000</td>\n",
       "      <td>1.000000</td>\n",
       "      <td>2.000000e+04</td>\n",
       "      <td>3.952000e+06</td>\n",
       "      <td>0.000000</td>\n",
       "      <td>0.000000</td>\n",
       "      <td>0.000000</td>\n",
       "      <td>0.000000</td>\n",
       "      <td>0.000000</td>\n",
       "      <td>0.000000</td>\n",
       "      <td>0.000000</td>\n",
       "      <td>0.000000</td>\n",
       "      <td>1.000000</td>\n",
       "      <td>1.000000</td>\n",
       "    </tr>\n",
       "    <tr>\n",
       "      <th>75%</th>\n",
       "      <td>3.000000</td>\n",
       "      <td>2.000000</td>\n",
       "      <td>2.000000</td>\n",
       "      <td>88.000000</td>\n",
       "      <td>64.000000</td>\n",
       "      <td>1.000000</td>\n",
       "      <td>5.000000e+04</td>\n",
       "      <td>4.550000e+06</td>\n",
       "      <td>0.000000</td>\n",
       "      <td>0.000000</td>\n",
       "      <td>0.000000</td>\n",
       "      <td>0.000000</td>\n",
       "      <td>0.000000</td>\n",
       "      <td>0.000000</td>\n",
       "      <td>0.000000</td>\n",
       "      <td>0.000000</td>\n",
       "      <td>1.000000</td>\n",
       "      <td>1.000000</td>\n",
       "    </tr>\n",
       "    <tr>\n",
       "      <th>max</th>\n",
       "      <td>4.000000</td>\n",
       "      <td>3.000000</td>\n",
       "      <td>3.000000</td>\n",
       "      <td>200.000000</td>\n",
       "      <td>120.000000</td>\n",
       "      <td>2.000000</td>\n",
       "      <td>5.000000e+06</td>\n",
       "      <td>5.000000e+06</td>\n",
       "      <td>1.000000</td>\n",
       "      <td>1.000000</td>\n",
       "      <td>1.000000</td>\n",
       "      <td>1.000000</td>\n",
       "      <td>1.000000</td>\n",
       "      <td>1.000000</td>\n",
       "      <td>1.000000</td>\n",
       "      <td>1.000000</td>\n",
       "      <td>1.000000</td>\n",
       "      <td>1.000000</td>\n",
       "    </tr>\n",
       "    <tr>\n",
       "      <th>+3_std</th>\n",
       "      <td>4.196342</td>\n",
       "      <td>3.161560</td>\n",
       "      <td>2.924699</td>\n",
       "      <td>144.087614</td>\n",
       "      <td>100.449956</td>\n",
       "      <td>1.753255</td>\n",
       "      <td>5.945271e+06</td>\n",
       "      <td>8.610977e+06</td>\n",
       "      <td>1.267775</td>\n",
       "      <td>0.479443</td>\n",
       "      <td>0.545430</td>\n",
       "      <td>1.188523</td>\n",
       "      <td>0.899808</td>\n",
       "      <td>1.023173</td>\n",
       "      <td>0.252501</td>\n",
       "      <td>0.177445</td>\n",
       "      <td>2.074400</td>\n",
       "      <td>2.033654</td>\n",
       "    </tr>\n",
       "    <tr>\n",
       "      <th>-3_std</th>\n",
       "      <td>0.894567</td>\n",
       "      <td>0.757632</td>\n",
       "      <td>1.021428</td>\n",
       "      <td>5.189558</td>\n",
       "      <td>12.191795</td>\n",
       "      <td>0.347755</td>\n",
       "      <td>-4.211918e+06</td>\n",
       "      <td>-1.966571e+06</td>\n",
       "      <td>-0.944543</td>\n",
       "      <td>-0.432305</td>\n",
       "      <td>-0.484824</td>\n",
       "      <td>-0.905695</td>\n",
       "      <td>-0.738192</td>\n",
       "      <td>-0.814418</td>\n",
       "      <td>-0.239033</td>\n",
       "      <td>-0.170711</td>\n",
       "      <td>-0.862278</td>\n",
       "      <td>-0.491567</td>\n",
       "    </tr>\n",
       "  </tbody>\n",
       "</table>\n",
       "</div>"
      ],
      "text/plain": [
       "          Bedrooms   Bathrooms       Floor  Floors Area    Lot Area  \\\n",
       "count   297.000000  297.000000  297.000000   297.000000  297.000000   \n",
       "mean      2.545455    1.959596    1.973064    74.638586   56.320875   \n",
       "std       0.550296    0.400655    0.317212    23.149676   14.709693   \n",
       "min       1.000000    1.000000    1.000000    37.000000   10.000000   \n",
       "25%       2.000000    2.000000    2.000000    57.000000   49.000000   \n",
       "50%       3.000000    2.000000    2.000000    75.000000   54.000000   \n",
       "75%       3.000000    2.000000    2.000000    88.000000   64.000000   \n",
       "max       4.000000    3.000000    3.000000   200.000000  120.000000   \n",
       "+3_std    4.196342    3.161560    2.924699   144.087614  100.449956   \n",
       "-3_std    0.894567    0.757632    1.021428     5.189558   12.191795   \n",
       "\n",
       "            Garage  Reservation Fee         Price  Location_Quezon City  \\\n",
       "count   297.000000     2.970000e+02  2.970000e+02            297.000000   \n",
       "mean      1.050505     8.666765e+05  3.322203e+06              0.161616   \n",
       "std       0.234250     1.692865e+06  1.762925e+06              0.368720   \n",
       "min       0.000000     0.000000e+00  0.000000e+00              0.000000   \n",
       "25%       1.000000     0.000000e+00  3.153000e+06              0.000000   \n",
       "50%       1.000000     2.000000e+04  3.952000e+06              0.000000   \n",
       "75%       1.000000     5.000000e+04  4.550000e+06              0.000000   \n",
       "max       2.000000     5.000000e+06  5.000000e+06              1.000000   \n",
       "+3_std    1.753255     5.945271e+06  8.610977e+06              1.267775   \n",
       "-3_std    0.347755    -4.211918e+06 -1.966571e+06             -0.944543   \n",
       "\n",
       "        Location_Pasig City  Location_Muntinlupa City  Location_Marikina City  \\\n",
       "count            297.000000                297.000000              297.000000   \n",
       "mean               0.023569                  0.030303                0.141414   \n",
       "std                0.151958                  0.171709                0.349036   \n",
       "min                0.000000                  0.000000                0.000000   \n",
       "25%                0.000000                  0.000000                0.000000   \n",
       "50%                0.000000                  0.000000                0.000000   \n",
       "75%                0.000000                  0.000000                0.000000   \n",
       "max                1.000000                  1.000000                1.000000   \n",
       "+3_std             0.479443                  0.545430                1.188523   \n",
       "-3_std            -0.432305                 -0.484824               -0.905695   \n",
       "\n",
       "        Location_Paranaque City  Location_Caloocan City  Location_Taguig City  \\\n",
       "count                297.000000              297.000000            297.000000   \n",
       "mean                   0.080808                0.104377              0.006734   \n",
       "std                    0.273000                0.306265              0.081922   \n",
       "min                    0.000000                0.000000              0.000000   \n",
       "25%                    0.000000                0.000000              0.000000   \n",
       "50%                    0.000000                0.000000              0.000000   \n",
       "75%                    0.000000                0.000000              0.000000   \n",
       "max                    1.000000                1.000000              1.000000   \n",
       "+3_std                 0.899808                1.023173              0.252501   \n",
       "-3_std                -0.738192               -0.814418             -0.239033   \n",
       "\n",
       "        Location_Manila City  Garden_yes  Pet_Friendly_yes  \n",
       "count             297.000000  297.000000        297.000000  \n",
       "mean                0.003367    0.606061          0.771044  \n",
       "std                 0.058026    0.489446          0.420870  \n",
       "min                 0.000000    0.000000          0.000000  \n",
       "25%                 0.000000    0.000000          1.000000  \n",
       "50%                 0.000000    1.000000          1.000000  \n",
       "75%                 0.000000    1.000000          1.000000  \n",
       "max                 1.000000    1.000000          1.000000  \n",
       "+3_std              0.177445    2.074400          2.033654  \n",
       "-3_std             -0.170711   -0.862278         -0.491567  "
      ]
     },
     "metadata": {},
     "output_type": "display_data"
    }
   ],
   "source": [
    "# get the summary\n",
    "desc_df = cleaned_df.describe()\n",
    "\n",
    "# add the standard deviation metric\n",
    "desc_df.loc['+3_std'] = desc_df.loc['mean'] + (desc_df.loc['std'] * 3)\n",
    "desc_df.loc['-3_std'] = desc_df.loc['mean'] - (desc_df.loc['std'] * 3)\n",
    "\n",
    "display(desc_df)"
   ]
  },
  {
   "cell_type": "markdown",
   "metadata": {},
   "source": [
    "<br>"
   ]
  },
  {
   "cell_type": "markdown",
   "metadata": {},
   "source": [
    "<br>"
   ]
  },
  {
   "cell_type": "markdown",
   "metadata": {},
   "source": [
    "### 3. Model Planning and Building"
   ]
  },
  {
   "cell_type": "markdown",
   "metadata": {},
   "source": [
    "&nbsp;&nbsp;&nbsp;&nbsp; 3.1. Import Libraries <br>\n",
    "&nbsp;&nbsp;&nbsp;&nbsp; 3.2. Define Dependent and Independent Variables <br>\n",
    "&nbsp;&nbsp;&nbsp;&nbsp; 3.3. Define Train and Test Set <br>\n",
    "&nbsp;&nbsp;&nbsp;&nbsp; 3.4. Model Building <br>\n",
    "&nbsp;&nbsp;&nbsp;&nbsp;&nbsp;&nbsp;&nbsp;&nbsp; 3.4.1. Multiple Linear Regression <br>\n",
    "&nbsp;&nbsp;&nbsp;&nbsp;&nbsp;&nbsp;&nbsp;&nbsp; 3.4.2. Decision Tree <br>\n",
    "&nbsp;&nbsp;&nbsp;&nbsp;&nbsp;&nbsp;&nbsp;&nbsp; 3.4.3. Random Forest <br>\n",
    "&nbsp;&nbsp;&nbsp;&nbsp;&nbsp;&nbsp;&nbsp;&nbsp; 3.4.4. Multi Layer Perceptron Model <br>\n",
    "&nbsp;&nbsp;&nbsp;&nbsp;&nbsp;&nbsp;&nbsp;&nbsp; 3.4.5. KMeans Clustering <br>"
   ]
  },
  {
   "cell_type": "markdown",
   "metadata": {},
   "source": [
    "#### 3.1. Import Libraries <br>"
   ]
  },
  {
   "cell_type": "code",
   "execution_count": 14,
   "metadata": {},
   "outputs": [],
   "source": [
    "#import libraries\n",
    "from sklearn.linear_model import LinearRegression\n",
    "from sklearn.tree import DecisionTreeClassifier\n",
    "from sklearn.ensemble import RandomForestRegressor \n",
    "from sklearn.neural_network import MLPClassifier\n",
    "from sklearn.cluster import KMeans\n",
    "\n",
    "from sklearn.model_selection import train_test_split\n",
    "from sklearn.metrics import accuracy_score \n",
    "from sklearn.datasets import make_classification\n",
    "from sklearn.metrics import mean_squared_error, r2_score, mean_absolute_error\n",
    "import math"
   ]
  },
  {
   "cell_type": "markdown",
   "metadata": {},
   "source": [
    "#### Method Definition\n",
    "In here, we defined methods for splitting the data, getting the accuracy score, predictions, and errors to reduce our code "
   ]
  },
  {
   "cell_type": "code",
   "execution_count": 15,
   "metadata": {},
   "outputs": [],
   "source": [
    "def split_dataset(cleaned_df, X, Y): \n",
    "    # Splitting the dataset into train and test \n",
    "    X_train, X_test, y_train, y_test = train_test_split(  \n",
    "    X, Y, test_size = 0.2, random_state = 100) \n",
    "      \n",
    "    return X_train, X_test, y_train, y_test\n",
    "\n",
    "def get_accuracy_score(model, x_set, y_set):\n",
    "    return model.score(x_set, y_set)\n",
    "\n",
    "def get_predictions(model, x_set): \n",
    "    y_predictions = model.predict(X_test) \n",
    "    return y_predictions\n",
    "\n",
    "def get_errors(y_test, y_predict):\n",
    "    # calculate the mean squared error\n",
    "    model_mse = mean_squared_error(y_test, y_predict)\n",
    "    # calculate the mean absolute error\n",
    "    model_mae = mean_absolute_error(y_test, y_predict)\n",
    "    # calulcate the root mean squared error\n",
    "    model_rmse =  math.sqrt(model_mse)\n",
    "    return model_mse, model_mae, model_rmse\n"
   ]
  },
  {
   "cell_type": "markdown",
   "metadata": {},
   "source": [
    "#### 3.2. Define Dependent and Independent Variables <br>"
   ]
  },
  {
   "cell_type": "code",
   "execution_count": 16,
   "metadata": {},
   "outputs": [
    {
     "name": "stdout",
     "output_type": "stream",
     "text": [
      "Independent Variables: \n"
     ]
    },
    {
     "data": {
      "text/html": [
       "<div>\n",
       "<style scoped>\n",
       "    .dataframe tbody tr th:only-of-type {\n",
       "        vertical-align: middle;\n",
       "    }\n",
       "\n",
       "    .dataframe tbody tr th {\n",
       "        vertical-align: top;\n",
       "    }\n",
       "\n",
       "    .dataframe thead th {\n",
       "        text-align: right;\n",
       "    }\n",
       "</style>\n",
       "<table border=\"1\" class=\"dataframe\">\n",
       "  <thead>\n",
       "    <tr style=\"text-align: right;\">\n",
       "      <th></th>\n",
       "      <th>Bedrooms</th>\n",
       "      <th>Bathrooms</th>\n",
       "      <th>Floor</th>\n",
       "      <th>Floors Area</th>\n",
       "      <th>Lot Area</th>\n",
       "      <th>Garage</th>\n",
       "      <th>Reservation Fee</th>\n",
       "      <th>Location_Quezon City</th>\n",
       "      <th>Location_Pasig City</th>\n",
       "      <th>Location_Muntinlupa City</th>\n",
       "      <th>Location_Marikina City</th>\n",
       "      <th>Location_Paranaque City</th>\n",
       "      <th>Location_Caloocan City</th>\n",
       "      <th>Location_Taguig City</th>\n",
       "      <th>Location_Manila City</th>\n",
       "      <th>Garden_yes</th>\n",
       "      <th>Pet_Friendly_yes</th>\n",
       "    </tr>\n",
       "  </thead>\n",
       "  <tbody>\n",
       "    <tr>\n",
       "      <th>0</th>\n",
       "      <td>2.0</td>\n",
       "      <td>1.0</td>\n",
       "      <td>2.0</td>\n",
       "      <td>67.0</td>\n",
       "      <td>55.0</td>\n",
       "      <td>1.0</td>\n",
       "      <td>0.0</td>\n",
       "      <td>0.0</td>\n",
       "      <td>0.0</td>\n",
       "      <td>0.0</td>\n",
       "      <td>0.0</td>\n",
       "      <td>0.0</td>\n",
       "      <td>0.0</td>\n",
       "      <td>0.0</td>\n",
       "      <td>0.0</td>\n",
       "      <td>1.0</td>\n",
       "      <td>1.0</td>\n",
       "    </tr>\n",
       "    <tr>\n",
       "      <th>1</th>\n",
       "      <td>3.0</td>\n",
       "      <td>2.0</td>\n",
       "      <td>2.0</td>\n",
       "      <td>78.0</td>\n",
       "      <td>58.0</td>\n",
       "      <td>1.0</td>\n",
       "      <td>30000.0</td>\n",
       "      <td>0.0</td>\n",
       "      <td>0.0</td>\n",
       "      <td>0.0</td>\n",
       "      <td>0.0</td>\n",
       "      <td>0.0</td>\n",
       "      <td>0.0</td>\n",
       "      <td>0.0</td>\n",
       "      <td>0.0</td>\n",
       "      <td>1.0</td>\n",
       "      <td>1.0</td>\n",
       "    </tr>\n",
       "    <tr>\n",
       "      <th>2</th>\n",
       "      <td>3.0</td>\n",
       "      <td>2.0</td>\n",
       "      <td>2.0</td>\n",
       "      <td>65.0</td>\n",
       "      <td>60.0</td>\n",
       "      <td>1.0</td>\n",
       "      <td>50000.0</td>\n",
       "      <td>1.0</td>\n",
       "      <td>0.0</td>\n",
       "      <td>0.0</td>\n",
       "      <td>0.0</td>\n",
       "      <td>0.0</td>\n",
       "      <td>0.0</td>\n",
       "      <td>0.0</td>\n",
       "      <td>0.0</td>\n",
       "      <td>1.0</td>\n",
       "      <td>1.0</td>\n",
       "    </tr>\n",
       "    <tr>\n",
       "      <th>3</th>\n",
       "      <td>3.0</td>\n",
       "      <td>2.0</td>\n",
       "      <td>2.0</td>\n",
       "      <td>70.0</td>\n",
       "      <td>52.0</td>\n",
       "      <td>1.0</td>\n",
       "      <td>30000.0</td>\n",
       "      <td>0.0</td>\n",
       "      <td>0.0</td>\n",
       "      <td>0.0</td>\n",
       "      <td>0.0</td>\n",
       "      <td>0.0</td>\n",
       "      <td>0.0</td>\n",
       "      <td>0.0</td>\n",
       "      <td>0.0</td>\n",
       "      <td>1.0</td>\n",
       "      <td>1.0</td>\n",
       "    </tr>\n",
       "    <tr>\n",
       "      <th>4</th>\n",
       "      <td>3.0</td>\n",
       "      <td>2.0</td>\n",
       "      <td>2.0</td>\n",
       "      <td>65.0</td>\n",
       "      <td>48.0</td>\n",
       "      <td>1.0</td>\n",
       "      <td>50000.0</td>\n",
       "      <td>1.0</td>\n",
       "      <td>0.0</td>\n",
       "      <td>0.0</td>\n",
       "      <td>0.0</td>\n",
       "      <td>0.0</td>\n",
       "      <td>0.0</td>\n",
       "      <td>0.0</td>\n",
       "      <td>0.0</td>\n",
       "      <td>1.0</td>\n",
       "      <td>1.0</td>\n",
       "    </tr>\n",
       "  </tbody>\n",
       "</table>\n",
       "</div>"
      ],
      "text/plain": [
       "   Bedrooms  Bathrooms  Floor  Floors Area  Lot Area  Garage  Reservation Fee  \\\n",
       "0       2.0        1.0    2.0         67.0      55.0     1.0              0.0   \n",
       "1       3.0        2.0    2.0         78.0      58.0     1.0          30000.0   \n",
       "2       3.0        2.0    2.0         65.0      60.0     1.0          50000.0   \n",
       "3       3.0        2.0    2.0         70.0      52.0     1.0          30000.0   \n",
       "4       3.0        2.0    2.0         65.0      48.0     1.0          50000.0   \n",
       "\n",
       "   Location_Quezon City  Location_Pasig City  Location_Muntinlupa City  \\\n",
       "0                   0.0                  0.0                       0.0   \n",
       "1                   0.0                  0.0                       0.0   \n",
       "2                   1.0                  0.0                       0.0   \n",
       "3                   0.0                  0.0                       0.0   \n",
       "4                   1.0                  0.0                       0.0   \n",
       "\n",
       "   Location_Marikina City  Location_Paranaque City  Location_Caloocan City  \\\n",
       "0                     0.0                      0.0                     0.0   \n",
       "1                     0.0                      0.0                     0.0   \n",
       "2                     0.0                      0.0                     0.0   \n",
       "3                     0.0                      0.0                     0.0   \n",
       "4                     0.0                      0.0                     0.0   \n",
       "\n",
       "   Location_Taguig City  Location_Manila City  Garden_yes  Pet_Friendly_yes  \n",
       "0                   0.0                   0.0         1.0               1.0  \n",
       "1                   0.0                   0.0         1.0               1.0  \n",
       "2                   0.0                   0.0         1.0               1.0  \n",
       "3                   0.0                   0.0         1.0               1.0  \n",
       "4                   0.0                   0.0         1.0               1.0  "
      ]
     },
     "metadata": {},
     "output_type": "display_data"
    },
    {
     "name": "stdout",
     "output_type": "stream",
     "text": [
      "----------------------------------------------------------------------------------------------------\n",
      "Dependent Variables: \n"
     ]
    },
    {
     "data": {
      "text/html": [
       "<div>\n",
       "<style scoped>\n",
       "    .dataframe tbody tr th:only-of-type {\n",
       "        vertical-align: middle;\n",
       "    }\n",
       "\n",
       "    .dataframe tbody tr th {\n",
       "        vertical-align: top;\n",
       "    }\n",
       "\n",
       "    .dataframe thead th {\n",
       "        text-align: right;\n",
       "    }\n",
       "</style>\n",
       "<table border=\"1\" class=\"dataframe\">\n",
       "  <thead>\n",
       "    <tr style=\"text-align: right;\">\n",
       "      <th></th>\n",
       "      <th>Price</th>\n",
       "    </tr>\n",
       "  </thead>\n",
       "  <tbody>\n",
       "    <tr>\n",
       "      <th>0</th>\n",
       "      <td>3900001.0</td>\n",
       "    </tr>\n",
       "    <tr>\n",
       "      <th>1</th>\n",
       "      <td>4987000.0</td>\n",
       "    </tr>\n",
       "    <tr>\n",
       "      <th>2</th>\n",
       "      <td>4200000.0</td>\n",
       "    </tr>\n",
       "    <tr>\n",
       "      <th>3</th>\n",
       "      <td>4480000.0</td>\n",
       "    </tr>\n",
       "    <tr>\n",
       "      <th>4</th>\n",
       "      <td>3800000.0</td>\n",
       "    </tr>\n",
       "  </tbody>\n",
       "</table>\n",
       "</div>"
      ],
      "text/plain": [
       "       Price\n",
       "0  3900001.0\n",
       "1  4987000.0\n",
       "2  4200000.0\n",
       "3  4480000.0\n",
       "4  3800000.0"
      ]
     },
     "metadata": {},
     "output_type": "display_data"
    }
   ],
   "source": [
    "X = cleaned_df.drop('Price', axis = 1)\n",
    "Y = cleaned_df[['Price']]\n",
    "\n",
    "print('Independent Variables: ')\n",
    "display(X.head(5))\n",
    "print('-'*100)\n",
    "print('Dependent Variables: ')\n",
    "display(Y.head(5))"
   ]
  },
  {
   "cell_type": "markdown",
   "metadata": {},
   "source": [
    "#### 3.3. Define Train and Test Set <br>"
   ]
  },
  {
   "cell_type": "code",
   "execution_count": 17,
   "metadata": {},
   "outputs": [],
   "source": [
    "X_train, X_test, y_train, y_test = split_dataset(cleaned_df, X, Y) "
   ]
  },
  {
   "cell_type": "markdown",
   "metadata": {},
   "source": [
    "#### 3.3. Model Building <br>"
   ]
  },
  {
   "cell_type": "markdown",
   "metadata": {},
   "source": [
    "#### 3.3.1. Multiple Linear Regression <br>"
   ]
  },
  {
   "cell_type": "markdown",
   "metadata": {},
   "source": [
    "#### Accuracy Test\n",
    "Quantifying the accuracy of the model is an important step to justifying the usage of the model.\n",
    "\n",
    "As shown below, the model has an accuracy of 93.78% for the train set and 84.45% for the test set. Thus, implies that the predictions and usage of the model linear regression to our data is 93.78% accurate for the train set and 84.45% for the test set."
   ]
  },
  {
   "cell_type": "code",
   "execution_count": 18,
   "metadata": {},
   "outputs": [
    {
     "name": "stdout",
     "output_type": "stream",
     "text": [
      "Accuracy Train: 93.78%\n",
      "Accuracy Test: 84.45%\n"
     ]
    }
   ],
   "source": [
    "# create a Linear Regression model object\n",
    "regression_model = LinearRegression()\n",
    "\n",
    "# pass through the X_train & y_train data set\n",
    "regression_model.fit(X_train, y_train)\n",
    "\n",
    "accuracy_train = get_accuracy_score(regression_model, X_train, y_train)\n",
    "accuracy_test = get_accuracy_score(regression_model, X_test, y_test)\n",
    "\n",
    "print('Accuracy Train: {0:.2f}%'.format(accuracy_train * 100))\n",
    "print('Accuracy Test: {0:.2f}%'.format(accuracy_test * 100))"
   ]
  },
  {
   "cell_type": "markdown",
   "metadata": {},
   "source": [
    "#### Predictions\n",
    "Applying predictions is a good way to improve more and determine if the model is not only itself accurate but also diverse. <br><br>As shown below, in the first row, we predicted a value of P4,355,528 if all independent variables were to be 1 and P4,474,800 if all independent variables were to be 2 and so on and so forth. In addtion, the model has an R Squared of 84% which implies that the model is a good fit to our data"
   ]
  },
  {
   "cell_type": "code",
   "execution_count": 19,
   "metadata": {},
   "outputs": [
    {
     "name": "stdout",
     "output_type": "stream",
     "text": [
      "----------------------------------------------------------------------------------------------------\n",
      "Predictions:\n"
     ]
    },
    {
     "data": {
      "text/plain": [
       "array([[4355528.33250099],\n",
       "       [4474800.65023242],\n",
       "       [3926629.15459845],\n",
       "       [3835382.94510465],\n",
       "       [5240095.34950777]])"
      ]
     },
     "metadata": {},
     "output_type": "display_data"
    },
    {
     "name": "stdout",
     "output_type": "stream",
     "text": [
      "R Squared: 0.84\n"
     ]
    }
   ],
   "source": [
    "# Get multiple predictions\n",
    "y_predictions= get_predictions(regression_model, X_test)\n",
    "\n",
    "# Show the first 5 predictions\n",
    "print('-'*100)\n",
    "print('Predictions:')\n",
    "display(y_predictions[:5])\n",
    "\n",
    "model_r2 = r2_score(y_test, y_predictions)\n",
    "print(\"R Squared: {:.2}\".format(model_r2))"
   ]
  },
  {
   "cell_type": "markdown",
   "metadata": {},
   "source": [
    "#### Prediction Errors\n",
    "One of the simplest methods for calculating the correctness of a model is to use the error between predicted value and actual value. MSE is the average squared difference between the estimated values and the actual value, MAE tells us how big of an error we can expect from the forecast on average and lastly, RMSE is the square root of average value of squared error in a set of predicted values, without considering direction. <br><br>As shown below, with the fact that RMSE is higher than the MAE, this implies that there is a variation in the magnitude of errors and very large errors are unlikely to have occured.Thus, with RMSE not being too much high than MAE, implies that there is no outlier in the data"
   ]
  },
  {
   "cell_type": "code",
   "execution_count": 20,
   "metadata": {},
   "outputs": [
    {
     "name": "stdout",
     "output_type": "stream",
     "text": [
      "Multiple Regression Prediction Errors: \n",
      "Mean Squared Error 422186027888.23083\n",
      "Mean Absolute Error 470159.0225516364\n",
      "Root Mean Squared Error 649758.4381046782\n"
     ]
    }
   ],
   "source": [
    "model_mse, model_mae, model_rmse = get_errors(y_test, y_predictions)\n",
    "\n",
    "print(\"Multiple Regression Prediction Errors: \")\n",
    "print(\"Mean Squared Error {0}\".format(model_mse))\n",
    "print(\"Mean Absolute Error {0}\".format(model_mae))\n",
    "print(\"Root Mean Squared Error {0}\".format(model_rmse))"
   ]
  },
  {
   "cell_type": "markdown",
   "metadata": {},
   "source": [
    "#### 3.3.2 Decision Tree "
   ]
  },
  {
   "cell_type": "markdown",
   "metadata": {},
   "source": [
    "#### Gini Index and Entropy Accuracy Test\n",
    "Quantifying the accuracy of the model is an important step to justifying the usage of the model. Gini index or Gini impurity measures the degree or probability of a particular variable being wrongly classified when it is randomly chosen. While entropy measure how “mixed” a column is. In this case, we measured the accuracy of the model through gini index and entropy.<br><br> As shown below, it is undeniable that the test set's predictions are not that precise for it only got low accuracy score. However, the train set produced a high accuracy score which means the predcitions are 97.89% correct"
   ]
  },
  {
   "cell_type": "code",
   "execution_count": 21,
   "metadata": {},
   "outputs": [
    {
     "name": "stdout",
     "output_type": "stream",
     "text": [
      "Entropy Accuracy Train: 97.89%\n",
      "Entropy Accuracy Test: 26.67%\n",
      "----------------------------------------------------------------------------------------------------\n",
      "Gini Accuracy Train: 97.89%\n",
      "Gini Accuracy Test: 31.67%\n"
     ]
    }
   ],
   "source": [
    "# Decision tree with entropy, gini\n",
    "decision_entropy_model = DecisionTreeClassifier(criterion = \"entropy\",random_state = 100,)\n",
    "decision_gini_model = DecisionTreeClassifier(criterion = \"gini\", random_state = 100,) \n",
    "\n",
    "decision_entropy_model.fit(X_train, y_train)\n",
    "decision_gini_model.fit(X_train, y_train) \n",
    "\n",
    "accuracy_train_entropy = get_accuracy_score(decision_entropy_model, X_train, y_train)\n",
    "accuracy_test_entropy = get_accuracy_score(decision_entropy_model, X_test, y_test)\n",
    "accuracy_train_gini = get_accuracy_score(decision_gini_model, X_train, y_train)\n",
    "accuracy_test_gini = get_accuracy_score(decision_gini_model, X_test, y_test)\n",
    "\n",
    "print('Entropy Accuracy Train: {0:.2f}%'.format(accuracy_train_entropy * 100))\n",
    "print('Entropy Accuracy Test: {0:.2f}%'.format(accuracy_test_entropy * 100))\n",
    "print('-'*100)\n",
    "print('Gini Accuracy Train: {0:.2f}%'.format(accuracy_train_gini * 100))\n",
    "print('Gini Accuracy Test: {0:.2f}%'.format(accuracy_test_gini * 100))\n",
    "\n",
    "y_train_predictions_entropy = get_predictions(decision_entropy_model, X_train)\n",
    "y_test_predictions_entropy = get_predictions(decision_entropy_model, X_test)\n",
    "y_train_predictions_gini = get_predictions(decision_gini_model, X_train)\n",
    "y_test_predictions_gini= get_predictions(decision_gini_model, X_test)"
   ]
  },
  {
   "cell_type": "markdown",
   "metadata": {},
   "source": [
    "#### Gini and Entropy Prediction Errors\n",
    "One of the simplest methods for calculating the correctness of a model is to use the error between predicted value and actual value. MSE is the average squared difference between the estimated values and the actual value, MAE tells us how big of an error we can expect from the forecast on average and lastly, RMSE is the square root of average value of squared error in a set of predicted values, without considering direction. <br><br>As shown below, with the fact that RMSE is higher than the MAE, this implies that there is variation in the magnitude of errors and very large errors are unlikely to have occured.Thus, with RMSE not being too much high than MAE, implies that there is no outlier in the data."
   ]
  },
  {
   "cell_type": "code",
   "execution_count": 22,
   "metadata": {},
   "outputs": [
    {
     "name": "stdout",
     "output_type": "stream",
     "text": [
      "Decision Tree (Gini) Prediction Errors: \n",
      "Mean Squared Error 269573796181.68332\n",
      "Mean Absolute Error 286638.11666666664\n",
      "Root Mean Squared Error 519204.96548249933\n",
      "----------------------------------------------------------------------------------------------------\n",
      "Decision Tree (Entropy) Prediction Errors: \n",
      "Mean Squared Error 205486024793.6\n",
      "Mean Absolute Error 246998.1\n",
      "Root Mean Squared Error 453305.6637563665\n"
     ]
    }
   ],
   "source": [
    "model_mse, model_mae, model_rmse = get_errors(y_test, y_test_predictions_gini)\n",
    "\n",
    "print(\"Decision Tree (Gini) Prediction Errors: \")\n",
    "print(\"Mean Squared Error {0}\".format(model_mse))\n",
    "print(\"Mean Absolute Error {0}\".format(model_mae))\n",
    "print(\"Root Mean Squared Error {0}\".format(model_rmse))\n",
    "\n",
    "print('-'*100)\n",
    "\n",
    "model_mse, model_mae, model_rmse = get_errors(y_test, y_test_predictions_entropy)\n",
    "print(\"Decision Tree (Entropy) Prediction Errors: \")\n",
    "print(\"Mean Squared Error {0}\".format(model_mse))\n",
    "print(\"Mean Absolute Error {0}\".format(model_mae))\n",
    "print(\"Root Mean Squared Error {0}\".format(model_rmse))"
   ]
  },
  {
   "cell_type": "markdown",
   "metadata": {},
   "source": [
    "#### 3.3.3. Random Forest<br>"
   ]
  },
  {
   "cell_type": "markdown",
   "metadata": {},
   "source": [
    "#### Accuracy Test\n",
    "The accuracy of the model is an important step to justifying the usage of the model. Random Forest uses multiple models of several DTs to obtain a better prediction performance. It creates many classification trees and a bootstrap sample technique is used to train each tree from the set of training data. \n",
    "<br><br> As shown below, the model has an accuracy of 99.45% for the train set and 94.51% for the test set. Thus, implies that the predictions and usage of the model random forest to our data is 99.45% accurate for the train set and 94.51% for the test set."
   ]
  },
  {
   "cell_type": "code",
   "execution_count": 23,
   "metadata": {},
   "outputs": [
    {
     "name": "stdout",
     "output_type": "stream",
     "text": [
      "Accuracy Train: 99.45435402762185%\n",
      "Accuracy Test: 94.51481948652155%\n"
     ]
    }
   ],
   "source": [
    "random_forest_model = RandomForestRegressor(n_estimators = 100, random_state = 0)\n",
    "random_forest_model.fit(X_train, y_train.values.flatten())  \n",
    "\n",
    "accuracy_train = get_accuracy_score(random_forest_model,X_train,y_train)\n",
    "accuracy_test = get_accuracy_score(random_forest_model,X_test,y_test)\n",
    "\n",
    "print('Accuracy Train: {0}%'.format(accuracy_train * 100))\n",
    "print('Accuracy Test: {0}%'.format(accuracy_test * 100))"
   ]
  },
  {
   "cell_type": "markdown",
   "metadata": {},
   "source": [
    "#### Prediction Errors\n",
    "One of the simplest methods for calculating the correctness of a model is to use the error between predicted value and actual value. MSE is the average squared difference between the estimated values and the actual value, MAE tells us how big of an error we can expect from the forecast on average and lastly, RMSE is the square root of average value of squared error in a set of predicted values, without considering direction. <br><br>As shown below, with the fact that RMSE is higher than the MAE, this implies that there is variation in the magnitude of errors and very large errors are unlikely to have occured.Thus, with RMSE not being too much high than MAE, implies that there is no outlier in the data."
   ]
  },
  {
   "cell_type": "code",
   "execution_count": 24,
   "metadata": {},
   "outputs": [
    {
     "name": "stdout",
     "output_type": "stream",
     "text": [
      "Decision Tree (Gini) Prediction Errors: \n",
      "Mean Squared Error 148880943875.0694\n",
      "Mean Absolute Error 236761.9166944445\n",
      "Root Mean Squared Error 385850.93478579185\n"
     ]
    }
   ],
   "source": [
    "# Get multiple predictions\n",
    "y_predictions= get_predictions(random_forest_model, X_test)\n",
    "\n",
    "model_mse, model_mae, model_rmse = get_errors(y_test, y_predictions)\n",
    "\n",
    "print(\"Decision Tree (Gini) Prediction Errors: \")\n",
    "print(\"Mean Squared Error {0}\".format(model_mse))\n",
    "print(\"Mean Absolute Error {0}\".format(model_mae))\n",
    "print(\"Root Mean Squared Error {0}\".format(model_rmse))"
   ]
  },
  {
   "cell_type": "markdown",
   "metadata": {},
   "source": [
    "#### 3.3.4. Multi Layer Perceptron Model <br>"
   ]
  },
  {
   "cell_type": "markdown",
   "metadata": {},
   "source": [
    "#### Accuracy Test\n",
    "The accuracy of the model is an important step to justifying the usage of the model. A multilayer perceptron is a neural network connecting multiple layers in a directed graph, which means that the signal path through the nodes only goes one way.\n",
    "\n",
    "As shown below, it is undeniable that the model is not a good fit to our data as it only have less than 11% of accuracy score. Thus, these values of accuracy scores imply that the predictions and usage of the model multi layer perceptron to our data is only 8.86% accurate for the train set and 10% accurate for the test set."
   ]
  },
  {
   "cell_type": "code",
   "execution_count": 25,
   "metadata": {},
   "outputs": [
    {
     "name": "stdout",
     "output_type": "stream",
     "text": [
      "Accuracy Train: 8.860759493670885%\n",
      "Accuracy Test: 10.0%\n"
     ]
    }
   ],
   "source": [
    "mlp_model = MLPClassifier(random_state=1, max_iter=300)\n",
    "mlp_model.fit(X_train, y_train.values.flatten())\n",
    "\n",
    "# accuracy percentage\n",
    "accuracy_train = get_accuracy_score(mlp_model,X_train,y_train)\n",
    "accuracy_test = get_accuracy_score(mlp_model,X_test,y_test)\n",
    "\n",
    "print('Accuracy Train: {0}%'.format(accuracy_train * 100))\n",
    "print('Accuracy Test: {0}%'.format(accuracy_test * 100))"
   ]
  },
  {
   "cell_type": "markdown",
   "metadata": {},
   "source": [
    "#### Prediction Errors\n",
    "One of the simplest methods for calculating the correctness of a model is to use the error between predicted value and actual value. MSE is the average squared difference between the estimated values and the actual value, MAE tells us how big of an error we can expect from the forecast on average and lastly, RMSE is the square root of average value of squared error in a set of predicted values, without considering direction. <br><br>\n",
    "As shown below, with the fact that RMSE is higher than the MAE, this implies that there is variation in the magnitude of errors and very large errors are unlikely to have occured.Thus, with RMSE not being too much high than MAE, implies that there is no outlier in the data."
   ]
  },
  {
   "cell_type": "code",
   "execution_count": 26,
   "metadata": {},
   "outputs": [
    {
     "name": "stdout",
     "output_type": "stream",
     "text": [
      "Decision Tree (Gini) Prediction Errors: \n",
      "Mean Squared Error 9288676982848.316\n",
      "Mean Absolute Error 2301333.316666667\n",
      "Root Mean Squared Error 3047733.0891743647\n"
     ]
    }
   ],
   "source": [
    "# Get multiple predictions\n",
    "y_predictions= get_predictions(mlp_model, X_test)\n",
    "\n",
    "model_mse, model_mae, model_rmse = get_errors(y_test, y_predictions)\n",
    "\n",
    "print(\"Decision Tree (Gini) Prediction Errors: \")\n",
    "print(\"Mean Squared Error {0}\".format(model_mse))\n",
    "print(\"Mean Absolute Error {0}\".format(model_mae))\n",
    "print(\"Root Mean Squared Error {0}\".format(model_rmse))"
   ]
  },
  {
   "cell_type": "markdown",
   "metadata": {},
   "source": [
    "#### 3.3.5. KMeans Clustering <br>"
   ]
  },
  {
   "cell_type": "markdown",
   "metadata": {},
   "source": [
    "#### Accuracy Test\n",
    "The accuracy of the model is an important step to justifying the usage of the model. K-means algorithm identifies k number of centroids, and then allocates every data point to the nearest cluster, while keeping the centroids as small as possible\n",
    "<br><br>\n",
    "As shown below, it is undeniable that the model is not a good fit to our data as it have extreme negative values of accuracy score. Thus, these values of accuracy scores imply that the predictions and usage of the model multi layer perceptron to our data is -1949802617711777.8% accurate for the train set and -666073314398989.8% accurate for the test set."
   ]
  },
  {
   "cell_type": "code",
   "execution_count": 27,
   "metadata": {},
   "outputs": [
    {
     "name": "stdout",
     "output_type": "stream",
     "text": [
      "Accuracy Train: -1949802617711777.8%\n",
      "Accuracy Test: -666073314398989.8%\n"
     ]
    }
   ],
   "source": [
    "# n_clusters=The number of clusters to form as well as the number of centroids to generate.\n",
    "kmeans = KMeans(n_clusters=2)\n",
    "kmeans.fit(X_train, y_train)\n",
    "\n",
    "# accuracy percentage\n",
    "accuracy_train = kmeans.score(X_train,y_train)\n",
    "accuracy_test = kmeans.score(X_test,y_test)\n",
    "\n",
    "print('Accuracy Train: {0}%'.format(accuracy_train * 100))\n",
    "print('Accuracy Test: {0}%'.format(accuracy_test * 100))"
   ]
  },
  {
   "cell_type": "markdown",
   "metadata": {},
   "source": [
    "#### Prediction Errors\n",
    "One of the simplest methods for calculating the correctness of a model is to use the error between predicted value and actual value. MSE is the average squared difference between the estimated values and the actual value, MAE tells us how big of an error we can expect from the forecast on average and lastly, RMSE is the square root of average value of squared error in a set of predicted values, without considering direction. <br><br>\n",
    "As shown below, with the fact that RMSE is higher than the MAE, this implies that there is variation in the magnitude of errors and very large errors are unlikely to have occured. Thus, with RMSE not being too much high than MAE, implies that there is no outlier in the data."
   ]
  },
  {
   "cell_type": "code",
   "execution_count": 28,
   "metadata": {},
   "outputs": [
    {
     "name": "stdout",
     "output_type": "stream",
     "text": [
      "Decision Tree (Gini) Prediction Errors: \n",
      "Mean Squared Error 14860775841848.482\n",
      "Mean Absolute Error 3485188.0166666666\n",
      "Root Mean Squared Error 3854967.6836321834\n"
     ]
    }
   ],
   "source": [
    "# Get multiple predictions\n",
    "y_predictions= get_predictions(kmeans, X_test)\n",
    "\n",
    "model_mse, model_mae, model_rmse = get_errors(y_test, y_predictions)\n",
    "\n",
    "print(\"Decision Tree (Gini) Prediction Errors: \")\n",
    "print(\"Mean Squared Error {0}\".format(model_mse))\n",
    "print(\"Mean Absolute Error {0}\".format(model_mae))\n",
    "print(\"Root Mean Squared Error {0}\".format(model_rmse))"
   ]
  },
  {
   "cell_type": "markdown",
   "metadata": {},
   "source": [
    "#### Model Conclusion\n",
    "Among the five models conducted, two of them passed the 80% accuracy score requirements which includes the models multiple linear regression and random forest. However, the models decision tree, multi layer perceptron and Kmeans clustering didn't passs for they only have below 80% accuracy score. Thus, speaking of good fit, it seems that the model random forest would possibly be the best model due to the fact that it have extremely high accuracy score."
   ]
  },
  {
   "cell_type": "markdown",
   "metadata": {},
   "source": [
    "<br>"
   ]
  },
  {
   "cell_type": "markdown",
   "metadata": {},
   "source": [
    "<br>"
   ]
  },
  {
   "cell_type": "markdown",
   "metadata": {},
   "source": [
    "### 4. Model Evaluation\n",
    "\n",
    "&nbsp;&nbsp;&nbsp;&nbsp; 4.1. Import Libraries <br>\n",
    "&nbsp;&nbsp;&nbsp;&nbsp; 4.2. Checking for Heteroscedasticity <br>\n",
    "&nbsp;&nbsp;&nbsp;&nbsp; 4.3. Checking for Autocorrelation <br>\n",
    "&nbsp;&nbsp;&nbsp;&nbsp; 4.4. Checking the Mean of the Residuals Equals 0 <br>\n",
    "&nbsp;&nbsp;&nbsp;&nbsp; 4.5. Confidence Intervals <br>\n",
    "&nbsp;&nbsp;&nbsp;&nbsp; 4.6. Remove the Insignificant Variables. <br>\n",
    "&nbsp;&nbsp;&nbsp;&nbsp; 4.7. Create a Summary of the Model Output <br>\n",
    "&nbsp;&nbsp;&nbsp;&nbsp; 4.8. Rerun the Model <br>"
   ]
  },
  {
   "cell_type": "markdown",
   "metadata": {},
   "source": [
    "<br>"
   ]
  },
  {
   "cell_type": "markdown",
   "metadata": {},
   "source": [
    "#### 4.1. Import Libraries"
   ]
  },
  {
   "cell_type": "code",
   "execution_count": 29,
   "metadata": {},
   "outputs": [],
   "source": [
    "import statsmodels.api as sm\n",
    "from statsmodels.stats import diagnostic as diag\n",
    "from statsmodels.stats.outliers_influence import variance_inflation_factor"
   ]
  },
  {
   "cell_type": "code",
   "execution_count": 30,
   "metadata": {},
   "outputs": [],
   "source": [
    "# define our intput\n",
    "X2 = sm.add_constant(X)\n",
    "\n",
    "# create a OLS model\n",
    "model = sm.OLS(Y, X2)\n",
    "\n",
    "# fit the data\n",
    "est = model.fit()"
   ]
  },
  {
   "cell_type": "markdown",
   "metadata": {},
   "source": [
    "#### 4.2 Checking for Heteroscedasticity"
   ]
  },
  {
   "cell_type": "code",
   "execution_count": 31,
   "metadata": {},
   "outputs": [
    {
     "name": "stdout",
     "output_type": "stream",
     "text": [
      "9.39927184017732e-11 9.640915831308153e-13\n",
      "----------------------------------------------------------------------------------------------------\n",
      "For the Breusch-Pagan's Test\n",
      "The p-value was 9.399e-11\n",
      "We reject the null hypthoesis, so there is heterosecdasticity.\n"
     ]
    }
   ],
   "source": [
    "# Run the Breusch-Pagan test\n",
    "_, pval, __, f_pval = diag.het_breuschpagan(est.resid, est.model.exog)\n",
    "print(pval, f_pval)\n",
    "print('-'*100)\n",
    "\n",
    "# print the results of the test\n",
    "if pval > 0.05:\n",
    "    print(\"For the Breusch-Pagan's Test\")\n",
    "    print(\"The p-value was {:.4}\".format(pval))\n",
    "    print(\"We fail to reject the null hypthoesis, so there is no heterosecdasticity.\")\n",
    "\n",
    "else:\n",
    "    print(\"For the Breusch-Pagan's Test\")\n",
    "    print(\"The p-value was {:.4}\".format(pval))\n",
    "    print(\"We reject the null hypthoesis, so there is heterosecdasticity.\")"
   ]
  },
  {
   "cell_type": "markdown",
   "metadata": {},
   "source": [
    "#### 4.3 Checking for Autocorrelation"
   ]
  },
  {
   "cell_type": "code",
   "execution_count": 32,
   "metadata": {},
   "outputs": [
    {
     "name": "stdout",
     "output_type": "stream",
     "text": [
      "The number of lags will be 10\n",
      "----------------------------------------------------------------------------------------------------\n",
      "The lowest p-value found was 0.578\n",
      "We fail to reject the null hypthoesis, so there is no autocorrelation.\n",
      "----------------------------------------------------------------------------------------------------\n"
     ]
    },
    {
     "name": "stderr",
     "output_type": "stream",
     "text": [
      "C:\\Users\\Rosalijos\\anaconda3\\lib\\site-packages\\statsmodels\\stats\\diagnostic.py:559: FutureWarning: The value returned will change to a single DataFrame after 0.12 is released.  Set return_df to True to use to return a DataFrame now.  Set return_df to False to silence this warning.\n",
      "  warnings.warn(msg, FutureWarning)\n"
     ]
    },
    {
     "data": {
      "image/png": "[encoded data removed]",
      "text/plain": [
       "<Figure size 432x288 with 1 Axes>"
      ]
     },
     "metadata": {
      "needs_background": "light"
     },
     "output_type": "display_data"
    }
   ],
   "source": [
    "# test for autocorrelation\n",
    "from statsmodels.stats.stattools import durbin_watson\n",
    "\n",
    "# calculate the lag, optional\n",
    "lag = min(10, (len(X)//5))\n",
    "print('The number of lags will be {}'.format(lag))\n",
    "print('-'*100)\n",
    "\n",
    "# run the Ljung-Box test for no autocorrelation of residuals\n",
    "# test_results = diag.acorr_breusch_godfrey(est, nlags = lag, store = True)\n",
    "test_results = diag.acorr_ljungbox(est.resid, lags = lag)\n",
    "\n",
    "# grab the p-values and the test statistics\n",
    "ibvalue, p_val = test_results\n",
    "\n",
    "# print the results of the test\n",
    "if min(p_val) > 0.05:\n",
    "    print(\"The lowest p-value found was {:.4}\".format(min(p_val)))\n",
    "    print(\"We fail to reject the null hypthoesis, so there is no autocorrelation.\")\n",
    "    print('-'*100)\n",
    "else:\n",
    "    print(\"The lowest p-value found was {:.4}\".format(min(p_val)))\n",
    "    print(\"We reject the null hypthoesis, so there is autocorrelation.\")\n",
    "    print('-'*100)\n",
    "\n",
    "# plot autocorrelation\n",
    "sm.graphics.tsa.plot_acf(est.resid)\n",
    "plt.show()"
   ]
  },
  {
   "cell_type": "markdown",
   "metadata": {},
   "source": [
    "#### 4.4 Checking the Mean of the Residuals Equals 0"
   ]
  },
  {
   "cell_type": "code",
   "execution_count": 33,
   "metadata": {},
   "outputs": [
    {
     "data": {
      "image/png": "[encoded data removed]",
      "text/plain": [
       "<Figure size 432x288 with 1 Axes>"
      ]
     },
     "metadata": {
      "needs_background": "light"
     },
     "output_type": "display_data"
    },
    {
     "name": "stdout",
     "output_type": "stream",
     "text": [
      "The mean of the residuals is -0.0001267\n"
     ]
    }
   ],
   "source": [
    "import pylab\n",
    "\n",
    "# check for the normality of the residuals\n",
    "sm.qqplot(est.resid, line='s')\n",
    "pylab.show()\n",
    "\n",
    "# also check that the mean of the residuals is approx. 0.\n",
    "mean_residuals = sum(est.resid)/ len(est.resid)\n",
    "print(\"The mean of the residuals is {:.4}\".format(mean_residuals))"
   ]
  },
  {
   "cell_type": "markdown",
   "metadata": {},
   "source": [
    "#### 4.5 Confidence Intervals"
   ]
  },
  {
   "cell_type": "code",
   "execution_count": 34,
   "metadata": {},
   "outputs": [
    {
     "data": {
      "text/html": [
       "<div>\n",
       "<style scoped>\n",
       "    .dataframe tbody tr th:only-of-type {\n",
       "        vertical-align: middle;\n",
       "    }\n",
       "\n",
       "    .dataframe tbody tr th {\n",
       "        vertical-align: top;\n",
       "    }\n",
       "\n",
       "    .dataframe thead th {\n",
       "        text-align: right;\n",
       "    }\n",
       "</style>\n",
       "<table border=\"1\" class=\"dataframe\">\n",
       "  <thead>\n",
       "    <tr style=\"text-align: right;\">\n",
       "      <th></th>\n",
       "      <th>0</th>\n",
       "      <th>1</th>\n",
       "    </tr>\n",
       "  </thead>\n",
       "  <tbody>\n",
       "    <tr>\n",
       "      <th>const</th>\n",
       "      <td>1.854956e+06</td>\n",
       "      <td>2.936102e+06</td>\n",
       "    </tr>\n",
       "    <tr>\n",
       "      <th>Bedrooms</th>\n",
       "      <td>1.545751e+05</td>\n",
       "      <td>4.666655e+05</td>\n",
       "    </tr>\n",
       "    <tr>\n",
       "      <th>Bathrooms</th>\n",
       "      <td>-2.227447e+04</td>\n",
       "      <td>2.975933e+05</td>\n",
       "    </tr>\n",
       "    <tr>\n",
       "      <th>Floor</th>\n",
       "      <td>-3.392178e+05</td>\n",
       "      <td>5.570461e+04</td>\n",
       "    </tr>\n",
       "    <tr>\n",
       "      <th>Floors Area</th>\n",
       "      <td>5.972496e+03</td>\n",
       "      <td>1.230931e+04</td>\n",
       "    </tr>\n",
       "    <tr>\n",
       "      <th>Lot Area</th>\n",
       "      <td>6.065708e+03</td>\n",
       "      <td>1.511252e+04</td>\n",
       "    </tr>\n",
       "    <tr>\n",
       "      <th>Garage</th>\n",
       "      <td>-3.855893e+05</td>\n",
       "      <td>1.515594e+05</td>\n",
       "    </tr>\n",
       "    <tr>\n",
       "      <th>Reservation Fee</th>\n",
       "      <td>-1.029680e+00</td>\n",
       "      <td>-9.590410e-01</td>\n",
       "    </tr>\n",
       "    <tr>\n",
       "      <th>Location_Quezon City</th>\n",
       "      <td>-4.047983e+05</td>\n",
       "      <td>-3.075453e+04</td>\n",
       "    </tr>\n",
       "    <tr>\n",
       "      <th>Location_Pasig City</th>\n",
       "      <td>-5.489165e+05</td>\n",
       "      <td>2.394923e+05</td>\n",
       "    </tr>\n",
       "    <tr>\n",
       "      <th>Location_Muntinlupa City</th>\n",
       "      <td>-4.525627e+05</td>\n",
       "      <td>2.195191e+05</td>\n",
       "    </tr>\n",
       "    <tr>\n",
       "      <th>Location_Marikina City</th>\n",
       "      <td>-3.398130e+05</td>\n",
       "      <td>6.540220e+04</td>\n",
       "    </tr>\n",
       "    <tr>\n",
       "      <th>Location_Paranaque City</th>\n",
       "      <td>-3.032662e+05</td>\n",
       "      <td>1.470351e+05</td>\n",
       "    </tr>\n",
       "    <tr>\n",
       "      <th>Location_Caloocan City</th>\n",
       "      <td>-1.016215e+06</td>\n",
       "      <td>-5.557769e+05</td>\n",
       "    </tr>\n",
       "    <tr>\n",
       "      <th>Location_Taguig City</th>\n",
       "      <td>-1.226543e+06</td>\n",
       "      <td>2.272429e+05</td>\n",
       "    </tr>\n",
       "    <tr>\n",
       "      <th>Location_Manila City</th>\n",
       "      <td>-4.491824e+05</td>\n",
       "      <td>1.586490e+06</td>\n",
       "    </tr>\n",
       "    <tr>\n",
       "      <th>Garden_yes</th>\n",
       "      <td>-1.263588e+05</td>\n",
       "      <td>1.335223e+05</td>\n",
       "    </tr>\n",
       "    <tr>\n",
       "      <th>Pet_Friendly_yes</th>\n",
       "      <td>-1.501902e+05</td>\n",
       "      <td>1.538526e+05</td>\n",
       "    </tr>\n",
       "  </tbody>\n",
       "</table>\n",
       "</div>"
      ],
      "text/plain": [
       "                                     0             1\n",
       "const                     1.854956e+06  2.936102e+06\n",
       "Bedrooms                  1.545751e+05  4.666655e+05\n",
       "Bathrooms                -2.227447e+04  2.975933e+05\n",
       "Floor                    -3.392178e+05  5.570461e+04\n",
       "Floors Area               5.972496e+03  1.230931e+04\n",
       "Lot Area                  6.065708e+03  1.511252e+04\n",
       "Garage                   -3.855893e+05  1.515594e+05\n",
       "Reservation Fee          -1.029680e+00 -9.590410e-01\n",
       "Location_Quezon City     -4.047983e+05 -3.075453e+04\n",
       "Location_Pasig City      -5.489165e+05  2.394923e+05\n",
       "Location_Muntinlupa City -4.525627e+05  2.195191e+05\n",
       "Location_Marikina City   -3.398130e+05  6.540220e+04\n",
       "Location_Paranaque City  -3.032662e+05  1.470351e+05\n",
       "Location_Caloocan City   -1.016215e+06 -5.557769e+05\n",
       "Location_Taguig City     -1.226543e+06  2.272429e+05\n",
       "Location_Manila City     -4.491824e+05  1.586490e+06\n",
       "Garden_yes               -1.263588e+05  1.335223e+05\n",
       "Pet_Friendly_yes         -1.501902e+05  1.538526e+05"
      ]
     },
     "execution_count": 34,
     "metadata": {},
     "output_type": "execute_result"
    }
   ],
   "source": [
    "# make some confidence intervals, 95% by default\n",
    "est.conf_int()"
   ]
  },
  {
   "cell_type": "markdown",
   "metadata": {},
   "source": [
    "#### 4.5 Hypothesis Testing"
   ]
  },
  {
   "cell_type": "code",
   "execution_count": 35,
   "metadata": {},
   "outputs": [
    {
     "data": {
      "text/plain": [
       "const                        2.489753e-16\n",
       "Bedrooms                     1.121627e-04\n",
       "Bathrooms                    9.131584e-02\n",
       "Floor                        1.587173e-01\n",
       "Floors Area                  3.396379e-08\n",
       "Lot Area                     6.186427e-06\n",
       "Garage                       3.918187e-01\n",
       "Reservation Fee             1.287112e-152\n",
       "Location_Quezon City         2.263813e-02\n",
       "Location_Pasig City          4.404298e-01\n",
       "Location_Muntinlupa City     4.954410e-01\n",
       "Location_Marikina City       1.835977e-01\n",
       "Location_Paranaque City      4.951938e-01\n",
       "Location_Caloocan City       1.016247e-10\n",
       "Location_Taguig City         1.771174e-01\n",
       "Location_Manila City         2.723756e-01\n",
       "Garden_yes                   9.567661e-01\n",
       "Pet_Friendly_yes             9.810994e-01\n",
       "dtype: float64"
      ]
     },
     "execution_count": 35,
     "metadata": {},
     "output_type": "execute_result"
    }
   ],
   "source": [
    "# estimate the p-values\n",
    "est.pvalues"
   ]
  },
  {
   "cell_type": "markdown",
   "metadata": {},
   "source": [
    "#### 4.6 Remove the Insignificant Variables"
   ]
  },
  {
   "cell_type": "code",
   "execution_count": 36,
   "metadata": {},
   "outputs": [],
   "source": [
    "# define our input variable (X) & output variable\n",
    "cleaned_df = cleaned_df.drop(['Bathrooms', 'Lot Area','Garden_yes','Pet_Friendly_yes', 'Location_Manila City', 'Location_Taguig City', 'Location_Paranaque City', 'Location_Marikina City', 'Location_Muntinlupa City', 'Location_Pasig City', 'Location_Quezon City', 'Garage'], axis = 1)\n",
    "\n",
    "X = cleaned_df.drop('Price', axis = 1)\n",
    "Y = cleaned_df[['Price']]"
   ]
  },
  {
   "cell_type": "markdown",
   "metadata": {},
   "source": [
    "#### 4.7 Create a Summary of the Model Output"
   ]
  },
  {
   "cell_type": "code",
   "execution_count": 37,
   "metadata": {},
   "outputs": [
    {
     "name": "stdout",
     "output_type": "stream",
     "text": [
      "                            OLS Regression Results                            \n",
      "==============================================================================\n",
      "Dep. Variable:                  Price   R-squared:                       0.918\n",
      "Model:                            OLS   Adj. R-squared:                  0.917\n",
      "Method:                 Least Squares   F-statistic:                     651.7\n",
      "Date:                Mon, 22 Mar 2021   Prob (F-statistic):          1.05e-155\n",
      "Time:                        00:45:57   Log-Likelihood:                -4321.1\n",
      "No. Observations:                 297   AIC:                             8654.\n",
      "Df Residuals:                     291   BIC:                             8676.\n",
      "Df Model:                           5                                         \n",
      "Covariance Type:            nonrobust                                         \n",
      "==========================================================================================\n",
      "                             coef    std err          t      P>|t|      [0.025      0.975]\n",
      "------------------------------------------------------------------------------------------\n",
      "const                   3.121e+06   2.21e+05     14.116      0.000    2.69e+06    3.56e+06\n",
      "Bedrooms                2.885e+05   6.49e+04      4.446      0.000    1.61e+05    4.16e+05\n",
      "Floor                  -2.236e+05   9.86e+04     -2.268      0.024   -4.18e+05   -2.96e+04\n",
      "Floors Area             1.117e+04   1519.975      7.349      0.000    8178.822    1.42e+04\n",
      "Reservation Fee           -0.9996      0.018    -55.851      0.000      -1.035      -0.964\n",
      "Location_Caloocan City -5.681e+05   1.02e+05     -5.572      0.000   -7.69e+05   -3.67e+05\n",
      "==============================================================================\n",
      "Omnibus:                        9.925   Durbin-Watson:                   1.900\n",
      "Prob(Omnibus):                  0.007   Jarque-Bera (JB):               10.029\n",
      "Skew:                          -0.419   Prob(JB):                      0.00664\n",
      "Kurtosis:                       2.671   Cond. No.                     1.52e+07\n",
      "==============================================================================\n",
      "\n",
      "Notes:\n",
      "[1] Standard Errors assume that the covariance matrix of the errors is correctly specified.\n",
      "[2] The condition number is large, 1.52e+07. This might indicate that there are\n",
      "strong multicollinearity or other numerical problems.\n"
     ]
    }
   ],
   "source": [
    "# define our intput\n",
    "X2 = sm.add_constant(X)\n",
    "\n",
    "# create a OLS model\n",
    "model = sm.OLS(Y, X2)\n",
    "\n",
    "# fit the data\n",
    "est = model.fit()\n",
    "\n",
    "print(est.summary())"
   ]
  },
  {
   "cell_type": "markdown",
   "metadata": {},
   "source": [
    "#### 4.8. Rerun the model"
   ]
  },
  {
   "cell_type": "code",
   "execution_count": 38,
   "metadata": {},
   "outputs": [
    {
     "name": "stdout",
     "output_type": "stream",
     "text": [
      "Accuracy Train: 92.39%\n",
      "Accuracy Test: 87.79%\n"
     ]
    }
   ],
   "source": [
    "# Split X and y into X_\n",
    "X_train, X_test, y_train, y_test = train_test_split(X, Y, test_size=0.20, random_state=100)\n",
    "\n",
    "# create a Linear Regression model object\n",
    "regression_model = LinearRegression()\n",
    "\n",
    "# pass through the X_train & y_train data set\n",
    "regression_model.fit(X_train, y_train)\n",
    "\n",
    "accuracy_train = get_accuracy_score(regression_model, X_train, y_train)\n",
    "accuracy_test = get_accuracy_score(regression_model, X_test, y_test)\n",
    "\n",
    "print('Accuracy Train: {0:.2f}%'.format(accuracy_train * 100))\n",
    "print('Accuracy Test: {0:.2f}%'.format(accuracy_test * 100))"
   ]
  },
  {
   "cell_type": "code",
   "execution_count": 39,
   "metadata": {},
   "outputs": [
    {
     "name": "stdout",
     "output_type": "stream",
     "text": [
      "The intercept for our model is 3118202.3278661845\n",
      "----------------------------------------------------------------------------------------------------\n",
      "The Coefficient for Bedrooms is 197915.4269633186\n",
      "The Coefficient for Floor is -223952.12784119212\n",
      "The Coefficient for Floors Area is 14194.182521065384\n",
      "The Coefficient for Reservation Fee is -0.9929930695798248\n",
      "The Coefficient for Location_Caloocan City is -370219.5650726784\n"
     ]
    }
   ],
   "source": [
    "# let's grab the coefficient of our model and the intercept\n",
    "intercept = regression_model.intercept_[0]\n",
    "coefficent = regression_model.coef_[0][0]\n",
    "\n",
    "print(\"The intercept for our model is {0}\".format(intercept))\n",
    "print('-'*100)\n",
    "\n",
    "# loop through the dictionary and print the data\n",
    "for coef in zip(X.columns, regression_model.coef_[0]):\n",
    "    print(\"The Coefficient for {0} is {1}\".format(coef[0],coef[1]))"
   ]
  },
  {
   "cell_type": "code",
   "execution_count": 40,
   "metadata": {},
   "outputs": [
    {
     "name": "stdout",
     "output_type": "stream",
     "text": [
      "----------------------------------------------------------------------------------------------------\n",
      "Predictions:\n"
     ]
    },
    {
     "data": {
      "text/plain": [
       "array([[4513132.41492751],\n",
       "       [4477676.94396958],\n",
       "       [4017139.15502182],\n",
       "       [3798560.73833531],\n",
       "       [4685215.97063088]])"
      ]
     },
     "metadata": {},
     "output_type": "display_data"
    },
    {
     "name": "stdout",
     "output_type": "stream",
     "text": [
      "R Squared: 0.88\n"
     ]
    }
   ],
   "source": [
    "# Get multiple predictions\n",
    "y_predictions= get_predictions(regression_model, X_test)\n",
    "\n",
    "# Show the first 5 predictions\n",
    "print('-'*100)\n",
    "print('Predictions:')\n",
    "display(y_predictions[:5])\n",
    "\n",
    "model_r2 = r2_score(y_test, y_predictions)\n",
    "print(\"R Squared: {:.2}\".format(model_r2))"
   ]
  },
  {
   "cell_type": "markdown",
   "metadata": {},
   "source": [
    "<h4>Regression Model based on Training Set </h4><br><br>\n",
    "<strong>a. Intercept and Coefficients</strong><br><br>\n",
    "y-intercept: <strong>3118202.3275</strong> <br>\n",
    "x1:Bedrooms: <strong>197915.4230</strong>  <br>\n",
    "x2:Floor: <strong>-223952.1278</strong> <br>\n",
    "x3:Floors Area: <strong>14194.1825</strong> <br>\n",
    "x4:Reservation Fee: <strong>-0.9930</strong> <br>\n",
    "x5:Location Caloocan City: <strong>-370219.5651</strong> <br>\n",
    "\n",
    "<strong>b. Regression Equation</strong><br>\n",
    "\n",
    "y = 3118202.3275 + 197915.4230<strong>x1</strong> - 223952.1278<strong>x2</strong> + 14194.1825<strong>x3</strong> - 0.9930<strong>x4</strong> - 370219.5651<strong>x5</strong>\n",
    "\n",
    "Outside Caloocan City: <br>\n",
    "y = 3118202.3275 + 197915.4230<strong>x1</strong> - 223952.1278<strong>x2</strong> + 14194.1825<strong>x3</strong> - 0.9930<strong>x4</strong>\n",
    "\n",
    "Within Caloocan City: <br>\n",
    "y = 2747982.7624 + 197915.4230<strong>x1</strong> - 223952.1278<strong>x2</strong> + 14194.1825<strong>x3</strong> - 0.9930<strong>x4</strong>\n",
    "\n",
    "<strong>c. Coefficient of Determination</strong>: 88%"
   ]
  },
  {
   "cell_type": "markdown",
   "metadata": {},
   "source": [
    "<br>"
   ]
  },
  {
   "cell_type": "markdown",
   "metadata": {},
   "source": [
    "<br>"
   ]
  },
  {
   "cell_type": "markdown",
   "metadata": {},
   "source": [
    "### 5. Results and Key Findings"
   ]
  },
  {
   "cell_type": "code",
   "execution_count": null,
   "metadata": {},
   "outputs": [],
   "source": []
  }
 ],
 "metadata": {
  "kernelspec": {
   "display_name": "Python 3",
   "language": "python",
   "name": "python3"
  },
  "language_info": {
   "codemirror_mode": {
    "name": "ipython",
    "version": 3
   },
   "file_extension": ".py",
   "mimetype": "text/x-python",
   "name": "python",
   "nbconvert_exporter": "python",
   "pygments_lexer": "ipython3",
   "version": "3.8.5"
  }
 },
 "nbformat": 4,
 "nbformat_minor": 4
}
